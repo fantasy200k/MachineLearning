{
 "cells": [
  {
   "cell_type": "code",
   "execution_count": 1,
   "metadata": {},
   "outputs": [
    {
     "name": "stdout",
     "output_type": "stream",
     "text": [
      "Om Gam Ganapataye Namah\n"
     ]
    }
   ],
   "source": [
    "print(\"Om Gam Ganapataye Namah\")"
   ]
  },
  {
   "cell_type": "code",
   "execution_count": 2,
   "metadata": {},
   "outputs": [],
   "source": [
    "# now its time to create our first convnet , this is for the purpose of getting familiar with CNN architectures. \n",
    "# we will talk about how to boost its perfo later "
   ]
  },
  {
   "cell_type": "code",
   "execution_count": null,
   "metadata": {},
   "outputs": [],
   "source": [
    "# We know what multi-class classification is — it’s the problem of classifying each instance\n",
    "# of data into one of two or more classes. In a multi-class setting, the classes are mutually \n",
    "# exclusive which means a single instance of data can belong to one and only class. It cannot \n",
    "# belong to more than one class of target variables at the same time! A typical example of a\n",
    "# multi-class classification is that a person can either be a male, female\n",
    "# or a transgender but it cannot be all three at the same time. You get the idea!\n",
    "\n",
    "\n",
    "\n",
    "# In case of multi-label classification tasks, a single instance of data can simultaneously \n",
    "# belong to two or more classes of target variables. Hence, we can say that the predicted \n",
    "# classes are not mutually exclusive.\n",
    "\n",
    "\n",
    "# For example, a movie can belong to either of these genres — crime, adventure, thriller, \n",
    "# drama or it can belong to all four of them simultaneously. Remember Dark Knight Rises?\n",
    "# (It’s one of my most favorite movie though!) So the key takeaway is, in a multi-label \n",
    "# classification problems there is no constraint on how many classes each of the data instances can be assigned to!\n",
    "\n",
    "# That same news is present under the categories of India, Technology, Latest etc. because it has been classified into these different labels. Thus making it a multi label classification problem.\n",
    "\n",
    "# https://medium.com/@saugata.paul1010/a-detailed-case-study-on-multi-label-classification-with-machine-learning-algorithms-and-72031742c9aas"
   ]
  },
  {
   "cell_type": "markdown",
   "metadata": {},
   "source": [
    "# Applying Convolutional Neural Network on the MNIST dataset\n",
    "\n",
    "* Convolutional Neural Networks have changed the way we classify images. It is being used in \n",
    "* almost all the computer vision tasks. From 2012, CNN’s have ruled the Imagenet competition, \n",
    "* dropping the classification error rate each year. MNIST is the most studied dataset (link).\n",
    "\n",
    "* The state of the art result for MNIST dataset has an accuracy of 99.79%. In this article, we\n",
    "* will achieve an accuracy of 99.55%"
   ]
  },
  {
   "cell_type": "markdown",
   "metadata": {},
   "source": [
    "# What is the MNIST dataset?\n",
    "\n",
    "\"database of handwritten digits that has a training set of 60,000 examples, and a test set of 10,000 examples. It is a subset of a larger set available from NIST. The digits have been size-normalized and centered in a fixed-size image\".\n",
    "\n",
    "* MNIST dataset contains images of handwritten digits. It has 60,000 grayscale images under \n",
    "* the training set and 10,000 grayscale images under the test set. We will use the Keras library \n",
    "* with Tensorflow backend to classify the images."
   ]
  },
  {
   "cell_type": "markdown",
   "metadata": {},
   "source": [
    "### There are many popular CNN architectures which can be used to achieve better   accuracy on MNIST dataset, some of these architectures are:\n",
    "\n",
    "VGG[4]\n",
    "\n",
    "Resnet[5]\n",
    "\n",
    "LeNet-5[6]\n",
    "### https://mohitatgithub.github.io/2018-03-28-MNIST-Image-Classification-with-CNN-&-Keras/"
   ]
  },
  {
   "cell_type": "code",
   "execution_count": null,
   "metadata": {},
   "outputs": [],
   "source": [
    "## We know, In each Conv Layer the network tries to understand the basic patterns. \n",
    "# For example: In the First layer, the network tries to learn patterns and edges. \n",
    "# In the second layer, it tries to understand the shape/color and other stuff. \n",
    "# A final layer called Feature layer/Fully Connected Layer tries to classify the image."
   ]
  },
  {
   "cell_type": "code",
   "execution_count": 2,
   "metadata": {},
   "outputs": [],
   "source": [
    "import matplotlib.pyplot as plt\n",
    "%matplotlib inline\n",
    "import numpy as np\n",
    "import warnings\n",
    "warnings.filterwarnings('ignore')\n",
    "\n",
    "import tensorflow as tf\n",
    "from tensorflow.keras.callbacks import TensorBoard\n",
    "import keras\n",
    "from keras.datasets import mnist\n",
    "from keras.models import Sequential, load_model\n",
    "from keras.layers import Dense, Dropout,Flatten, Conv2D, MaxPooling2D\n",
    "from keras.preprocessing.image import ImageDataGenerator"
   ]
  },
  {
   "cell_type": "code",
   "execution_count": null,
   "metadata": {},
   "outputs": [],
   "source": [
    "'''\n",
    "The MNIST dataset\n",
    "This is probably one of the most popular datasets among machine learning and deep learning enthusiasts. The MNIST dataset contains 60,000 training images of handwritten digits from zero to nine and 10,000 images for testing. So, the MNIST dataset has 10 different classes. The handwritten digits images are represented as a 28×28 matrix where each cell contains grayscale pixel value.\n",
    "'''"
   ]
  },
  {
   "cell_type": "code",
   "execution_count": 3,
   "metadata": {},
   "outputs": [],
   "source": [
    "# Import the MNIST dataset using TensorFlow built-in feature\n",
    "(x_train,y_train),(x_test,y_test)=mnist.load_data()\n",
    "# The variable x_test contains pictures on which we will check whether\n",
    "# the taught neural network can correctly recognize a digit that it has not seen before (on which it did not learn)\n",
    "\n",
    "#  To check if the neural network has correctly evaluated the content of the image, we must \n",
    "# also have labels for the test set, which are located in the variable y_test. "
   ]
  },
  {
   "cell_type": "code",
   "execution_count": 4,
   "metadata": {},
   "outputs": [
    {
     "name": "stdout",
     "output_type": "stream",
     "text": [
      "Training data shape:  (60000, 28, 28)\n",
      "Testing data shape :  (10000, 28, 28)\n"
     ]
    }
   ],
   "source": [
    "print('Training data shape: ', x_train.shape)\n",
    "print('Testing data shape : ', x_test.shape)"
   ]
  },
  {
   "cell_type": "code",
   "execution_count": 5,
   "metadata": {},
   "outputs": [
    {
     "data": {
      "image/png": "[encoded data removed]",
      "text/plain": [
       "<Figure size 432x288 with 1 Axes>"
      ]
     },
     "metadata": {
      "needs_background": "light"
     },
     "output_type": "display_data"
    }
   ],
   "source": [
    "plt.imshow(x_train[0], cmap=plt.get_cmap('gray'))\n",
    "plt.show()"
   ]
  },
  {
   "cell_type": "markdown",
   "metadata": {},
   "source": [
    "## Preprocess the data\n",
    "* The image data cannot be fed directly into the model so we need to perform some operations and \n",
    "* process the data to make it ready for our neural network. The dimension of the training data is (60000,28,28).\n",
    "* The CNN model will require one more dimension so we reshape the matrix to shape (60000,28,28,1)."
   ]
  },
  {
   "cell_type": "code",
   "execution_count": null,
   "metadata": {},
   "outputs": [],
   "source": [
    "# The shape of X_train is (60000, 28, 28). Each image has 28 x 28 resolution. \n",
    "#The shape of X_test is (10000, 28, 28).\n",
    "\n",
    "# The input shape that a CNN accepts should be in a specific format. \n",
    "#If you are using Tensorflow, the format should be (batch, height, width, channels). \n",
    "# If you are using Theano, the format should be (batch, channels, height, width)."
   ]
  },
  {
   "cell_type": "code",
   "execution_count": 6,
   "metadata": {},
   "outputs": [
    {
     "name": "stdout",
     "output_type": "stream",
     "text": [
      "x_train shape: (60000, 28, 28, 1)\n",
      "60000 train samples\n",
      "10000 test samples\n"
     ]
    }
   ],
   "source": [
    "# To work with the Keras API, we need to reshape each image to the format of (M x N x 1).\n",
    "\n",
    "x_train = x_train.reshape(60000,28,28,1)\n",
    "x_test = x_test.reshape(10000,28,28,1)\n",
    "\n",
    "print('x_train shape:', x_train.shape)\n",
    "print(x_train.shape[0], 'train samples')\n",
    "print(x_test.shape[0], 'test samples')"
   ]
  },
  {
   "cell_type": "code",
   "execution_count": 7,
   "metadata": {},
   "outputs": [
    {
     "name": "stdout",
     "output_type": "stream",
     "text": [
      "(28, 28, 1) train samples\n"
     ]
    }
   ],
   "source": [
    "print(x_train[0].shape, 'train samples')\n",
    "# By default, the shape of every image in the mnist dataset is 28 x 28, so we will not need to check the shape of all the images"
   ]
  },
  {
   "cell_type": "code",
   "execution_count": null,
   "metadata": {},
   "outputs": [],
   "source": [
    "# The last number is 1, which signifies that the images are greyscale."
   ]
  },
  {
   "cell_type": "code",
   "execution_count": 9,
   "metadata": {},
   "outputs": [
    {
     "name": "stdout",
     "output_type": "stream",
     "text": [
      "[5 0 4 ... 5 6 8]\n"
     ]
    }
   ],
   "source": [
    "print(y_train)"
   ]
  },
  {
   "cell_type": "code",
   "execution_count": 8,
   "metadata": {},
   "outputs": [],
   "source": [
    "batch_size = 128\n",
    "num_classes = 10\n",
    "epochs = 2 # n machine learning, a parameter often referred to as epochs appears – \n",
    "# it specifies how many times the training set will be used in the learning process.\n",
    "# Here, to teach a neural network, we will go through a training set 10 times, which means that \n",
    "# the network will see 600,000 data samples in total.\n",
    "\n",
    "# We have to specify how many times we want to iterate on the whole training set (epochs) \n",
    "# and how many samples we use for one update to the model's weights (batch size)."
   ]
  },
  {
   "cell_type": "code",
   "execution_count": 9,
   "metadata": {},
   "outputs": [],
   "source": [
    "tensorboard = TensorBoard(log_dir=\"C:/Users/Home/logs\",write_images=True)\n",
    "\n",
    "# tensorboard --logdir C:\\\\users\\welcome\\logs   --->> correct one \n",
    "\n",
    "#  tensorboard dev upload --logdir \\\n",
    "#       'C:\\\\users\\welcome\\logs'     ---> syntax\n",
    "\n",
    "#tensorboard = TensorBoard(log_dir='/logs',write_images=True)\n",
    "#! tensorboard --log_dir='/logs'   # dont specify the path in quotes in windows"
   ]
  },
  {
   "cell_type": "code",
   "execution_count": 10,
   "metadata": {},
   "outputs": [
    {
     "name": "stdout",
     "output_type": "stream",
     "text": [
      "x_train shape: (60000, 28, 28, 1)\n",
      "60000 train samples\n",
      "10000 test samples\n"
     ]
    }
   ],
   "source": [
    "# input image dimensions\n",
    "img_rows, img_cols = 28, 28\n",
    "\n",
    "# the data, split between train and test sets\n",
    "(x_train, y_train), (x_test, y_test) = mnist.load_data()\n",
    "\n",
    "x_train = x_train.reshape(60000,28,28,1)\n",
    "x_test = x_test.reshape(10000,28,28,1)\n",
    "\n",
    "print('x_train shape:', x_train.shape)\n",
    "print(x_train.shape[0], 'train samples')\n",
    "print(x_test.shape[0], 'test samples')"
   ]
  },
  {
   "cell_type": "code",
   "execution_count": null,
   "metadata": {},
   "outputs": [],
   "source": [
    "'''\n",
    "The pixel values are gray scale between 0 and 255. It is almost always a good idea to perform some\n",
    "scaling of input values when using neural network models. Because the scale is well known and\n",
    "well behaved, we can very quickly normalize the pixel values to the range 0 and 1 by dividing \n",
    "each value by the maximum of 255.\n",
    "'''"
   ]
  },
  {
   "cell_type": "code",
   "execution_count": 55,
   "metadata": {},
   "outputs": [],
   "source": [
    "#As expected, the pixel values range from 0 to 255: the background majority close to 0, and those close to 255 representing the digit.\n",
    "\n",
    "#Normalizing the input data helps to speed up the training. Also, it reduces the chance of getting stuck in local optima, since we're using stochastic gradient descent to find the optimal weights for the network.\n",
    "\n",
    "#Let's reshape our inputs to a single vector vector and normalize the pixel values to lie between 0 and 1."
   ]
  },
  {
   "cell_type": "code",
   "execution_count": 11,
   "metadata": {},
   "outputs": [],
   "source": [
    "# normalize inputs from 0-255 to 0-1\n",
    "x_train = x_train / 255\n",
    "x_test = x_test / 255"
   ]
  },
  {
   "cell_type": "code",
   "execution_count": 14,
   "metadata": {
    "collapsed": true
   },
   "outputs": [
    {
     "data": {
      "text/plain": [
       "array([[[[0.],\n",
       "         [0.],\n",
       "         [0.],\n",
       "         ...,\n",
       "         [0.],\n",
       "         [0.],\n",
       "         [0.]],\n",
       "\n",
       "        [[0.],\n",
       "         [0.],\n",
       "         [0.],\n",
       "         ...,\n",
       "         [0.],\n",
       "         [0.],\n",
       "         [0.]],\n",
       "\n",
       "        [[0.],\n",
       "         [0.],\n",
       "         [0.],\n",
       "         ...,\n",
       "         [0.],\n",
       "         [0.],\n",
       "         [0.]],\n",
       "\n",
       "        ...,\n",
       "\n",
       "        [[0.],\n",
       "         [0.],\n",
       "         [0.],\n",
       "         ...,\n",
       "         [0.],\n",
       "         [0.],\n",
       "         [0.]],\n",
       "\n",
       "        [[0.],\n",
       "         [0.],\n",
       "         [0.],\n",
       "         ...,\n",
       "         [0.],\n",
       "         [0.],\n",
       "         [0.]],\n",
       "\n",
       "        [[0.],\n",
       "         [0.],\n",
       "         [0.],\n",
       "         ...,\n",
       "         [0.],\n",
       "         [0.],\n",
       "         [0.]]],\n",
       "\n",
       "\n",
       "       [[[0.],\n",
       "         [0.],\n",
       "         [0.],\n",
       "         ...,\n",
       "         [0.],\n",
       "         [0.],\n",
       "         [0.]],\n",
       "\n",
       "        [[0.],\n",
       "         [0.],\n",
       "         [0.],\n",
       "         ...,\n",
       "         [0.],\n",
       "         [0.],\n",
       "         [0.]],\n",
       "\n",
       "        [[0.],\n",
       "         [0.],\n",
       "         [0.],\n",
       "         ...,\n",
       "         [0.],\n",
       "         [0.],\n",
       "         [0.]],\n",
       "\n",
       "        ...,\n",
       "\n",
       "        [[0.],\n",
       "         [0.],\n",
       "         [0.],\n",
       "         ...,\n",
       "         [0.],\n",
       "         [0.],\n",
       "         [0.]],\n",
       "\n",
       "        [[0.],\n",
       "         [0.],\n",
       "         [0.],\n",
       "         ...,\n",
       "         [0.],\n",
       "         [0.],\n",
       "         [0.]],\n",
       "\n",
       "        [[0.],\n",
       "         [0.],\n",
       "         [0.],\n",
       "         ...,\n",
       "         [0.],\n",
       "         [0.],\n",
       "         [0.]]],\n",
       "\n",
       "\n",
       "       [[[0.],\n",
       "         [0.],\n",
       "         [0.],\n",
       "         ...,\n",
       "         [0.],\n",
       "         [0.],\n",
       "         [0.]],\n",
       "\n",
       "        [[0.],\n",
       "         [0.],\n",
       "         [0.],\n",
       "         ...,\n",
       "         [0.],\n",
       "         [0.],\n",
       "         [0.]],\n",
       "\n",
       "        [[0.],\n",
       "         [0.],\n",
       "         [0.],\n",
       "         ...,\n",
       "         [0.],\n",
       "         [0.],\n",
       "         [0.]],\n",
       "\n",
       "        ...,\n",
       "\n",
       "        [[0.],\n",
       "         [0.],\n",
       "         [0.],\n",
       "         ...,\n",
       "         [0.],\n",
       "         [0.],\n",
       "         [0.]],\n",
       "\n",
       "        [[0.],\n",
       "         [0.],\n",
       "         [0.],\n",
       "         ...,\n",
       "         [0.],\n",
       "         [0.],\n",
       "         [0.]],\n",
       "\n",
       "        [[0.],\n",
       "         [0.],\n",
       "         [0.],\n",
       "         ...,\n",
       "         [0.],\n",
       "         [0.],\n",
       "         [0.]]],\n",
       "\n",
       "\n",
       "       ...,\n",
       "\n",
       "\n",
       "       [[[0.],\n",
       "         [0.],\n",
       "         [0.],\n",
       "         ...,\n",
       "         [0.],\n",
       "         [0.],\n",
       "         [0.]],\n",
       "\n",
       "        [[0.],\n",
       "         [0.],\n",
       "         [0.],\n",
       "         ...,\n",
       "         [0.],\n",
       "         [0.],\n",
       "         [0.]],\n",
       "\n",
       "        [[0.],\n",
       "         [0.],\n",
       "         [0.],\n",
       "         ...,\n",
       "         [0.],\n",
       "         [0.],\n",
       "         [0.]],\n",
       "\n",
       "        ...,\n",
       "\n",
       "        [[0.],\n",
       "         [0.],\n",
       "         [0.],\n",
       "         ...,\n",
       "         [0.],\n",
       "         [0.],\n",
       "         [0.]],\n",
       "\n",
       "        [[0.],\n",
       "         [0.],\n",
       "         [0.],\n",
       "         ...,\n",
       "         [0.],\n",
       "         [0.],\n",
       "         [0.]],\n",
       "\n",
       "        [[0.],\n",
       "         [0.],\n",
       "         [0.],\n",
       "         ...,\n",
       "         [0.],\n",
       "         [0.],\n",
       "         [0.]]],\n",
       "\n",
       "\n",
       "       [[[0.],\n",
       "         [0.],\n",
       "         [0.],\n",
       "         ...,\n",
       "         [0.],\n",
       "         [0.],\n",
       "         [0.]],\n",
       "\n",
       "        [[0.],\n",
       "         [0.],\n",
       "         [0.],\n",
       "         ...,\n",
       "         [0.],\n",
       "         [0.],\n",
       "         [0.]],\n",
       "\n",
       "        [[0.],\n",
       "         [0.],\n",
       "         [0.],\n",
       "         ...,\n",
       "         [0.],\n",
       "         [0.],\n",
       "         [0.]],\n",
       "\n",
       "        ...,\n",
       "\n",
       "        [[0.],\n",
       "         [0.],\n",
       "         [0.],\n",
       "         ...,\n",
       "         [0.],\n",
       "         [0.],\n",
       "         [0.]],\n",
       "\n",
       "        [[0.],\n",
       "         [0.],\n",
       "         [0.],\n",
       "         ...,\n",
       "         [0.],\n",
       "         [0.],\n",
       "         [0.]],\n",
       "\n",
       "        [[0.],\n",
       "         [0.],\n",
       "         [0.],\n",
       "         ...,\n",
       "         [0.],\n",
       "         [0.],\n",
       "         [0.]]],\n",
       "\n",
       "\n",
       "       [[[0.],\n",
       "         [0.],\n",
       "         [0.],\n",
       "         ...,\n",
       "         [0.],\n",
       "         [0.],\n",
       "         [0.]],\n",
       "\n",
       "        [[0.],\n",
       "         [0.],\n",
       "         [0.],\n",
       "         ...,\n",
       "         [0.],\n",
       "         [0.],\n",
       "         [0.]],\n",
       "\n",
       "        [[0.],\n",
       "         [0.],\n",
       "         [0.],\n",
       "         ...,\n",
       "         [0.],\n",
       "         [0.],\n",
       "         [0.]],\n",
       "\n",
       "        ...,\n",
       "\n",
       "        [[0.],\n",
       "         [0.],\n",
       "         [0.],\n",
       "         ...,\n",
       "         [0.],\n",
       "         [0.],\n",
       "         [0.]],\n",
       "\n",
       "        [[0.],\n",
       "         [0.],\n",
       "         [0.],\n",
       "         ...,\n",
       "         [0.],\n",
       "         [0.],\n",
       "         [0.]],\n",
       "\n",
       "        [[0.],\n",
       "         [0.],\n",
       "         [0.],\n",
       "         ...,\n",
       "         [0.],\n",
       "         [0.],\n",
       "         [0.]]]])"
      ]
     },
     "execution_count": 14,
     "metadata": {},
     "output_type": "execute_result"
    }
   ],
   "source": [
    "x_test"
   ]
  },
  {
   "cell_type": "code",
   "execution_count": 46,
   "metadata": {},
   "outputs": [
    {
     "name": "stdout",
     "output_type": "stream",
     "text": [
      "(array([0., 1.], dtype=float32), array([540000,  60000], dtype=int64))\n"
     ]
    }
   ],
   "source": [
    "# So far the truth (Y in machine learning lingo) we'll use for training still holds integer values from 0 to 9.\n",
    "\n",
    "print(np.unique(y_train, return_counts=True))"
   ]
  },
  {
   "cell_type": "code",
   "execution_count": null,
   "metadata": {},
   "outputs": [],
   "source": [
    "# Let's encode our categories - digits from 0 to 9 - using one-hot encoding. \n",
    "# The result is a vector with a length equal to the number of categories. The vector is all \n",
    "# zeroes except in the position for the respective category. Thus a '5' will be represented by [0,0,0,0,1,0,0,0,0]."
   ]
  },
  {
   "cell_type": "code",
   "execution_count": null,
   "metadata": {},
   "outputs": [],
   "source": [
    "# We need to ‘one-hot-encode’ our target variable. This means that a column will be created \n",
    "# for each output category and a binary variable is inputted for each category. \n",
    "# For example, we saw that the first image in the dataset is a 5. This means that the sixth number \n",
    "#in our array will have a 1 and the rest of the array will be filled with 0."
   ]
  },
  {
   "cell_type": "code",
   "execution_count": 12,
   "metadata": {},
   "outputs": [],
   "source": [
    "# convert class vectors to binary class matrices\n",
    "y_train = keras.utils.to_categorical(y_train, num_classes)\n",
    "y_test = keras.utils.to_categorical(y_test, num_classes)"
   ]
  },
  {
   "cell_type": "code",
   "execution_count": 18,
   "metadata": {},
   "outputs": [
    {
     "data": {
      "text/plain": [
       "array([[0., 0., 0., ..., 0., 0., 0.],\n",
       "       [1., 0., 0., ..., 0., 0., 0.],\n",
       "       [0., 0., 0., ..., 0., 0., 0.],\n",
       "       ...,\n",
       "       [0., 0., 0., ..., 0., 0., 0.],\n",
       "       [0., 0., 0., ..., 0., 0., 0.],\n",
       "       [0., 0., 0., ..., 0., 1., 0.]], dtype=float32)"
      ]
     },
     "execution_count": 18,
     "metadata": {},
     "output_type": "execute_result"
    }
   ],
   "source": [
    "y_train"
   ]
  },
  {
   "cell_type": "code",
   "execution_count": 149,
   "metadata": {},
   "outputs": [
    {
     "data": {
      "text/plain": [
       "576"
      ]
     },
     "execution_count": 149,
     "metadata": {},
     "output_type": "execute_result"
    }
   ],
   "source": [
    "28 * 28\n",
    "9*64"
   ]
  },
  {
   "cell_type": "markdown",
   "metadata": {},
   "source": [
    "### For this network architecture we can use the Keras Sequential Model. We can stack layers using the .add() method"
   ]
  },
  {
   "cell_type": "markdown",
   "metadata": {},
   "source": [
    "### In order to introduce nonlinearities into the network and elevate it beyond the capabilities of a simple perceptron we also add activation functions to the hidden layers. The differentiation for the training via backpropagation is happening behind the scenes without having to implement the details."
   ]
  },
  {
   "cell_type": "code",
   "execution_count": null,
   "metadata": {},
   "outputs": [],
   "source": [
    "* The input vector dimension is given only for the first layer, because the size of the input vectors for \n",
    "* subsequent ones will be calculated automatically based on the number of neurons in subsequent layers.\n",
    "* each layer as the first argument takes the size of the output vector for the layer. As you can see from\n",
    "* the model below, the first layer accepts 784 parameters and outputs 1024. The next one must naturally\n",
    "* intakes 1024 (therefore for the next ones we do not have to specify the size of the input vector) and emits 128, etc.\n",
    "* the number of layers and the size of the output vectors from each layer are arbitrary, but it should be \n",
    "* remembered that the last layer must emit: 1 value for regression (because we predict one value) or n values for the n-class classification. For binary classification it will be 2. In our case, we have 10 classes, so it is a value of 10."
   ]
  },
  {
   "cell_type": "markdown",
   "metadata": {},
   "source": [
    "## The five steps in the life-cycle are as follows:\n",
    "\n",
    "* Define the model.\n",
    "* Compile the model.\n",
    "* Fit the model.\n",
    "* Evaluate the model.\n",
    "* Make predictions.\n",
    "* Let’s take a closer look at each step in turn. *"
   ]
  },
  {
   "cell_type": "markdown",
   "metadata": {},
   "source": [
    "# Define a model"
   ]
  },
  {
   "cell_type": "code",
   "execution_count": 15,
   "metadata": {},
   "outputs": [],
   "source": [
    "# To create the model, we first initialize a sequential model. It creates an empty model object.\n",
    "# The model type that we will be using is Sequential. \n",
    "# Sequential is the easiest way to build a model in Keras. It allows you to build a model layer by layer.\n",
    "model = Sequential()\n",
    "# The first step is to add a convolutional layer which takes the input image:\n",
    "\n",
    "# Keras expects the first layer to be informed of the shape of the input vector. \n",
    "# You can use the input_shape parameter, which expects a tuple consisting of the input vector dimension\n",
    "\n",
    "# Keras allows us to specify the number of filters we want and the size of the filters.\n",
    "# So, in our first layer, 32 is number of filters and (3, 3) is the size of the filter. \n",
    "# 64 in the first layer and 32 in the second layer are the number of nodes in each layer. This number can be adjusted \n",
    "# to be higher or lower, depending on the size of the dataset. In our case, 64 and 32 work well, so we\n",
    "# will stick with this for now.\n",
    "\n",
    "# We also need to specify the shape of the input which is (28, 28, 1), but we have to specify it only once.\n",
    "# Layer 1 \n",
    "# the input shape 28x28x1 and we will rocess 32 filters of size 3x3 over input data. we will also applied the \n",
    "# activation function relu to theoutput of each convoution operation\n",
    "# the next set of layers do very similar things but take as input the feature map from the prev layer \n",
    "# Conv2D: this method creates a convolutional layer. The first parameter is the filter count, \n",
    "# and the second one is the filter size. For example in the first convolution layer we create 32 filters of size 3x3\n",
    "\n",
    "#model.add(Conv2D(1, kernel_size=(3, 3),\n",
    "    #             activation='relu',\n",
    "        #         input_shape=(28,28,1)))\n",
    "#\n",
    "#model.get_weights()\n",
    "#model.kernel_size"
   ]
  },
  {
   "cell_type": "code",
   "execution_count": 108,
   "metadata": {},
   "outputs": [],
   "source": [
    "# define a vertical line detector\n",
    "vlineDet = [[[[0]],[[1]],[[0]]],\n",
    "            [[[0]],[[1]],[[0]]],\n",
    "            [[[0]],[[1]],[[0]]]]\n",
    "weights = [np.asarray(vlineDet), np.asarray([0.0])]\n",
    "# store the weights in the model\n",
    "model.set_weights(weights)"
   ]
  },
  {
   "cell_type": "code",
   "execution_count": 40,
   "metadata": {
    "collapsed": true
   },
   "outputs": [
    {
     "data": {
      "text/plain": [
       "[array([[[[ 0.12476896,  0.08174485, -0.06657714, -0.10124413,\n",
       "           -0.07854723,  0.07004842, -0.07593303, -0.07280076,\n",
       "           -0.09521513,  0.09047836,  0.06894808, -0.03536412,\n",
       "           -0.03604501, -0.08731219,  0.02588451,  0.04838005,\n",
       "            0.11865993, -0.04395049,  0.09961154,  0.10861908,\n",
       "            0.08014916,  0.11550729, -0.09222423,  0.12334092,\n",
       "           -0.00163083, -0.06483394,  0.12600537,  0.01644716,\n",
       "            0.07535566,  0.12270541, -0.0134646 ,  0.12189411]],\n",
       " \n",
       "         [[-0.08766097,  0.06594127, -0.1162606 , -0.0264734 ,\n",
       "            0.07644317,  0.13059779, -0.08578703, -0.12917174,\n",
       "            0.02137204, -0.0918979 ,  0.03300735, -0.04323246,\n",
       "           -0.03240287, -0.03886458, -0.11469144, -0.10158876,\n",
       "            0.10355392,  0.07070005,  0.00939541, -0.03623387,\n",
       "           -0.10741813, -0.02675378,  0.10431537,  0.0495555 ,\n",
       "           -0.01708156,  0.07265083, -0.0557232 , -0.13018839,\n",
       "           -0.11880787, -0.13864551,  0.13672112, -0.08330397]],\n",
       " \n",
       "         [[-0.1203739 ,  0.02593388,  0.00347285, -0.11069531,\n",
       "            0.08838636, -0.09179538,  0.0488079 , -0.08151875,\n",
       "            0.10875861, -0.04565269, -0.00663589, -0.03632076,\n",
       "           -0.12102902,  0.08752182, -0.04809498,  0.11360355,\n",
       "            0.04232143, -0.09875917,  0.03888088, -0.1124746 ,\n",
       "           -0.06332267,  0.08181292,  0.11384843,  0.02763411,\n",
       "           -0.03602685, -0.09371253,  0.1248344 , -0.02776675,\n",
       "            0.09414399, -0.04253241, -0.11419418, -0.05131672]]],\n",
       " \n",
       " \n",
       "        [[[-0.10595213, -0.02994686,  0.01288983, -0.07727981,\n",
       "           -0.08793236, -0.08613227, -0.10714269, -0.08415095,\n",
       "            0.07337861,  0.07203592, -0.05039942,  0.13859628,\n",
       "            0.07500069, -0.0555466 ,  0.12557606,  0.10885362,\n",
       "           -0.10811889,  0.00570822, -0.11660509, -0.08899762,\n",
       "           -0.01902334,  0.08183159,  0.08269453,  0.06235488,\n",
       "           -0.03653533, -0.00072648,  0.00314952, -0.0254949 ,\n",
       "            0.01847474,  0.05461514,  0.07255442, -0.01158087]],\n",
       " \n",
       "         [[ 0.00290343, -0.0518274 ,  0.12139474,  0.05236119,\n",
       "            0.02537623,  0.13108175, -0.081204  , -0.04268491,\n",
       "           -0.13798973,  0.0175043 , -0.10022344,  0.11246438,\n",
       "            0.03882442, -0.03159568,  0.00612806, -0.00149409,\n",
       "            0.04762246,  0.12744297,  0.07906435,  0.06965259,\n",
       "           -0.00350991, -0.12011074, -0.06055929, -0.14120676,\n",
       "           -0.13330762,  0.00484335, -0.03458664,  0.10866846,\n",
       "           -0.09812541, -0.12347274,  0.10528225, -0.0525676 ]],\n",
       " \n",
       "         [[-0.09569687, -0.10304229,  0.13092826,  0.12112458,\n",
       "            0.02063614, -0.12682623,  0.08209944,  0.01853068,\n",
       "            0.13121702, -0.14184527, -0.08816992,  0.00735654,\n",
       "            0.09156679,  0.0329445 , -0.09332232, -0.11911082,\n",
       "            0.10012205,  0.03653829,  0.02365692,  0.02188841,\n",
       "            0.00709736,  0.05603702,  0.12940566,  0.12215386,\n",
       "           -0.07650203, -0.08962369, -0.09943803, -0.0659591 ,\n",
       "            0.00076002,  0.11627723, -0.03439108,  0.1413642 ]]],\n",
       " \n",
       " \n",
       "        [[[-0.06522114, -0.1368153 ,  0.05826323, -0.13666731,\n",
       "           -0.11989084,  0.11899407,  0.0507969 ,  0.1353843 ,\n",
       "            0.02404629,  0.02412975,  0.00593431,  0.08101112,\n",
       "            0.07013446,  0.01980309, -0.00454575,  0.07094902,\n",
       "            0.06416355,  0.02108993,  0.0279763 ,  0.09713088,\n",
       "           -0.09379292, -0.09975868, -0.0537335 ,  0.01216197,\n",
       "            0.07049462, -0.03570431,  0.05850789,  0.04926854,\n",
       "            0.06501016, -0.11748796,  0.00449255,  0.01086831]],\n",
       " \n",
       "         [[-0.04175904, -0.1288069 ,  0.12413241, -0.0749853 ,\n",
       "           -0.04296739, -0.07818434, -0.08383936,  0.111019  ,\n",
       "           -0.1166528 , -0.06186077, -0.12719807, -0.00592324,\n",
       "            0.12709822,  0.12816153, -0.05986901,  0.12188639,\n",
       "           -0.05476398, -0.13234898, -0.08797171, -0.13041714,\n",
       "           -0.1011097 ,  0.13952155,  0.02730496,  0.07707131,\n",
       "           -0.0330961 ,  0.10350831,  0.11698486, -0.00441261,\n",
       "           -0.14118125, -0.05893619, -0.04962554, -0.07066053]],\n",
       " \n",
       "         [[ 0.13510688,  0.02704532,  0.07821947, -0.13890378,\n",
       "           -0.10428291, -0.11890513,  0.06767452, -0.00470614,\n",
       "            0.02864236, -0.04360979, -0.10125203, -0.11348261,\n",
       "           -0.06182302, -0.01555313,  0.04523306,  0.10918881,\n",
       "           -0.10534474,  0.0870555 ,  0.12978919,  0.09765674,\n",
       "           -0.1368153 ,  0.11346512,  0.02265741, -0.08374175,\n",
       "           -0.11608953,  0.08542043,  0.06200588, -0.11601305,\n",
       "           -0.1263256 ,  0.08378117, -0.05391022,  0.12010671]]]],\n",
       "       dtype=float32),\n",
       " array([0., 0., 0., 0., 0., 0., 0., 0., 0., 0., 0., 0., 0., 0., 0., 0., 0.,\n",
       "        0., 0., 0., 0., 0., 0., 0., 0., 0., 0., 0., 0., 0., 0., 0.],\n",
       "       dtype=float32),\n",
       " array([[[[ 0.03076037, -0.01470647,  0.07276893, ...,  0.05429334,\n",
       "           -0.06946661,  0.0605256 ],\n",
       "          [-0.01015278, -0.02676883, -0.05818725, ...,  0.05105747,\n",
       "           -0.06614751, -0.05769984],\n",
       "          [-0.03069973,  0.02347153, -0.04591332, ...,  0.02286313,\n",
       "            0.04270975, -0.06780343],\n",
       "          ...,\n",
       "          [-0.02163774,  0.05080477,  0.02767339, ...,  0.02444772,\n",
       "            0.00968049,  0.0443726 ],\n",
       "          [ 0.03377185, -0.03376482,  0.06318284, ...,  0.05273905,\n",
       "            0.07470358,  0.01965958],\n",
       "          [ 0.03721394, -0.02657805, -0.04159417, ...,  0.0777914 ,\n",
       "           -0.02013063,  0.0418156 ]],\n",
       " \n",
       "         [[-0.05361851, -0.08036141,  0.0564198 , ...,  0.04442563,\n",
       "            0.05831326, -0.02246388],\n",
       "          [-0.0132679 , -0.08135991, -0.00299311, ...,  0.04169638,\n",
       "           -0.0661573 ,  0.04353211],\n",
       "          [ 0.08234163,  0.02405771,  0.05116739, ...,  0.0377532 ,\n",
       "           -0.07844895, -0.00976839],\n",
       "          ...,\n",
       "          [ 0.04952636, -0.0157336 , -0.03831373, ...,  0.0062265 ,\n",
       "            0.08156443, -0.07021471],\n",
       "          [ 0.07268829,  0.02334968,  0.03043159, ..., -0.02578678,\n",
       "           -0.04488017,  0.04346135],\n",
       "          [-0.0421439 ,  0.01043806, -0.00948206, ..., -0.04470628,\n",
       "           -0.02094454,  0.07036404]],\n",
       " \n",
       "         [[ 0.07639525, -0.06399664, -0.01532944, ..., -0.02015933,\n",
       "            0.02230952, -0.06803302],\n",
       "          [-0.06962799,  0.04276059, -0.04008323, ..., -0.01086102,\n",
       "            0.06511302,  0.03365159],\n",
       "          [ 0.0049065 ,  0.016913  , -0.05921167, ...,  0.01365969,\n",
       "            0.05463883,  0.06068898],\n",
       "          ...,\n",
       "          [ 0.04604574, -0.03411096, -0.05474883, ...,  0.04797918,\n",
       "           -0.01030489,  0.06001741],\n",
       "          [ 0.02580605, -0.0067144 ,  0.01648712, ..., -0.07500885,\n",
       "           -0.00831201,  0.03298998],\n",
       "          [ 0.01290353, -0.03318819,  0.00276148, ...,  0.02489641,\n",
       "            0.01204798, -0.0009413 ]]],\n",
       " \n",
       " \n",
       "        [[[-0.06034605,  0.06647428, -0.02635541, ...,  0.03706715,\n",
       "            0.01950242,  0.06715075],\n",
       "          [ 0.02996901, -0.08030447, -0.02995211, ...,  0.01191735,\n",
       "           -0.06162316, -0.05799949],\n",
       "          [-0.04478947, -0.07619081,  0.01010052, ...,  0.03119393,\n",
       "           -0.00303706,  0.08192255],\n",
       "          ...,\n",
       "          [-0.0145489 , -0.08080125,  0.01129049, ...,  0.05480727,\n",
       "            0.06541369, -0.0706917 ],\n",
       "          [-0.08304678, -0.03230288,  0.04837682, ...,  0.04908735,\n",
       "           -0.07918257,  0.03819402],\n",
       "          [-0.08058439,  0.03286348,  0.03810319, ..., -0.04034837,\n",
       "           -0.05268053,  0.0715529 ]],\n",
       " \n",
       "         [[-0.00742903, -0.0370601 , -0.04386348, ...,  0.00252453,\n",
       "            0.06058577,  0.00852036],\n",
       "          [-0.00873724,  0.07231579,  0.06644253, ..., -0.04553471,\n",
       "            0.03137318,  0.00052889],\n",
       "          [ 0.04598559, -0.03566891,  0.04300026, ...,  0.07184509,\n",
       "           -0.05152001,  0.07669159],\n",
       "          ...,\n",
       "          [ 0.01236776, -0.05750346,  0.064811  , ..., -0.05579084,\n",
       "           -0.08004721,  0.07170639],\n",
       "          [-0.04158419, -0.00477002,  0.02842895, ..., -0.05724537,\n",
       "            0.00379608,  0.06780948],\n",
       "          [ 0.0266698 , -0.06315333, -0.01511654, ..., -0.00746765,\n",
       "           -0.07090138, -0.00779965]],\n",
       " \n",
       "         [[-0.00840378,  0.00935677,  0.0119043 , ...,  0.02074818,\n",
       "           -0.00803892,  0.00031403],\n",
       "          [ 0.03946481, -0.0305929 ,  0.03003716, ...,  0.07004408,\n",
       "            0.04987515, -0.07294135],\n",
       "          [-0.02521674, -0.0118582 ,  0.06170813, ..., -0.00582995,\n",
       "            0.01787531, -0.02919308],\n",
       "          ...,\n",
       "          [ 0.00894439,  0.05751524, -0.0541544 , ..., -0.03931209,\n",
       "           -0.02768928, -0.0231088 ],\n",
       "          [-0.06933171, -0.06106758, -0.02989088, ..., -0.06450987,\n",
       "           -0.03246015,  0.01259287],\n",
       "          [-0.05299237,  0.01992073, -0.0328881 , ...,  0.04320129,\n",
       "            0.00014433,  0.07265893]]],\n",
       " \n",
       " \n",
       "        [[[-0.02013465, -0.00158326,  0.06830563, ...,  0.07251898,\n",
       "            0.00829323,  0.04301938],\n",
       "          [ 0.02852422,  0.02446733,  0.07278361, ...,  0.07896372,\n",
       "           -0.03352916, -0.06676368],\n",
       "          [ 0.07443807,  0.00440422, -0.04477459, ..., -0.00767074,\n",
       "           -0.0244995 , -0.01250837],\n",
       "          ...,\n",
       "          [ 0.00994518,  0.06169834, -0.00307038, ...,  0.06855879,\n",
       "            0.08151349,  0.07797734],\n",
       "          [-0.02976356, -0.02454635, -0.06275558, ..., -0.05846582,\n",
       "           -0.04418629,  0.06823053],\n",
       "          [-0.04504456,  0.01623422,  0.02114318, ..., -0.04326203,\n",
       "            0.05516455,  0.06398965]],\n",
       " \n",
       "         [[ 0.03264594,  0.01872021,  0.0173403 , ..., -0.04396143,\n",
       "            0.04195371, -0.0814419 ],\n",
       "          [ 0.06785103,  0.00426617,  0.00808543, ...,  0.04963113,\n",
       "            0.07937459,  0.06252534],\n",
       "          [ 0.01614344,  0.00548718,  0.0245854 , ...,  0.01981346,\n",
       "            0.00868573,  0.00572934],\n",
       "          ...,\n",
       "          [ 0.07521946,  0.06508268,  0.03650562, ..., -0.05257221,\n",
       "           -0.02167076, -0.03564725],\n",
       "          [ 0.0299255 , -0.04780277,  0.03619061, ..., -0.03617082,\n",
       "            0.02538822,  0.04279473],\n",
       "          [ 0.01472626,  0.04354674, -0.06564736, ...,  0.03892696,\n",
       "            0.07049427,  0.03583187]],\n",
       " \n",
       "         [[-0.01095823,  0.02407064, -0.00462598, ..., -0.02557288,\n",
       "           -0.03504207,  0.05897633],\n",
       "          [-0.06308144, -0.0088521 , -0.0697346 , ...,  0.03849882,\n",
       "           -0.08085464,  0.07843705],\n",
       "          [ 0.06245694, -0.05331358,  0.08078069, ...,  0.05384042,\n",
       "           -0.0398673 ,  0.02655502],\n",
       "          ...,\n",
       "          [-0.04604586,  0.03106733, -0.06974898, ..., -0.018067  ,\n",
       "            0.04054374,  0.03873327],\n",
       "          [ 0.00867102,  0.00426606, -0.05249832, ..., -0.0047942 ,\n",
       "           -0.01577059,  0.00478528],\n",
       "          [ 0.05082453,  0.03647935,  0.07693175, ...,  0.07782925,\n",
       "            0.08097026, -0.04133173]]]], dtype=float32),\n",
       " array([0., 0., 0., 0., 0., 0., 0., 0., 0., 0., 0., 0., 0., 0., 0., 0., 0.,\n",
       "        0., 0., 0., 0., 0., 0., 0., 0., 0., 0., 0., 0., 0., 0., 0., 0., 0.,\n",
       "        0., 0., 0., 0., 0., 0., 0., 0., 0., 0., 0., 0., 0., 0., 0., 0., 0.,\n",
       "        0., 0., 0., 0., 0., 0., 0., 0., 0., 0., 0., 0., 0.], dtype=float32),\n",
       " array([[-0.01607758, -0.00680295,  0.00797053, ..., -0.02255028,\n",
       "         -0.01905108,  0.01339797],\n",
       "        [-0.00754921,  0.00741058,  0.0210765 , ..., -0.01443844,\n",
       "          0.02190142, -0.02465846],\n",
       "        [-0.01363024,  0.01256916, -0.01964772, ...,  0.02214482,\n",
       "         -0.0038243 , -0.00399336],\n",
       "        ...,\n",
       "        [-0.00799117, -0.00578776,  0.00208033, ...,  0.02291229,\n",
       "          0.00936854, -0.00320237],\n",
       "        [ 0.02087099,  0.02122363, -0.00677695, ..., -0.01614607,\n",
       "         -0.00518353,  0.00916188],\n",
       "        [-0.01623883, -0.01121436, -0.01032401, ...,  0.00754855,\n",
       "          0.02237898,  0.00278409]], dtype=float32),\n",
       " array([0., 0., 0., 0., 0., 0., 0., 0., 0., 0., 0., 0., 0., 0., 0., 0., 0.,\n",
       "        0., 0., 0., 0., 0., 0., 0., 0., 0., 0., 0., 0., 0., 0., 0., 0., 0.,\n",
       "        0., 0., 0., 0., 0., 0., 0., 0., 0., 0., 0., 0., 0., 0., 0., 0., 0.,\n",
       "        0., 0., 0., 0., 0., 0., 0., 0., 0., 0., 0., 0., 0., 0., 0., 0., 0.,\n",
       "        0., 0., 0., 0., 0., 0., 0., 0., 0., 0., 0., 0., 0., 0., 0., 0., 0.,\n",
       "        0., 0., 0., 0., 0., 0., 0., 0., 0., 0., 0., 0., 0., 0., 0., 0., 0.,\n",
       "        0., 0., 0., 0., 0., 0., 0., 0., 0., 0., 0., 0., 0., 0., 0., 0., 0.,\n",
       "        0., 0., 0., 0., 0., 0., 0., 0., 0.], dtype=float32),\n",
       " array([[ 0.13715191,  0.0631838 ,  0.18373446, ..., -0.16562778,\n",
       "         -0.05247565,  0.02886477],\n",
       "        [-0.1408779 , -0.06329206,  0.20261793, ..., -0.07256734,\n",
       "         -0.0112763 , -0.02584969],\n",
       "        [ 0.05120705, -0.14231111,  0.03022817, ...,  0.05333154,\n",
       "         -0.11921795, -0.02771644],\n",
       "        ...,\n",
       "        [ 0.13770135,  0.08676569, -0.09543024, ...,  0.14432342,\n",
       "          0.01128328, -0.03403834],\n",
       "        [ 0.12219332, -0.04957789, -0.16669828, ..., -0.16636126,\n",
       "         -0.0142747 ,  0.04823129],\n",
       "        [-0.19482842,  0.02479616, -0.17822936, ..., -0.01949517,\n",
       "          0.16240083,  0.16844223]], dtype=float32),\n",
       " array([0., 0., 0., 0., 0., 0., 0., 0., 0., 0.], dtype=float32)]"
      ]
     },
     "execution_count": 40,
     "metadata": {},
     "output_type": "execute_result"
    }
   ],
   "source": [
    "model.get_weights()"
   ]
  },
  {
   "cell_type": "code",
   "execution_count": 115,
   "metadata": {},
   "outputs": [
    {
     "data": {
      "text/plain": [
       "<bound method Network.get_layer of <tensorflow.python.keras.engine.sequential.Sequential object at 0x000001D769124588>>"
      ]
     },
     "execution_count": 115,
     "metadata": {},
     "output_type": "execute_result"
    }
   ],
   "source": [
    "model.get_layer"
   ]
  },
  {
   "cell_type": "code",
   "execution_count": 17,
   "metadata": {
    "collapsed": true
   },
   "outputs": [
    {
     "ename": "ValueError",
     "evalue": "Weights for model sequential have not yet been created. Weights are created when the Model is first called on inputs or `build()` is called with an `input_shape`.",
     "output_type": "error",
     "traceback": [
      "\u001b[1;31m---------------------------------------------------------------------------\u001b[0m",
      "\u001b[1;31mValueError\u001b[0m                                Traceback (most recent call last)",
      "\u001b[1;32m<ipython-input-17-506cc11487e8>\u001b[0m in \u001b[0;36m<module>\u001b[1;34m\u001b[0m\n\u001b[1;32m----> 1\u001b[1;33m \u001b[0mmodel\u001b[0m\u001b[1;33m.\u001b[0m\u001b[0mtrainable_variables\u001b[0m\u001b[1;33m\u001b[0m\u001b[1;33m\u001b[0m\u001b[0m\n\u001b[0m",
      "\u001b[1;32m~\\Anaconda3\\lib\\site-packages\\tensorflow\\python\\keras\\engine\\base_layer.py\u001b[0m in \u001b[0;36mtrainable_variables\u001b[1;34m(self)\u001b[0m\n\u001b[0;32m   1970\u001b[0m   \u001b[1;33m@\u001b[0m\u001b[0mdoc_controls\u001b[0m\u001b[1;33m.\u001b[0m\u001b[0mdo_not_generate_docs\u001b[0m\u001b[1;33m\u001b[0m\u001b[1;33m\u001b[0m\u001b[0m\n\u001b[0;32m   1971\u001b[0m   \u001b[1;32mdef\u001b[0m \u001b[0mtrainable_variables\u001b[0m\u001b[1;33m(\u001b[0m\u001b[0mself\u001b[0m\u001b[1;33m)\u001b[0m\u001b[1;33m:\u001b[0m\u001b[1;33m\u001b[0m\u001b[1;33m\u001b[0m\u001b[0m\n\u001b[1;32m-> 1972\u001b[1;33m     \u001b[1;32mreturn\u001b[0m \u001b[0mself\u001b[0m\u001b[1;33m.\u001b[0m\u001b[0mtrainable_weights\u001b[0m\u001b[1;33m\u001b[0m\u001b[1;33m\u001b[0m\u001b[0m\n\u001b[0m\u001b[0;32m   1973\u001b[0m \u001b[1;33m\u001b[0m\u001b[0m\n\u001b[0;32m   1974\u001b[0m   \u001b[1;33m@\u001b[0m\u001b[0mproperty\u001b[0m\u001b[1;33m\u001b[0m\u001b[1;33m\u001b[0m\u001b[0m\n",
      "\u001b[1;32m~\\Anaconda3\\lib\\site-packages\\tensorflow\\python\\keras\\engine\\network.py\u001b[0m in \u001b[0;36mtrainable_weights\u001b[1;34m(self)\u001b[0m\n\u001b[0;32m    565\u001b[0m   \u001b[1;33m@\u001b[0m\u001b[0mproperty\u001b[0m\u001b[1;33m\u001b[0m\u001b[1;33m\u001b[0m\u001b[0m\n\u001b[0;32m    566\u001b[0m   \u001b[1;32mdef\u001b[0m \u001b[0mtrainable_weights\u001b[0m\u001b[1;33m(\u001b[0m\u001b[0mself\u001b[0m\u001b[1;33m)\u001b[0m\u001b[1;33m:\u001b[0m\u001b[1;33m\u001b[0m\u001b[1;33m\u001b[0m\u001b[0m\n\u001b[1;32m--> 567\u001b[1;33m     \u001b[0mself\u001b[0m\u001b[1;33m.\u001b[0m\u001b[0m_assert_weights_created\u001b[0m\u001b[1;33m(\u001b[0m\u001b[1;33m)\u001b[0m\u001b[1;33m\u001b[0m\u001b[1;33m\u001b[0m\u001b[0m\n\u001b[0m\u001b[0;32m    568\u001b[0m     return self._dedup_weights(\n\u001b[0;32m    569\u001b[0m         trackable_layer_utils.gather_trainable_weights(\n",
      "\u001b[1;32m~\\Anaconda3\\lib\\site-packages\\tensorflow\\python\\keras\\engine\\network.py\u001b[0m in \u001b[0;36m_assert_weights_created\u001b[1;34m(self)\u001b[0m\n\u001b[0;32m   1560\u001b[0m                        \u001b[1;34m'Weights are created when the Model is first called on '\u001b[0m\u001b[1;33m\u001b[0m\u001b[1;33m\u001b[0m\u001b[0m\n\u001b[0;32m   1561\u001b[0m                        \u001b[1;34m'inputs or `build()` is called with an `input_shape`.'\u001b[0m \u001b[1;33m%\u001b[0m\u001b[1;33m\u001b[0m\u001b[1;33m\u001b[0m\u001b[0m\n\u001b[1;32m-> 1562\u001b[1;33m                        self.name)\n\u001b[0m\u001b[0;32m   1563\u001b[0m \u001b[1;33m\u001b[0m\u001b[0m\n\u001b[0;32m   1564\u001b[0m   \u001b[1;32mdef\u001b[0m \u001b[0m_graph_network_add_loss\u001b[0m\u001b[1;33m(\u001b[0m\u001b[0mself\u001b[0m\u001b[1;33m,\u001b[0m \u001b[0msymbolic_loss\u001b[0m\u001b[1;33m)\u001b[0m\u001b[1;33m:\u001b[0m\u001b[1;33m\u001b[0m\u001b[1;33m\u001b[0m\u001b[0m\n",
      "\u001b[1;31mValueError\u001b[0m: Weights for model sequential have not yet been created. Weights are created when the Model is first called on inputs or `build()` is called with an `input_shape`."
     ]
    }
   ],
   "source": [
    "model.trainable_variables"
   ]
  },
  {
   "cell_type": "code",
   "execution_count": 41,
   "metadata": {},
   "outputs": [
    {
     "name": "stdout",
     "output_type": "stream",
     "text": [
      "Model: \"sequential_1\"\n",
      "_________________________________________________________________\n",
      "Layer (type)                 Output Shape              Param #   \n",
      "=================================================================\n",
      "conv2d (Conv2D)              (None, 26, 26, 32)        320       \n",
      "_________________________________________________________________\n",
      "conv2d_1 (Conv2D)            (None, 24, 24, 64)        18496     \n",
      "_________________________________________________________________\n",
      "max_pooling2d (MaxPooling2D) (None, 12, 12, 64)        0         \n",
      "_________________________________________________________________\n",
      "dropout (Dropout)            (None, 12, 12, 64)        0         \n",
      "_________________________________________________________________\n",
      "flatten (Flatten)            (None, 9216)              0         \n",
      "_________________________________________________________________\n",
      "dense (Dense)                (None, 128)               1179776   \n",
      "_________________________________________________________________\n",
      "dropout_1 (Dropout)          (None, 128)               0         \n",
      "_________________________________________________________________\n",
      "dense_1 (Dense)              (None, 10)                1290      \n",
      "=================================================================\n",
      "Total params: 1,199,882\n",
      "Trainable params: 1,199,882\n",
      "Non-trainable params: 0\n",
      "_________________________________________________________________\n"
     ]
    }
   ],
   "source": [
    "model.summary()"
   ]
  },
  {
   "cell_type": "code",
   "execution_count": 13,
   "metadata": {},
   "outputs": [],
   "source": [
    "# To create the model, we first initialize a sequential model. It creates an empty model object.\n",
    "# The model type that we will be using is Sequential. \n",
    "# Sequential is the easiest way to build a model in Keras. It allows you to build a model layer by layer.\n",
    "model = Sequential()\n",
    "# The first step is to add a convolutional layer which takes the input image:\n",
    "\n",
    "# Keras expects the first layer to be informed of the shape of the input vector. \n",
    "# You can use the input_shape parameter, which expects a tuple consisting of the input vector dimension\n",
    "\n",
    "# Keras allows us to specify the number of filters we want and the size of the filters.\n",
    "# So, in our first layer, 32 is number of filters and (3, 3) is the size of the filter. \n",
    "# 64 in the first layer and 32 in the second layer are the number of nodes in each layer. This number can be adjusted \n",
    "# to be higher or lower, depending on the size of the dataset. In our case, 64 and 32 work well, so we\n",
    "# will stick with this for now.\n",
    "\n",
    "# We also need to specify the shape of the input which is (28, 28, 1), but we have to specify it only once.\n",
    "# Layer 1 \n",
    "# the input shape 28x28x1 and we will rocess 32 filters of size 3x3 over input data. we will also applied the \n",
    "# activation function relu to theoutput of each convoution operation\n",
    "model.add(Conv2D(32, kernel_size=(3, 3),\n",
    "                 activation='relu',\n",
    "                 input_shape=(28,28,1)))\n",
    "# the next set of layers do very similar things but take as input the feature map from the prev layer \n",
    "# Conv2D: this method creates a convolutional layer. The first parameter is the filter count, \n",
    "# and the second one is the filter size. For example in the first convolution layer we create 32 filters of size 3x3\n",
    "\n",
    "\n",
    "# n this case, we will add a  convolutional layer with 64 filters \n",
    "model.add(Conv2D(64, (3, 3), activation='relu'))\n",
    "\n",
    "\n",
    "\n",
    "# Next we will use the ‘add()’ function to add layers to our model.\n",
    "# 64 in the first layer and 32 in the second layer are the number of nodes in each layer.\n",
    "# Next we define a pooling layer that takes the max called MaxPooling2D. It is configured with a pool size of 2×2.s\n",
    "model.add(MaxPooling2D(pool_size=(2, 2)))\n",
    "# The next layer is a regularization layer using dropout called Dropout. It is configured to \n",
    "# randomly exclude 25% of neurons in the layer in order to reduce overfitting.\n",
    "model.add(Dropout(0.25))\n",
    "# We also add dropout layers in between, dropout randomly switches off some neurons in the \n",
    "# network which forces the data to find new paths.\n",
    "\n",
    "# Next and then Flatten, which will help to convert a 3-d Array to 1-d.\n",
    "#  After finishing the previous two steps, we're supposed to have a pooled feature map by now\n",
    "#  ‘Flatten’ layer. Flatten serves as a connection between the convolution and dense layers.\n",
    "# # flatten 28*28 images to a 784 vector for each image\n",
    "model.add(Flatten())\n",
    "#In between the Conv2D layers and the dense layer, there is a ‘Flatten’ layer. \n",
    "#Flatten serves as a connection between the convolution and dense layers.\n",
    "# Next a fully connected layer with 128 neurons and rectifier activation function.\n",
    "# Once we’ve flattened the data into a 1D array, we can add a dense hidden layer, \n",
    "# which is normal to a traditional neural network. Next, add another dropout layer before\n",
    "# adding a final dense layer which classifies the data:\n",
    "model.add(Dense(128, activation='relu'))\n",
    "model.add(Dropout(0.5))\n",
    "# We will have 10 nodes in our output layer, one for each possible outcome (0–9).\n",
    "model.add(Dense(num_classes, activation='softmax'))\n",
    "# The activation is ‘softmax’. Softmax makes the output sum up to 1 so the output can be interpreted\n",
    "# as probabilities. The model will then make its prediction based on which option has the highest probability.\n",
    "\n",
    "# Once we’ve flattened the data into a 1D array, we can add a dense hidden layer, which is \n",
    "# normal to a traditional neural network. Next, add another dropout layer before adding a final \n",
    "# dense layer which classifies the data:\n",
    "\n",
    "\n",
    "\n",
    "#‘Dense’ is the layer type we will use in for our output layer. Dense is a standard layer type that is used in many cases for neural networks.\n",
    "# We will have 10 nodes in our output layer, one for each possible outcome (0–9).\n",
    "# The activation is ‘softmax’. Softmax makes the output sum up to 1 so the output \n",
    "# can be interpreted as probabilities. The model will then make its prediction based \n",
    "# on which option has the highest probability."
   ]
  },
  {
   "cell_type": "code",
   "execution_count": 16,
   "metadata": {
    "scrolled": true
   },
   "outputs": [
    {
     "name": "stdout",
     "output_type": "stream",
     "text": [
      "Model: \"sequential\"\n",
      "_________________________________________________________________\n",
      "Layer (type)                 Output Shape              Param #   \n",
      "=================================================================\n",
      "conv2d (Conv2D)              (None, 26, 26, 32)        320       \n",
      "_________________________________________________________________\n",
      "conv2d_1 (Conv2D)            (None, 24, 24, 64)        18496     \n",
      "_________________________________________________________________\n",
      "max_pooling2d (MaxPooling2D) (None, 12, 12, 64)        0         \n",
      "_________________________________________________________________\n",
      "dropout (Dropout)            (None, 12, 12, 64)        0         \n",
      "_________________________________________________________________\n",
      "flatten (Flatten)            (None, 9216)              0         \n",
      "_________________________________________________________________\n",
      "dense (Dense)                (None, 128)               1179776   \n",
      "_________________________________________________________________\n",
      "dropout_1 (Dropout)          (None, 128)               0         \n",
      "_________________________________________________________________\n",
      "dense_1 (Dense)              (None, 10)                1290      \n",
      "=================================================================\n",
      "Total params: 1,199,882\n",
      "Trainable params: 1,199,882\n",
      "Non-trainable params: 0\n",
      "_________________________________________________________________\n"
     ]
    }
   ],
   "source": [
    "model.summary()"
   ]
  },
  {
   "cell_type": "code",
   "execution_count": null,
   "metadata": {},
   "outputs": [],
   "source": [
    "'''\n",
    "So, let us say we have a 28\n",
    "x 28 x 1 image and we have a filter of size 3 x\n",
    "3 x 1 using which we will be able to position\n",
    "the filter at 26 possible positions along the\n",
    "width as well as on the height. So, the final\n",
    "position of the filter will be at position 26. So,\n",
    "this is how we get 26 x 26 x 1 output of the\n",
    "convolution.\n",
    "'''\n",
    "\n",
    "\n",
    "((3x3x32)+1)x64=18496 parameters  \n",
    "64 conv. Filters(3x3), stride=1   ==> 18496\n",
    "\n",
    "# http://ceur-ws.org/Vol-2823/Paper3.pdf\n",
    "# https://aigeekprogrammer.com/keras-python-mnist-handwritten-digit-recognition/\n",
    "# https://towardsdatascience.com/building-a-convolutional-neural-network-cnn-in-keras-329fbbadc5f5"
   ]
  },
  {
   "cell_type": "markdown",
   "metadata": {},
   "source": [
    "# Visualize the filter "
   ]
  },
  {
   "cell_type": "markdown",
   "metadata": {},
   "source": [
    "#CNN uses learned filters to convolve the feature maps from the previous layer. Filters are two- dimensional weights and these weights have a spatial relationship with each other.\n",
    "* The steps you will follow to visualize the filters.\n",
    "* Iterate through all the layers of the model using model.layers\n",
    "* If the layer is a convolutional layer, then extract the weights and bias values using get_weights() for that layer.\n",
    "* Normalize the weights for the filters between 0 and 1\n",
    "* Plot the filters for each of the convolutional layers and all the channels. For Color image, you will have three channels for RGB. For a grayscale image, the number of channels will be 1"
   ]
  },
  {
   "cell_type": "code",
   "execution_count": 19,
   "metadata": {
    "collapsed": true
   },
   "outputs": [
    {
     "name": "stdout",
     "output_type": "stream",
     "text": [
      "[[[[-0.02997766 -0.08249976 -0.09303455 -0.12331337 -0.07125105\n",
      "     0.0363888   0.12896742 -0.03412063  0.07791181  0.07820578\n",
      "     0.12475823  0.01992708  0.00415516  0.03047895  0.00345421\n",
      "     0.07661051  0.06886464 -0.04153012 -0.13975337  0.00557941\n",
      "    -0.00588487 -0.09748457 -0.09159986  0.1230704   0.04648967\n",
      "     0.00758368 -0.00965017 -0.10751915 -0.00504413 -0.02437229\n",
      "     0.01441337  0.0693188 ]]\n",
      "\n",
      "  [[ 0.11745207 -0.05092926  0.03304663 -0.07933349 -0.0092916\n",
      "     0.00189006  0.0498184   0.04075827  0.09567298  0.08886322\n",
      "     0.12243901 -0.05106626  0.09102207 -0.08551044 -0.10545548\n",
      "     0.07393076  0.09192091  0.05672599  0.02165452  0.03428884\n",
      "     0.063684    0.01932772 -0.04850255  0.06663214  0.10680491\n",
      "     0.09467123 -0.05546355 -0.00417109  0.13929267 -0.11205412\n",
      "     0.01134098 -0.05924514]]\n",
      "\n",
      "  [[ 0.09426104  0.04256582  0.13090171 -0.06601783  0.08925767\n",
      "     0.13258599 -0.08149727 -0.08360454  0.0415303   0.09006493\n",
      "    -0.06251005 -0.09734505  0.00298558  0.11719118  0.12519686\n",
      "     0.04449466 -0.00352652  0.13081308  0.1120175  -0.08409487\n",
      "    -0.06207334  0.13884063  0.04429734  0.12765531 -0.0148353\n",
      "     0.10161053 -0.00228137 -0.12865905 -0.10627911 -0.09372313\n",
      "    -0.11415487  0.14090835]]]\n",
      "\n",
      "\n",
      " [[[ 0.105196   -0.00314566  0.11583857 -0.12664303  0.0090691\n",
      "     0.06307536  0.00383618 -0.01105313  0.03340076  0.06857188\n",
      "     0.1253479  -0.02820874  0.07914752 -0.12372062 -0.04612023\n",
      "     0.07090591  0.12989141  0.11547853 -0.07823649  0.05965988\n",
      "    -0.02758115  0.08325897  0.12942757  0.06550284 -0.02266107\n",
      "     0.04788034 -0.1308985  -0.08931528  0.13982753  0.11546864\n",
      "    -0.00889628 -0.01756218]]\n",
      "\n",
      "  [[-0.10065879 -0.07575583 -0.13905004 -0.00529836 -0.07330672\n",
      "    -0.01722012 -0.02349928  0.10685608 -0.10065961  0.00629057\n",
      "    -0.13002214  0.10208701  0.11323132 -0.08822478  0.02615276\n",
      "     0.08536048  0.05247305 -0.13038684  0.1240126   0.13304453\n",
      "     0.09237561  0.05120787  0.07298145  0.06362724  0.09179735\n",
      "    -0.10796121  0.03856678 -0.08046079 -0.05841097 -0.12474249\n",
      "     0.08759031 -0.10865776]]\n",
      "\n",
      "  [[ 0.09136952 -0.08858117  0.03513612 -0.04187351 -0.04573388\n",
      "     0.13610072 -0.08914004  0.07343391  0.00434551  0.03098668\n",
      "    -0.06823884 -0.12729442 -0.07379548  0.02230264  0.05509871\n",
      "    -0.13424258  0.05343492  0.03031562 -0.03684927 -0.04563551\n",
      "     0.00438502  0.09245938  0.1352771   0.06056295  0.10669033\n",
      "     0.08468264 -0.13838077 -0.13326807 -0.07064003  0.13092645\n",
      "    -0.07474738  0.13861139]]]\n",
      "\n",
      "\n",
      " [[[-0.00607091 -0.10894439 -0.1113285   0.04557806  0.14159767\n",
      "    -0.12967947 -0.1313283   0.08949643 -0.01556517  0.02024911\n",
      "    -0.06278922 -0.04162345 -0.13087545 -0.07215998  0.05262031\n",
      "     0.00129779  0.0060167   0.01099943 -0.02440184  0.02122876\n",
      "    -0.09816627  0.05753343  0.0628701  -0.07320849  0.06609601\n",
      "    -0.06806639  0.10814495 -0.00505504 -0.01937766  0.09711099\n",
      "    -0.02310781 -0.00664613]]\n",
      "\n",
      "  [[-0.10487092 -0.03579029 -0.10743318  0.07200556  0.09465009\n",
      "    -0.05418301  0.08452696  0.11081882  0.09733346  0.11101498\n",
      "    -0.05623805  0.07318358  0.02845168  0.10028593 -0.06792369\n",
      "    -0.03665146 -0.03062209 -0.00882056  0.12329258  0.07582378\n",
      "    -0.09689885 -0.08774697 -0.05706933  0.11008798 -0.00294136\n",
      "    -0.12410788 -0.09639604 -0.10410134 -0.07875056 -0.04031198\n",
      "    -0.03807982  0.06725855]]\n",
      "\n",
      "  [[-0.03580388 -0.07397051 -0.11614548 -0.04477643 -0.05217553\n",
      "     0.0081742  -0.07811338 -0.08879311  0.04530805 -0.01264675\n",
      "     0.10891683  0.02862243  0.13642941  0.03430507 -0.06635454\n",
      "    -0.11360125  0.11705746  0.03484167  0.13320582 -0.04693929\n",
      "     0.13877408 -0.08043496 -0.05068693 -0.04048602  0.04108125\n",
      "     0.04180796 -0.1209099   0.10894413  0.05289271  0.07265961\n",
      "     0.06265403  0.10505351]]]]\n",
      "[[[[-4.58525047e-02 -5.12789711e-02 -7.94988722e-02 ... -6.34654611e-03\n",
      "     5.89648858e-02  2.10049376e-02]\n",
      "   [ 2.19182745e-02 -2.07251310e-02 -7.40835816e-03 ...  3.95365134e-02\n",
      "     3.55790257e-02 -6.02713451e-02]\n",
      "   [-1.21721029e-02  8.27301368e-02  1.55074969e-02 ...  3.72192860e-02\n",
      "    -6.60129413e-02  1.27608553e-02]\n",
      "   ...\n",
      "   [ 1.32087618e-03  1.86812058e-02 -4.12363820e-02 ...  4.21777368e-05\n",
      "    -3.69505696e-02  3.26769352e-02]\n",
      "   [ 3.83078232e-02 -7.98764452e-02 -3.96079645e-02 ... -4.72333841e-02\n",
      "    -1.97572485e-02 -6.28371239e-02]\n",
      "   [-4.13739309e-02 -1.63588673e-03 -6.54932112e-03 ... -1.77558437e-02\n",
      "     7.83127770e-02 -8.12493265e-04]]\n",
      "\n",
      "  [[ 5.60325459e-02 -3.02128606e-02 -7.79371262e-02 ...  3.20679322e-02\n",
      "    -6.69446439e-02  5.68490252e-02]\n",
      "   [ 5.67623228e-03 -2.12985501e-02 -4.71969694e-03 ...  3.17191258e-02\n",
      "     3.69233117e-02  2.39835978e-02]\n",
      "   [-7.09320158e-02 -4.67913374e-02 -5.72051406e-02 ... -6.10114336e-02\n",
      "     7.29465261e-02 -5.14802933e-02]\n",
      "   ...\n",
      "   [ 6.78376034e-02 -5.77465706e-02 -6.66418523e-02 ...  1.82454586e-02\n",
      "    -8.32028240e-02  7.83366784e-02]\n",
      "   [ 8.18754658e-02  2.78879032e-02 -6.83138371e-02 ...  1.20063648e-02\n",
      "    -1.05746761e-02 -4.21648026e-02]\n",
      "   [ 4.92918566e-02 -2.91008353e-02 -8.23546872e-02 ...  4.07026187e-02\n",
      "     5.39484695e-02  7.75080100e-02]]\n",
      "\n",
      "  [[-1.11301988e-03 -4.19726223e-03 -3.38776335e-02 ... -6.22643046e-02\n",
      "     6.18387684e-02  5.06372824e-02]\n",
      "   [-1.12219900e-03 -5.79300746e-02  3.15664783e-02 ...  3.50451693e-02\n",
      "    -5.81778288e-02  5.05128577e-02]\n",
      "   [-5.23903593e-02 -1.55603662e-02 -2.88959742e-02 ... -8.24923143e-02\n",
      "    -5.92575893e-02 -6.11118898e-02]\n",
      "   ...\n",
      "   [-2.70555168e-03 -7.01466650e-02 -4.05639410e-03 ... -4.72542048e-02\n",
      "     6.78850785e-02 -3.50342020e-02]\n",
      "   [ 1.08236074e-02  1.57588348e-02  3.50463167e-02 ...  4.51568514e-03\n",
      "     7.84637406e-02 -2.04981193e-02]\n",
      "   [-2.54654512e-02 -4.74432334e-02 -6.89722896e-02 ...  7.39822760e-02\n",
      "     5.03685847e-02  5.14714345e-02]]]\n",
      "\n",
      "\n",
      " [[[ 5.07843569e-02  1.97642446e-02  5.48164472e-02 ...  8.74817371e-04\n",
      "    -4.27311473e-02  6.80936947e-02]\n",
      "   [-4.47171926e-02  3.58816236e-03  5.75453117e-02 ...  3.94516811e-02\n",
      "     6.39207736e-02 -4.56121378e-02]\n",
      "   [-7.84277171e-02 -7.75112957e-02  3.84018794e-02 ... -3.48051190e-02\n",
      "    -5.10307401e-03  7.83343390e-02]\n",
      "   ...\n",
      "   [ 6.87790588e-02  2.62512565e-02  8.18146691e-02 ... -3.15494947e-02\n",
      "    -8.03807601e-02 -2.97065787e-02]\n",
      "   [ 6.29054978e-02 -6.81272373e-02  2.36906856e-03 ...  5.27624041e-03\n",
      "     4.97821197e-02 -4.54499722e-02]\n",
      "   [ 4.51688990e-02 -1.32288337e-02  4.07843590e-02 ... -5.93971610e-02\n",
      "     5.46071157e-02  5.45722321e-02]]\n",
      "\n",
      "  [[-7.28242844e-02  4.68198210e-03  2.78628469e-02 ... -4.85943183e-02\n",
      "     2.13252902e-02  7.39826933e-02]\n",
      "   [ 3.03552523e-02  2.52633914e-02 -6.15841560e-02 ... -4.90054712e-02\n",
      "     4.81388196e-02  8.90828669e-04]\n",
      "   [-1.85893178e-02 -1.81005821e-02 -6.56609759e-02 ... -3.99846248e-02\n",
      "     2.54674181e-02  3.80993113e-02]\n",
      "   ...\n",
      "   [ 7.85124302e-03  3.91211733e-02 -6.81005716e-02 ...  3.88673767e-02\n",
      "     3.01977769e-02 -1.86307430e-02]\n",
      "   [ 8.32364634e-02  2.20282450e-02 -1.91031098e-02 ...  2.19703913e-02\n",
      "    -2.38667354e-02 -6.83008283e-02]\n",
      "   [-1.67470574e-02  4.35991362e-02 -7.21289963e-02 ...  7.08109215e-02\n",
      "     6.78423420e-02 -3.66634130e-03]]\n",
      "\n",
      "  [[ 2.03575119e-02  5.93201593e-02  5.31782284e-02 ...  3.40425149e-02\n",
      "     5.30301705e-02  1.97813660e-03]\n",
      "   [ 2.02717781e-02 -2.50713043e-02  4.49041277e-03 ... -5.16571850e-03\n",
      "     5.10880128e-02  6.09725937e-02]\n",
      "   [ 3.32705155e-02  7.93869719e-02 -5.29393964e-02 ...  6.66686967e-02\n",
      "    -4.78639230e-02  7.94470981e-02]\n",
      "   ...\n",
      "   [-6.75741583e-03 -4.49031591e-03  6.31134138e-02 ...  6.32143840e-02\n",
      "    -5.70832491e-02  1.88286677e-02]\n",
      "   [ 4.15471569e-02 -5.11236191e-02  6.73551634e-02 ...  2.11804286e-02\n",
      "    -9.20347124e-03 -6.90610260e-02]\n",
      "   [ 4.40640673e-02 -1.49286389e-02 -2.96211243e-02 ...  4.15797010e-02\n",
      "    -8.32307190e-02 -5.59455976e-02]]]\n",
      "\n",
      "\n",
      " [[[ 6.60652593e-02 -4.61821780e-02 -5.39570674e-02 ...  1.64797306e-02\n",
      "     7.35855773e-02 -8.01857933e-02]\n",
      "   [ 2.61027440e-02  4.05829176e-02 -6.19129948e-02 ...  1.87513605e-02\n",
      "     5.04690036e-02  7.65120015e-02]\n",
      "   [ 5.23843840e-02 -1.09817758e-02  8.15153345e-02 ... -1.12116337e-02\n",
      "    -5.12861237e-02 -2.49725580e-02]\n",
      "   ...\n",
      "   [ 3.66080403e-02  3.85604054e-03  6.74329028e-02 ... -5.65002188e-02\n",
      "    -3.14747915e-02 -7.62308091e-02]\n",
      "   [ 3.60092148e-02  5.49711809e-02 -6.94867969e-02 ...  7.68184662e-03\n",
      "     7.52679929e-02  2.98614278e-02]\n",
      "   [-4.42449078e-02  1.14789382e-02  5.66626266e-02 ... -1.74272656e-02\n",
      "    -3.56961489e-02 -2.11373568e-02]]\n",
      "\n",
      "  [[-3.66634130e-02  5.47008142e-02 -7.27310628e-02 ... -1.83089599e-02\n",
      "     5.64314499e-02  3.82969603e-02]\n",
      "   [-4.46135625e-02 -9.66674089e-03 -2.98161134e-02 ...  3.29457298e-02\n",
      "     7.21641630e-03  4.48735431e-02]\n",
      "   [ 3.91181335e-02 -2.88732462e-02 -5.88434562e-02 ... -8.41182470e-03\n",
      "    -3.22070941e-02  4.60412130e-02]\n",
      "   ...\n",
      "   [-4.69542556e-02 -3.13721895e-02 -6.88396692e-02 ...  2.89720520e-02\n",
      "    -6.26091957e-02 -5.72850704e-02]\n",
      "   [-7.89991617e-02 -1.03974715e-02  5.14530167e-02 ... -3.00601125e-02\n",
      "     6.85686693e-02  5.33378795e-02]\n",
      "   [ 4.55995277e-02 -2.81627774e-02  5.65043911e-02 ... -6.51502237e-02\n",
      "     3.26932445e-02  4.80268151e-03]]\n",
      "\n",
      "  [[ 4.20161262e-02 -5.53370938e-02  3.41737866e-02 ... -4.20617461e-02\n",
      "     2.56795064e-02  6.44584075e-02]\n",
      "   [-2.22351961e-02  2.91534066e-02 -3.49819474e-02 ...  5.55284843e-02\n",
      "    -4.83369827e-02  6.70269206e-02]\n",
      "   [-4.54820804e-02 -2.45785937e-02  2.29812041e-02 ...  1.86271667e-02\n",
      "     6.79883435e-02 -2.83799395e-02]\n",
      "   ...\n",
      "   [ 4.39100042e-02 -3.87406945e-02  5.64403608e-02 ...  1.28538385e-02\n",
      "     5.97415641e-02 -3.85147929e-02]\n",
      "   [-4.26909328e-02  2.38742605e-02 -1.40728727e-02 ... -1.02703944e-02\n",
      "     5.75911626e-02  3.58287469e-02]\n",
      "   [-1.88817754e-02  5.68965152e-02 -4.02074084e-02 ... -1.04544982e-02\n",
      "     3.06020752e-02  7.42257461e-02]]]]\n"
     ]
    },
    {
     "ename": "ValueError",
     "evalue": "not enough values to unpack (expected 2, got 0)",
     "output_type": "error",
     "traceback": [
      "\u001b[1;31m---------------------------------------------------------------------------\u001b[0m",
      "\u001b[1;31mValueError\u001b[0m                                Traceback (most recent call last)",
      "\u001b[1;32m<ipython-input-19-72dbb6c98037>\u001b[0m in \u001b[0;36m<module>\u001b[1;34m\u001b[0m\n\u001b[0;32m      1\u001b[0m \u001b[1;32mfor\u001b[0m \u001b[0mlayer\u001b[0m \u001b[1;32min\u001b[0m \u001b[0mmodel\u001b[0m\u001b[1;33m.\u001b[0m\u001b[0mlayers\u001b[0m\u001b[1;33m:\u001b[0m\u001b[1;33m\u001b[0m\u001b[1;33m\u001b[0m\u001b[0m\n\u001b[1;32m----> 2\u001b[1;33m     \u001b[0mfilters\u001b[0m\u001b[1;33m,\u001b[0m \u001b[0mbias\u001b[0m\u001b[1;33m=\u001b[0m \u001b[0mlayer\u001b[0m\u001b[1;33m.\u001b[0m\u001b[0mget_weights\u001b[0m\u001b[1;33m(\u001b[0m\u001b[1;33m)\u001b[0m\u001b[1;33m\u001b[0m\u001b[1;33m\u001b[0m\u001b[0m\n\u001b[0m\u001b[0;32m      3\u001b[0m \u001b[1;31m#print('filters shape' ,filters[:,:,:,1])\u001b[0m\u001b[1;33m\u001b[0m\u001b[1;33m\u001b[0m\u001b[1;33m\u001b[0m\u001b[0m\n\u001b[0;32m      4\u001b[0m     \u001b[0mprint\u001b[0m\u001b[1;33m(\u001b[0m\u001b[0mfilters\u001b[0m\u001b[1;33m)\u001b[0m\u001b[1;33m\u001b[0m\u001b[1;33m\u001b[0m\u001b[0m\n",
      "\u001b[1;31mValueError\u001b[0m: not enough values to unpack (expected 2, got 0)"
     ]
    }
   ],
   "source": [
    "for layer in model.layers:\n",
    "    filters, bias= layer.get_weights()\n",
    "#print('filters shape' ,filters[:,:,:,1])\n",
    "    print(filters)"
   ]
  },
  {
   "cell_type": "code",
   "execution_count": 33,
   "metadata": {},
   "outputs": [
    {
     "data": {
      "text/plain": [
       "288"
      ]
     },
     "execution_count": 33,
     "metadata": {},
     "output_type": "execute_result"
    }
   ],
   "source": [
    "9*32"
   ]
  },
  {
   "cell_type": "code",
   "execution_count": 53,
   "metadata": {},
   "outputs": [
    {
     "name": "stdout",
     "output_type": "stream",
     "text": [
      "conv2d_2 (3, 3, 1, 32)\n",
      "32\n",
      "0\n"
     ]
    },
    {
     "data": {
      "image/png": "[encoded data removed]",
      "text/plain": [
       "<Figure size 360x360 with 3 Axes>"
      ]
     },
     "metadata": {
      "needs_background": "light"
     },
     "output_type": "display_data"
    },
    {
     "name": "stdout",
     "output_type": "stream",
     "text": [
      "1\n"
     ]
    },
    {
     "data": {
      "image/png": "[encoded data removed]",
      "text/plain": [
       "<Figure size 360x360 with 3 Axes>"
      ]
     },
     "metadata": {
      "needs_background": "light"
     },
     "output_type": "display_data"
    },
    {
     "name": "stdout",
     "output_type": "stream",
     "text": [
      "2\n"
     ]
    },
    {
     "data": {
      "image/png": "[encoded data removed]",
      "text/plain": [
       "<Figure size 360x360 with 3 Axes>"
      ]
     },
     "metadata": {
      "needs_background": "light"
     },
     "output_type": "display_data"
    },
    {
     "name": "stdout",
     "output_type": "stream",
     "text": [
      "3\n"
     ]
    },
    {
     "data": {
      "image/png": "[encoded data removed]",
      "text/plain": [
       "<Figure size 360x360 with 3 Axes>"
      ]
     },
     "metadata": {
      "needs_background": "light"
     },
     "output_type": "display_data"
    },
    {
     "name": "stdout",
     "output_type": "stream",
     "text": [
      "4\n"
     ]
    },
    {
     "data": {
      "image/png": "[encoded data removed]",
      "text/plain": [
       "<Figure size 360x360 with 3 Axes>"
      ]
     },
     "metadata": {
      "needs_background": "light"
     },
     "output_type": "display_data"
    },
    {
     "name": "stdout",
     "output_type": "stream",
     "text": [
      "5\n"
     ]
    },
    {
     "data": {
      "image/png": "[encoded data removed]",
      "text/plain": [
       "<Figure size 360x360 with 3 Axes>"
      ]
     },
     "metadata": {
      "needs_background": "light"
     },
     "output_type": "display_data"
    },
    {
     "name": "stdout",
     "output_type": "stream",
     "text": [
      "6\n"
     ]
    },
    {
     "data": {
      "image/png": "[encoded data removed]",
      "text/plain": [
       "<Figure size 360x360 with 3 Axes>"
      ]
     },
     "metadata": {
      "needs_background": "light"
     },
     "output_type": "display_data"
    },
    {
     "name": "stdout",
     "output_type": "stream",
     "text": [
      "7\n"
     ]
    },
    {
     "data": {
      "image/png": "[encoded data removed]",
      "text/plain": [
       "<Figure size 360x360 with 3 Axes>"
      ]
     },
     "metadata": {
      "needs_background": "light"
     },
     "output_type": "display_data"
    },
    {
     "name": "stdout",
     "output_type": "stream",
     "text": [
      "8\n"
     ]
    },
    {
     "data": {
      "image/png": "[encoded data removed]",
      "text/plain": [
       "<Figure size 360x360 with 3 Axes>"
      ]
     },
     "metadata": {
      "needs_background": "light"
     },
     "output_type": "display_data"
    },
    {
     "name": "stdout",
     "output_type": "stream",
     "text": [
      "9\n"
     ]
    },
    {
     "data": {
      "image/png": "[encoded data removed]",
      "text/plain": [
       "<Figure size 360x360 with 3 Axes>"
      ]
     },
     "metadata": {
      "needs_background": "light"
     },
     "output_type": "display_data"
    },
    {
     "name": "stdout",
     "output_type": "stream",
     "text": [
      "10\n"
     ]
    },
    {
     "data": {
      "image/png": "[encoded data removed]",
      "text/plain": [
       "<Figure size 360x360 with 3 Axes>"
      ]
     },
     "metadata": {
      "needs_background": "light"
     },
     "output_type": "display_data"
    },
    {
     "name": "stdout",
     "output_type": "stream",
     "text": [
      "11\n"
     ]
    },
    {
     "data": {
      "image/png": "[encoded data removed]",
      "text/plain": [
       "<Figure size 360x360 with 3 Axes>"
      ]
     },
     "metadata": {
      "needs_background": "light"
     },
     "output_type": "display_data"
    },
    {
     "name": "stdout",
     "output_type": "stream",
     "text": [
      "12\n"
     ]
    },
    {
     "data": {
      "image/png": "[encoded data removed]",
      "text/plain": [
       "<Figure size 360x360 with 3 Axes>"
      ]
     },
     "metadata": {
      "needs_background": "light"
     },
     "output_type": "display_data"
    },
    {
     "name": "stdout",
     "output_type": "stream",
     "text": [
      "13\n"
     ]
    },
    {
     "data": {
      "image/png": "[encoded data removed]",
      "text/plain": [
       "<Figure size 360x360 with 3 Axes>"
      ]
     },
     "metadata": {
      "needs_background": "light"
     },
     "output_type": "display_data"
    },
    {
     "name": "stdout",
     "output_type": "stream",
     "text": [
      "14\n"
     ]
    },
    {
     "data": {
      "image/png": "[encoded data removed]",
      "text/plain": [
       "<Figure size 360x360 with 3 Axes>"
      ]
     },
     "metadata": {
      "needs_background": "light"
     },
     "output_type": "display_data"
    },
    {
     "name": "stdout",
     "output_type": "stream",
     "text": [
      "15\n"
     ]
    },
    {
     "data": {
      "image/png": "[encoded data removed]",
      "text/plain": [
       "<Figure size 360x360 with 3 Axes>"
      ]
     },
     "metadata": {
      "needs_background": "light"
     },
     "output_type": "display_data"
    },
    {
     "name": "stdout",
     "output_type": "stream",
     "text": [
      "16\n"
     ]
    },
    {
     "data": {
      "image/png": "[encoded data removed]",
      "text/plain": [
       "<Figure size 360x360 with 3 Axes>"
      ]
     },
     "metadata": {
      "needs_background": "light"
     },
     "output_type": "display_data"
    },
    {
     "name": "stdout",
     "output_type": "stream",
     "text": [
      "17\n"
     ]
    },
    {
     "data": {
      "image/png": "[encoded data removed]",
      "text/plain": [
       "<Figure size 360x360 with 3 Axes>"
      ]
     },
     "metadata": {
      "needs_background": "light"
     },
     "output_type": "display_data"
    },
    {
     "name": "stdout",
     "output_type": "stream",
     "text": [
      "18\n"
     ]
    },
    {
     "data": {
      "image/png": "[encoded data removed]",
      "text/plain": [
       "<Figure size 360x360 with 3 Axes>"
      ]
     },
     "metadata": {
      "needs_background": "light"
     },
     "output_type": "display_data"
    },
    {
     "name": "stdout",
     "output_type": "stream",
     "text": [
      "19\n"
     ]
    },
    {
     "data": {
      "image/png": "[encoded data removed]",
      "text/plain": [
       "<Figure size 360x360 with 3 Axes>"
      ]
     },
     "metadata": {
      "needs_background": "light"
     },
     "output_type": "display_data"
    },
    {
     "name": "stdout",
     "output_type": "stream",
     "text": [
      "20\n"
     ]
    },
    {
     "data": {
      "image/png": "[encoded data removed]",
      "text/plain": [
       "<Figure size 360x360 with 3 Axes>"
      ]
     },
     "metadata": {
      "needs_background": "light"
     },
     "output_type": "display_data"
    },
    {
     "name": "stdout",
     "output_type": "stream",
     "text": [
      "21\n"
     ]
    },
    {
     "data": {
      "image/png": "[encoded data removed]",
      "text/plain": [
       "<Figure size 360x360 with 3 Axes>"
      ]
     },
     "metadata": {
      "needs_background": "light"
     },
     "output_type": "display_data"
    },
    {
     "name": "stdout",
     "output_type": "stream",
     "text": [
      "22\n"
     ]
    },
    {
     "data": {
      "image/png": "[encoded data removed]",
      "text/plain": [
       "<Figure size 360x360 with 3 Axes>"
      ]
     },
     "metadata": {
      "needs_background": "light"
     },
     "output_type": "display_data"
    },
    {
     "name": "stdout",
     "output_type": "stream",
     "text": [
      "23\n"
     ]
    },
    {
     "data": {
      "image/png": "[encoded data removed]",
      "text/plain": [
       "<Figure size 360x360 with 3 Axes>"
      ]
     },
     "metadata": {
      "needs_background": "light"
     },
     "output_type": "display_data"
    },
    {
     "name": "stdout",
     "output_type": "stream",
     "text": [
      "24\n"
     ]
    },
    {
     "data": {
      "image/png": "[encoded data removed]",
      "text/plain": [
       "<Figure size 360x360 with 3 Axes>"
      ]
     },
     "metadata": {
      "needs_background": "light"
     },
     "output_type": "display_data"
    },
    {
     "name": "stdout",
     "output_type": "stream",
     "text": [
      "25\n"
     ]
    },
    {
     "data": {
      "image/png": "[encoded data removed]",
      "text/plain": [
       "<Figure size 360x360 with 3 Axes>"
      ]
     },
     "metadata": {
      "needs_background": "light"
     },
     "output_type": "display_data"
    },
    {
     "name": "stdout",
     "output_type": "stream",
     "text": [
      "26\n"
     ]
    },
    {
     "data": {
      "image/png": "[encoded data removed]",
      "text/plain": [
       "<Figure size 360x360 with 3 Axes>"
      ]
     },
     "metadata": {
      "needs_background": "light"
     },
     "output_type": "display_data"
    },
    {
     "name": "stdout",
     "output_type": "stream",
     "text": [
      "27\n"
     ]
    },
    {
     "data": {
      "image/png": "[encoded data removed]",
      "text/plain": [
       "<Figure size 360x360 with 3 Axes>"
      ]
     },
     "metadata": {
      "needs_background": "light"
     },
     "output_type": "display_data"
    },
    {
     "name": "stdout",
     "output_type": "stream",
     "text": [
      "28\n"
     ]
    },
    {
     "data": {
      "image/png": "[encoded data removed]",
      "text/plain": [
       "<Figure size 360x360 with 3 Axes>"
      ]
     },
     "metadata": {
      "needs_background": "light"
     },
     "output_type": "display_data"
    },
    {
     "name": "stdout",
     "output_type": "stream",
     "text": [
      "29\n"
     ]
    },
    {
     "data": {
      "image/png": "[encoded data removed]",
      "text/plain": [
       "<Figure size 360x360 with 3 Axes>"
      ]
     },
     "metadata": {
      "needs_background": "light"
     },
     "output_type": "display_data"
    },
    {
     "name": "stdout",
     "output_type": "stream",
     "text": [
      "30\n"
     ]
    },
    {
     "data": {
      "image/png": "[encoded data removed]",
      "text/plain": [
       "<Figure size 360x360 with 3 Axes>"
      ]
     },
     "metadata": {
      "needs_background": "light"
     },
     "output_type": "display_data"
    },
    {
     "name": "stdout",
     "output_type": "stream",
     "text": [
      "31\n"
     ]
    },
    {
     "data": {
      "image/png": "[encoded data removed]",
      "text/plain": [
       "<Figure size 360x360 with 3 Axes>"
      ]
     },
     "metadata": {
      "needs_background": "light"
     },
     "output_type": "display_data"
    },
    {
     "name": "stdout",
     "output_type": "stream",
     "text": [
      "conv2d_3 (3, 3, 32, 64)\n",
      "64\n",
      "0\n"
     ]
    },
    {
     "data": {
      "image/png": "[encoded data removed]",
      "text/plain": [
       "<Figure size 360x360 with 3 Axes>"
      ]
     },
     "metadata": {
      "needs_background": "light"
     },
     "output_type": "display_data"
    },
    {
     "name": "stdout",
     "output_type": "stream",
     "text": [
      "1\n"
     ]
    },
    {
     "data": {
      "image/png": "[encoded data removed]",
      "text/plain": [
       "<Figure size 360x360 with 3 Axes>"
      ]
     },
     "metadata": {
      "needs_background": "light"
     },
     "output_type": "display_data"
    },
    {
     "name": "stdout",
     "output_type": "stream",
     "text": [
      "2\n"
     ]
    },
    {
     "data": {
      "image/png": "[encoded data removed]",
      "text/plain": [
       "<Figure size 360x360 with 3 Axes>"
      ]
     },
     "metadata": {
      "needs_background": "light"
     },
     "output_type": "display_data"
    },
    {
     "name": "stdout",
     "output_type": "stream",
     "text": [
      "3\n"
     ]
    },
    {
     "data": {
      "image/png": "[encoded data removed]",
      "text/plain": [
       "<Figure size 360x360 with 3 Axes>"
      ]
     },
     "metadata": {
      "needs_background": "light"
     },
     "output_type": "display_data"
    },
    {
     "name": "stdout",
     "output_type": "stream",
     "text": [
      "4\n"
     ]
    },
    {
     "data": {
      "image/png": "[encoded data removed]",
      "text/plain": [
       "<Figure size 360x360 with 3 Axes>"
      ]
     },
     "metadata": {
      "needs_background": "light"
     },
     "output_type": "display_data"
    },
    {
     "name": "stdout",
     "output_type": "stream",
     "text": [
      "5\n"
     ]
    },
    {
     "data": {
      "image/png": "[encoded data removed]",
      "text/plain": [
       "<Figure size 360x360 with 3 Axes>"
      ]
     },
     "metadata": {
      "needs_background": "light"
     },
     "output_type": "display_data"
    },
    {
     "name": "stdout",
     "output_type": "stream",
     "text": [
      "6\n"
     ]
    },
    {
     "data": {
      "image/png": "[encoded data removed]",
      "text/plain": [
       "<Figure size 360x360 with 3 Axes>"
      ]
     },
     "metadata": {
      "needs_background": "light"
     },
     "output_type": "display_data"
    },
    {
     "name": "stdout",
     "output_type": "stream",
     "text": [
      "7\n"
     ]
    },
    {
     "data": {
      "image/png": "[encoded data removed]",
      "text/plain": [
       "<Figure size 360x360 with 3 Axes>"
      ]
     },
     "metadata": {
      "needs_background": "light"
     },
     "output_type": "display_data"
    },
    {
     "name": "stdout",
     "output_type": "stream",
     "text": [
      "8\n"
     ]
    },
    {
     "data": {
      "image/png": "[encoded data removed]",
      "text/plain": [
       "<Figure size 360x360 with 3 Axes>"
      ]
     },
     "metadata": {
      "needs_background": "light"
     },
     "output_type": "display_data"
    },
    {
     "name": "stdout",
     "output_type": "stream",
     "text": [
      "9\n"
     ]
    },
    {
     "data": {
      "image/png": "[encoded data removed]",
      "text/plain": [
       "<Figure size 360x360 with 3 Axes>"
      ]
     },
     "metadata": {
      "needs_background": "light"
     },
     "output_type": "display_data"
    },
    {
     "name": "stdout",
     "output_type": "stream",
     "text": [
      "10\n"
     ]
    },
    {
     "data": {
      "image/png": "[encoded data removed]",
      "text/plain": [
       "<Figure size 360x360 with 3 Axes>"
      ]
     },
     "metadata": {
      "needs_background": "light"
     },
     "output_type": "display_data"
    },
    {
     "name": "stdout",
     "output_type": "stream",
     "text": [
      "11\n"
     ]
    },
    {
     "data": {
      "image/png": "[encoded data removed]",
      "text/plain": [
       "<Figure size 360x360 with 3 Axes>"
      ]
     },
     "metadata": {
      "needs_background": "light"
     },
     "output_type": "display_data"
    },
    {
     "name": "stdout",
     "output_type": "stream",
     "text": [
      "12\n"
     ]
    },
    {
     "data": {
      "image/png": "[encoded data removed]",
      "text/plain": [
       "<Figure size 360x360 with 3 Axes>"
      ]
     },
     "metadata": {
      "needs_background": "light"
     },
     "output_type": "display_data"
    },
    {
     "name": "stdout",
     "output_type": "stream",
     "text": [
      "13\n"
     ]
    },
    {
     "data": {
      "image/png": "[encoded data removed]",
      "text/plain": [
       "<Figure size 360x360 with 3 Axes>"
      ]
     },
     "metadata": {
      "needs_background": "light"
     },
     "output_type": "display_data"
    },
    {
     "name": "stdout",
     "output_type": "stream",
     "text": [
      "14\n"
     ]
    },
    {
     "data": {
      "image/png": "[encoded data removed]",
      "text/plain": [
       "<Figure size 360x360 with 3 Axes>"
      ]
     },
     "metadata": {
      "needs_background": "light"
     },
     "output_type": "display_data"
    },
    {
     "name": "stdout",
     "output_type": "stream",
     "text": [
      "15\n"
     ]
    },
    {
     "data": {
      "image/png": "[encoded data removed]",
      "text/plain": [
       "<Figure size 360x360 with 3 Axes>"
      ]
     },
     "metadata": {
      "needs_background": "light"
     },
     "output_type": "display_data"
    },
    {
     "name": "stdout",
     "output_type": "stream",
     "text": [
      "16\n"
     ]
    },
    {
     "data": {
      "image/png": "[encoded data removed]",
      "text/plain": [
       "<Figure size 360x360 with 3 Axes>"
      ]
     },
     "metadata": {
      "needs_background": "light"
     },
     "output_type": "display_data"
    },
    {
     "name": "stdout",
     "output_type": "stream",
     "text": [
      "17\n"
     ]
    },
    {
     "data": {
      "image/png": "[encoded data removed]",
      "text/plain": [
       "<Figure size 360x360 with 3 Axes>"
      ]
     },
     "metadata": {
      "needs_background": "light"
     },
     "output_type": "display_data"
    },
    {
     "name": "stdout",
     "output_type": "stream",
     "text": [
      "18\n"
     ]
    },
    {
     "data": {
      "image/png": "[encoded data removed]",
      "text/plain": [
       "<Figure size 360x360 with 3 Axes>"
      ]
     },
     "metadata": {
      "needs_background": "light"
     },
     "output_type": "display_data"
    },
    {
     "name": "stdout",
     "output_type": "stream",
     "text": [
      "19\n"
     ]
    },
    {
     "data": {
      "image/png": "[encoded data removed]",
      "text/plain": [
       "<Figure size 360x360 with 3 Axes>"
      ]
     },
     "metadata": {
      "needs_background": "light"
     },
     "output_type": "display_data"
    },
    {
     "name": "stdout",
     "output_type": "stream",
     "text": [
      "20\n"
     ]
    },
    {
     "data": {
      "image/png": "[encoded data removed]",
      "text/plain": [
       "<Figure size 360x360 with 3 Axes>"
      ]
     },
     "metadata": {
      "needs_background": "light"
     },
     "output_type": "display_data"
    },
    {
     "name": "stdout",
     "output_type": "stream",
     "text": [
      "21\n"
     ]
    },
    {
     "data": {
      "image/png": "[encoded data removed]",
      "text/plain": [
       "<Figure size 360x360 with 3 Axes>"
      ]
     },
     "metadata": {
      "needs_background": "light"
     },
     "output_type": "display_data"
    },
    {
     "name": "stdout",
     "output_type": "stream",
     "text": [
      "22\n"
     ]
    },
    {
     "data": {
      "image/png": "[encoded data removed]",
      "text/plain": [
       "<Figure size 360x360 with 3 Axes>"
      ]
     },
     "metadata": {
      "needs_background": "light"
     },
     "output_type": "display_data"
    },
    {
     "name": "stdout",
     "output_type": "stream",
     "text": [
      "23\n"
     ]
    },
    {
     "data": {
      "image/png": "[encoded data removed]",
      "text/plain": [
       "<Figure size 360x360 with 3 Axes>"
      ]
     },
     "metadata": {
      "needs_background": "light"
     },
     "output_type": "display_data"
    },
    {
     "name": "stdout",
     "output_type": "stream",
     "text": [
      "24\n"
     ]
    },
    {
     "data": {
      "image/png": "[encoded data removed]",
      "text/plain": [
       "<Figure size 360x360 with 3 Axes>"
      ]
     },
     "metadata": {
      "needs_background": "light"
     },
     "output_type": "display_data"
    },
    {
     "name": "stdout",
     "output_type": "stream",
     "text": [
      "25\n"
     ]
    },
    {
     "data": {
      "image/png": "[encoded data removed]",
      "text/plain": [
       "<Figure size 360x360 with 3 Axes>"
      ]
     },
     "metadata": {
      "needs_background": "light"
     },
     "output_type": "display_data"
    },
    {
     "name": "stdout",
     "output_type": "stream",
     "text": [
      "26\n"
     ]
    },
    {
     "data": {
      "image/png": "[encoded data removed]",
      "text/plain": [
       "<Figure size 360x360 with 3 Axes>"
      ]
     },
     "metadata": {
      "needs_background": "light"
     },
     "output_type": "display_data"
    },
    {
     "name": "stdout",
     "output_type": "stream",
     "text": [
      "27\n"
     ]
    },
    {
     "data": {
      "image/png": "[encoded data removed]",
      "text/plain": [
       "<Figure size 360x360 with 3 Axes>"
      ]
     },
     "metadata": {
      "needs_background": "light"
     },
     "output_type": "display_data"
    },
    {
     "name": "stdout",
     "output_type": "stream",
     "text": [
      "28\n"
     ]
    },
    {
     "data": {
      "image/png": "[encoded data removed]",
      "text/plain": [
       "<Figure size 360x360 with 3 Axes>"
      ]
     },
     "metadata": {
      "needs_background": "light"
     },
     "output_type": "display_data"
    },
    {
     "name": "stdout",
     "output_type": "stream",
     "text": [
      "29\n"
     ]
    },
    {
     "data": {
      "image/png": "[encoded data removed]",
      "text/plain": [
       "<Figure size 360x360 with 3 Axes>"
      ]
     },
     "metadata": {
      "needs_background": "light"
     },
     "output_type": "display_data"
    },
    {
     "name": "stdout",
     "output_type": "stream",
     "text": [
      "30\n"
     ]
    },
    {
     "data": {
      "image/png": "[encoded data removed]",
      "text/plain": [
       "<Figure size 360x360 with 3 Axes>"
      ]
     },
     "metadata": {
      "needs_background": "light"
     },
     "output_type": "display_data"
    },
    {
     "name": "stdout",
     "output_type": "stream",
     "text": [
      "31\n"
     ]
    },
    {
     "data": {
      "image/png": "[encoded data removed]",
      "text/plain": [
       "<Figure size 360x360 with 3 Axes>"
      ]
     },
     "metadata": {
      "needs_background": "light"
     },
     "output_type": "display_data"
    },
    {
     "name": "stdout",
     "output_type": "stream",
     "text": [
      "32\n"
     ]
    },
    {
     "data": {
      "image/png": "[encoded data removed]",
      "text/plain": [
       "<Figure size 360x360 with 3 Axes>"
      ]
     },
     "metadata": {
      "needs_background": "light"
     },
     "output_type": "display_data"
    },
    {
     "name": "stdout",
     "output_type": "stream",
     "text": [
      "33\n"
     ]
    },
    {
     "data": {
      "image/png": "[encoded data removed]",
      "text/plain": [
       "<Figure size 360x360 with 3 Axes>"
      ]
     },
     "metadata": {
      "needs_background": "light"
     },
     "output_type": "display_data"
    },
    {
     "name": "stdout",
     "output_type": "stream",
     "text": [
      "34\n"
     ]
    },
    {
     "data": {
      "image/png": "[encoded data removed]",
      "text/plain": [
       "<Figure size 360x360 with 3 Axes>"
      ]
     },
     "metadata": {
      "needs_background": "light"
     },
     "output_type": "display_data"
    },
    {
     "name": "stdout",
     "output_type": "stream",
     "text": [
      "35\n"
     ]
    },
    {
     "data": {
      "image/png": "[encoded data removed]",
      "text/plain": [
       "<Figure size 360x360 with 3 Axes>"
      ]
     },
     "metadata": {
      "needs_background": "light"
     },
     "output_type": "display_data"
    },
    {
     "name": "stdout",
     "output_type": "stream",
     "text": [
      "36\n"
     ]
    },
    {
     "data": {
      "image/png": "[encoded data removed]",
      "text/plain": [
       "<Figure size 360x360 with 3 Axes>"
      ]
     },
     "metadata": {
      "needs_background": "light"
     },
     "output_type": "display_data"
    },
    {
     "name": "stdout",
     "output_type": "stream",
     "text": [
      "37\n"
     ]
    },
    {
     "data": {
      "image/png": "[encoded data removed]",
      "text/plain": [
       "<Figure size 360x360 with 3 Axes>"
      ]
     },
     "metadata": {
      "needs_background": "light"
     },
     "output_type": "display_data"
    },
    {
     "name": "stdout",
     "output_type": "stream",
     "text": [
      "38\n"
     ]
    },
    {
     "data": {
      "image/png": "[encoded data removed]",
      "text/plain": [
       "<Figure size 360x360 with 3 Axes>"
      ]
     },
     "metadata": {
      "needs_background": "light"
     },
     "output_type": "display_data"
    },
    {
     "name": "stdout",
     "output_type": "stream",
     "text": [
      "39\n"
     ]
    },
    {
     "data": {
      "image/png": "[encoded data removed]",
      "text/plain": [
       "<Figure size 360x360 with 3 Axes>"
      ]
     },
     "metadata": {
      "needs_background": "light"
     },
     "output_type": "display_data"
    },
    {
     "name": "stdout",
     "output_type": "stream",
     "text": [
      "40\n"
     ]
    },
    {
     "data": {
      "image/png": "[encoded data removed]",
      "text/plain": [
       "<Figure size 360x360 with 3 Axes>"
      ]
     },
     "metadata": {
      "needs_background": "light"
     },
     "output_type": "display_data"
    },
    {
     "name": "stdout",
     "output_type": "stream",
     "text": [
      "41\n"
     ]
    },
    {
     "data": {
      "image/png": "[encoded data removed]",
      "text/plain": [
       "<Figure size 360x360 with 3 Axes>"
      ]
     },
     "metadata": {
      "needs_background": "light"
     },
     "output_type": "display_data"
    },
    {
     "name": "stdout",
     "output_type": "stream",
     "text": [
      "42\n"
     ]
    },
    {
     "data": {
      "image/png": "[encoded data removed]",
      "text/plain": [
       "<Figure size 360x360 with 3 Axes>"
      ]
     },
     "metadata": {
      "needs_background": "light"
     },
     "output_type": "display_data"
    },
    {
     "name": "stdout",
     "output_type": "stream",
     "text": [
      "43\n"
     ]
    },
    {
     "data": {
      "image/png": "[encoded data removed]",
      "text/plain": [
       "<Figure size 360x360 with 3 Axes>"
      ]
     },
     "metadata": {
      "needs_background": "light"
     },
     "output_type": "display_data"
    },
    {
     "name": "stdout",
     "output_type": "stream",
     "text": [
      "44\n"
     ]
    },
    {
     "data": {
      "image/png": "[encoded data removed]",
      "text/plain": [
       "<Figure size 360x360 with 3 Axes>"
      ]
     },
     "metadata": {
      "needs_background": "light"
     },
     "output_type": "display_data"
    },
    {
     "name": "stdout",
     "output_type": "stream",
     "text": [
      "45\n"
     ]
    },
    {
     "data": {
      "image/png": "[encoded data removed]",
      "text/plain": [
       "<Figure size 360x360 with 3 Axes>"
      ]
     },
     "metadata": {
      "needs_background": "light"
     },
     "output_type": "display_data"
    },
    {
     "name": "stdout",
     "output_type": "stream",
     "text": [
      "46\n"
     ]
    },
    {
     "data": {
      "image/png": "[encoded data removed]",
      "text/plain": [
       "<Figure size 360x360 with 3 Axes>"
      ]
     },
     "metadata": {
      "needs_background": "light"
     },
     "output_type": "display_data"
    },
    {
     "name": "stdout",
     "output_type": "stream",
     "text": [
      "47\n"
     ]
    },
    {
     "data": {
      "image/png": "[encoded data removed]",
      "text/plain": [
       "<Figure size 360x360 with 3 Axes>"
      ]
     },
     "metadata": {
      "needs_background": "light"
     },
     "output_type": "display_data"
    },
    {
     "name": "stdout",
     "output_type": "stream",
     "text": [
      "48\n"
     ]
    },
    {
     "data": {
      "image/png": "[encoded data removed]",
      "text/plain": [
       "<Figure size 360x360 with 3 Axes>"
      ]
     },
     "metadata": {
      "needs_background": "light"
     },
     "output_type": "display_data"
    },
    {
     "name": "stdout",
     "output_type": "stream",
     "text": [
      "49\n"
     ]
    },
    {
     "data": {
      "image/png": "[encoded data removed]",
      "text/plain": [
       "<Figure size 360x360 with 3 Axes>"
      ]
     },
     "metadata": {
      "needs_background": "light"
     },
     "output_type": "display_data"
    },
    {
     "name": "stdout",
     "output_type": "stream",
     "text": [
      "50\n"
     ]
    },
    {
     "data": {
      "image/png": "[encoded data removed]",
      "text/plain": [
       "<Figure size 360x360 with 3 Axes>"
      ]
     },
     "metadata": {
      "needs_background": "light"
     },
     "output_type": "display_data"
    },
    {
     "name": "stdout",
     "output_type": "stream",
     "text": [
      "51\n"
     ]
    },
    {
     "data": {
      "image/png": "[encoded data removed]",
      "text/plain": [
       "<Figure size 360x360 with 3 Axes>"
      ]
     },
     "metadata": {
      "needs_background": "light"
     },
     "output_type": "display_data"
    },
    {
     "name": "stdout",
     "output_type": "stream",
     "text": [
      "52\n"
     ]
    },
    {
     "data": {
      "image/png": "[encoded data removed]",
      "text/plain": [
       "<Figure size 360x360 with 3 Axes>"
      ]
     },
     "metadata": {
      "needs_background": "light"
     },
     "output_type": "display_data"
    },
    {
     "name": "stdout",
     "output_type": "stream",
     "text": [
      "53\n"
     ]
    },
    {
     "data": {
      "image/png": "[encoded data removed]",
      "text/plain": [
       "<Figure size 360x360 with 3 Axes>"
      ]
     },
     "metadata": {
      "needs_background": "light"
     },
     "output_type": "display_data"
    },
    {
     "name": "stdout",
     "output_type": "stream",
     "text": [
      "54\n"
     ]
    },
    {
     "data": {
      "image/png": "[encoded data removed]",
      "text/plain": [
       "<Figure size 360x360 with 3 Axes>"
      ]
     },
     "metadata": {
      "needs_background": "light"
     },
     "output_type": "display_data"
    },
    {
     "name": "stdout",
     "output_type": "stream",
     "text": [
      "55\n"
     ]
    },
    {
     "data": {
      "image/png": "[encoded data removed]",
      "text/plain": [
       "<Figure size 360x360 with 3 Axes>"
      ]
     },
     "metadata": {
      "needs_background": "light"
     },
     "output_type": "display_data"
    },
    {
     "name": "stdout",
     "output_type": "stream",
     "text": [
      "56\n"
     ]
    },
    {
     "data": {
      "image/png": "[encoded data removed]",
      "text/plain": [
       "<Figure size 360x360 with 3 Axes>"
      ]
     },
     "metadata": {
      "needs_background": "light"
     },
     "output_type": "display_data"
    },
    {
     "name": "stdout",
     "output_type": "stream",
     "text": [
      "57\n"
     ]
    },
    {
     "data": {
      "image/png": "[encoded data removed]",
      "text/plain": [
       "<Figure size 360x360 with 3 Axes>"
      ]
     },
     "metadata": {
      "needs_background": "light"
     },
     "output_type": "display_data"
    },
    {
     "name": "stdout",
     "output_type": "stream",
     "text": [
      "58\n"
     ]
    },
    {
     "data": {
      "image/png": "[encoded data removed]",
      "text/plain": [
       "<Figure size 360x360 with 3 Axes>"
      ]
     },
     "metadata": {
      "needs_background": "light"
     },
     "output_type": "display_data"
    },
    {
     "name": "stdout",
     "output_type": "stream",
     "text": [
      "59\n"
     ]
    },
    {
     "data": {
      "image/png": "[encoded data removed]",
      "text/plain": [
       "<Figure size 360x360 with 3 Axes>"
      ]
     },
     "metadata": {
      "needs_background": "light"
     },
     "output_type": "display_data"
    },
    {
     "name": "stdout",
     "output_type": "stream",
     "text": [
      "60\n"
     ]
    },
    {
     "data": {
      "image/png": "[encoded data removed]",
      "text/plain": [
       "<Figure size 360x360 with 3 Axes>"
      ]
     },
     "metadata": {
      "needs_background": "light"
     },
     "output_type": "display_data"
    },
    {
     "name": "stdout",
     "output_type": "stream",
     "text": [
      "61\n"
     ]
    },
    {
     "data": {
      "image/png": "[encoded data removed]",
      "text/plain": [
       "<Figure size 360x360 with 3 Axes>"
      ]
     },
     "metadata": {
      "needs_background": "light"
     },
     "output_type": "display_data"
    },
    {
     "name": "stdout",
     "output_type": "stream",
     "text": [
      "62\n"
     ]
    },
    {
     "data": {
      "image/png": "[encoded data removed]",
      "text/plain": [
       "<Figure size 360x360 with 3 Axes>"
      ]
     },
     "metadata": {
      "needs_background": "light"
     },
     "output_type": "display_data"
    },
    {
     "name": "stdout",
     "output_type": "stream",
     "text": [
      "63\n"
     ]
    },
    {
     "data": {
      "image/png": "[encoded data removed]",
      "text/plain": [
       "<Figure size 360x360 with 3 Axes>"
      ]
     },
     "metadata": {
      "needs_background": "light"
     },
     "output_type": "display_data"
    }
   ],
   "source": [
    "# https://towardsdatascience.com/@arshren\n",
    "# https://towardsdatascience.com/convolutional-neural-network-feature-map-and-filter-visualization-f75012a5a49c\n",
    "def plotFilters(conv_filter):\n",
    "    fig, axes = plt.subplots(1, 3, figsize=(5,5))\n",
    "    axes = axes.flatten()\n",
    "    for img, ax in zip( conv_filter, axes):\n",
    "        ax.imshow(img)\n",
    "        ax.axis('off')\n",
    "    plt.tight_layout()\n",
    "    plt.show()\n",
    "for layer in model.layers:\n",
    "    if 'conv' in layer.name:\n",
    "        filters, bias= layer.get_weights()\n",
    "        print(layer.name, filters.shape)\n",
    "         #normalize filter values between  0 and 1 for visualization\n",
    "        f_min, f_max = filters.min(), filters.max()\n",
    "        filters = (filters - f_min) / (f_max - f_min)  \n",
    "        print(filters.shape[3])\n",
    "        axis_x=1\n",
    "        #plotting all the filters\n",
    "        for i in range(filters.shape[3]):\n",
    "        #for i in range(6):\n",
    "            print(i)\n",
    "            #get the filters\n",
    "            filt=filters[:,:,:, i]\n",
    "            plotFilters(filt)"
   ]
  },
  {
   "cell_type": "code",
   "execution_count": 57,
   "metadata": {
    "collapsed": true
   },
   "outputs": [
    {
     "name": "stdout",
     "output_type": "stream",
     "text": [
      "conv2d_2 (3, 3, 1, 32)\n",
      "32\n",
      "[[[0.48098376]\n",
      "  [0.3091092 ]\n",
      "  [0.92305005]]\n",
      "\n",
      " [[0.9354818 ]\n",
      "  [0.32662886]\n",
      "  [0.25994942]]\n",
      "\n",
      " [[0.8585023 ]\n",
      "  [0.346942  ]\n",
      "  [0.27077532]]]\n",
      "3\n"
     ]
    },
    {
     "ename": "AttributeError",
     "evalue": "'tuple' object has no attribute 'set_xticks'",
     "output_type": "error",
     "traceback": [
      "\u001b[1;31m---------------------------------------------------------------------------\u001b[0m",
      "\u001b[1;31mAttributeError\u001b[0m                            Traceback (most recent call last)",
      "\u001b[1;32m<ipython-input-57-1cd8622e8057>\u001b[0m in \u001b[0;36m<module>\u001b[1;34m\u001b[0m\n\u001b[0;32m     23\u001b[0m                \u001b[1;31m# ax= plt.subplot(filters.shape[3], filters.shape[0], filter_cnt  )\u001b[0m\u001b[1;33m\u001b[0m\u001b[1;33m\u001b[0m\u001b[1;33m\u001b[0m\u001b[0m\n\u001b[0;32m     24\u001b[0m                 \u001b[0max\u001b[0m\u001b[1;33m=\u001b[0m\u001b[0mplt\u001b[0m\u001b[1;33m.\u001b[0m\u001b[0msubplots\u001b[0m\u001b[1;33m(\u001b[0m\u001b[1;36m1\u001b[0m\u001b[1;33m,\u001b[0m \u001b[1;36m3\u001b[0m\u001b[1;33m,\u001b[0m \u001b[0mfigsize\u001b[0m\u001b[1;33m=\u001b[0m\u001b[1;33m(\u001b[0m\u001b[1;36m5\u001b[0m\u001b[1;33m,\u001b[0m\u001b[1;36m5\u001b[0m\u001b[1;33m)\u001b[0m\u001b[1;33m)\u001b[0m\u001b[1;33m\u001b[0m\u001b[1;33m\u001b[0m\u001b[0m\n\u001b[1;32m---> 25\u001b[1;33m                 \u001b[0max\u001b[0m\u001b[1;33m.\u001b[0m\u001b[0mset_xticks\u001b[0m\u001b[1;33m(\u001b[0m\u001b[1;33m[\u001b[0m\u001b[1;33m]\u001b[0m\u001b[1;33m)\u001b[0m\u001b[1;33m\u001b[0m\u001b[1;33m\u001b[0m\u001b[0m\n\u001b[0m\u001b[0;32m     26\u001b[0m                 \u001b[0max\u001b[0m\u001b[1;33m.\u001b[0m\u001b[0mset_yticks\u001b[0m\u001b[1;33m(\u001b[0m\u001b[1;33m[\u001b[0m\u001b[1;33m]\u001b[0m\u001b[1;33m)\u001b[0m\u001b[1;33m\u001b[0m\u001b[1;33m\u001b[0m\u001b[0m\n\u001b[0;32m     27\u001b[0m                 \u001b[0mplt\u001b[0m\u001b[1;33m.\u001b[0m\u001b[0mimshow\u001b[0m\u001b[1;33m(\u001b[0m\u001b[0mfilt\u001b[0m\u001b[1;33m[\u001b[0m\u001b[1;33m:\u001b[0m\u001b[1;33m,\u001b[0m\u001b[1;33m:\u001b[0m\u001b[1;33m,\u001b[0m\u001b[0mj\u001b[0m\u001b[1;33m]\u001b[0m\u001b[1;33m)\u001b[0m\u001b[1;33m\u001b[0m\u001b[1;33m\u001b[0m\u001b[0m\n",
      "\u001b[1;31mAttributeError\u001b[0m: 'tuple' object has no attribute 'set_xticks'"
     ]
    },
    {
     "data": {
      "image/png": "[encoded data removed]",
      "text/plain": [
       "<Figure size 360x360 with 3 Axes>"
      ]
     },
     "metadata": {
      "needs_background": "light"
     },
     "output_type": "display_data"
    }
   ],
   "source": [
    "#Visualizing the filters\n",
    "#plt.figure(figsize=(5,5))\n",
    "for layer in model.layers:\n",
    "    if 'conv' in layer.name:\n",
    "        weights, bias= layer.get_weights()\n",
    "        print(layer.name, weights.shape)\n",
    "         #normalize filter values between  0 and 1 for visualization\n",
    "        f_min, f_max = weights.min(), weights.max()\n",
    "        filters = (weights - f_min) / (f_max - f_min)  \n",
    "        print(weights.shape[3])\n",
    "        filter_cnt=1\n",
    "        #plotting all the filters\n",
    "        for i in range(filters.shape[3]):\n",
    "        #for i in range(6):\n",
    "            #get the filters\n",
    "            filt=filters[:,:,:, i]\n",
    "            #plotting ecah channel\n",
    "            print(filt)\n",
    "            print(filters.shape[0])\n",
    "            for j in range(filters.shape[0]):\n",
    "                #plt.figure( figsize=(5, 5) )\n",
    "                #f = plt.figure(figsize=(10,10))\n",
    "               # ax= plt.subplot(filters.shape[3], filters.shape[0], filter_cnt  )\n",
    "                ax=plt.subplots(1, 3, figsize=(5,5))\n",
    "                ax.set_xticks([])\n",
    "                ax.set_yticks([])\n",
    "                plt.imshow(filt[:,:,j])\n",
    "                filter_cnt+=1\n",
    "        plt.show()"
   ]
  },
  {
   "cell_type": "code",
   "execution_count": 32,
   "metadata": {
    "collapsed": true
   },
   "outputs": [
    {
     "name": "stdout",
     "output_type": "stream",
     "text": [
      "<tensorflow.python.keras.layers.convolutional.Conv2D object at 0x0000028D359C1F48>\n",
      "<tensorflow.python.keras.layers.convolutional.Conv2D object at 0x0000028D35E9F848>\n",
      "<tensorflow.python.keras.layers.pooling.MaxPooling2D object at 0x0000028D35E9F8C8>\n",
      "<tensorflow.python.keras.layers.core.Dropout object at 0x0000028D35C56D08>\n",
      "<tensorflow.python.keras.layers.core.Flatten object at 0x0000028D35C56988>\n",
      "<tensorflow.python.keras.layers.core.Dense object at 0x0000028D35E9F248>\n",
      "<tensorflow.python.keras.layers.core.Dropout object at 0x0000028D35C61508>\n",
      "<tensorflow.python.keras.layers.core.Dense object at 0x0000028D35C61F88>\n"
     ]
    }
   ],
   "source": [
    "for i in model.layers:\n",
    "    print(i)\n",
    "    "
   ]
  },
  {
   "cell_type": "code",
   "execution_count": 44,
   "metadata": {
    "collapsed": true
   },
   "outputs": [
    {
     "name": "stdout",
     "output_type": "stream",
     "text": [
      "[array([[[[-0.18970339, -0.12138163, -0.19653699,  0.13805361,\n",
      "          -0.14092238,  0.1387037 ,  0.17689975,  0.03933096,\n",
      "          -0.13276833,  0.18121709, -0.16604748,  0.0946212 ,\n",
      "           0.02280859,  0.24142787, -0.120423  , -0.12095668,\n",
      "          -0.02235902, -0.15688808,  0.06234642, -0.14062913,\n",
      "          -0.00202147, -0.102249  , -0.03472733, -0.1185344 ,\n",
      "           0.06419595,  0.03194363, -0.02838572,  0.02419518,\n",
      "          -0.1918435 , -0.21067458,  0.1652192 ,  0.03845046]],\n",
      "\n",
      "        [[ 0.02791219, -0.16550885,  0.03602784,  0.10544978,\n",
      "           0.08354167,  0.05570353,  0.09295445,  0.20492786,\n",
      "          -0.01574562,  0.17757478, -0.05277351,  0.07914827,\n",
      "          -0.12447267,  0.2243821 ,  0.07127114,  0.0875362 ,\n",
      "           0.12487379,  0.0316698 ,  0.01358562, -0.14874038,\n",
      "          -0.03008964,  0.02659216,  0.21241094, -0.04649625,\n",
      "          -0.0388626 ,  0.19114509,  0.00416774,  0.07057486,\n",
      "          -0.1852434 , -0.14446457, -0.12961864,  0.02634425]],\n",
      "\n",
      "        [[ 0.16100155, -0.11230025,  0.24433468,  0.2021727 ,\n",
      "          -0.02458203, -0.04205084, -0.09140577,  0.09592457,\n",
      "          -0.20357768,  0.11640222, -0.12876877,  0.16147351,\n",
      "          -0.09273059,  0.06180425, -0.15062176,  0.06022768,\n",
      "           0.25426418, -0.1048724 ,  0.09717668,  0.05829712,\n",
      "          -0.20567553,  0.23679627,  0.17292419,  0.12363844,\n",
      "           0.16833082,  0.03454647,  0.1997715 , -0.20099205,\n",
      "          -0.15272029, -0.11413089, -0.26280504,  0.25490177]]],\n",
      "\n",
      "\n",
      "       [[[ 0.07557426,  0.17402926, -0.10912795,  0.15787856,\n",
      "          -0.18677616,  0.15611199,  0.1463672 , -0.07887684,\n",
      "          -0.00495002,  0.16188012,  0.18229623,  0.06452591,\n",
      "           0.26839614,  0.02404437,  0.02236881,  0.06893477,\n",
      "          -0.21269284, -0.18619527,  0.00561623,  0.06383119,\n",
      "           0.19042094, -0.10327722, -0.18990888, -0.23097321,\n",
      "          -0.00728795,  0.14400448, -0.13061994,  0.17314148,\n",
      "          -0.09411423, -0.0599551 ,  0.17133555, -0.07380178]],\n",
      "\n",
      "        [[-0.26542178, -0.11157554,  0.20451519, -0.02966854,\n",
      "          -0.0317894 ,  0.0405177 , -0.09531128,  0.10287917,\n",
      "          -0.09167167, -0.13075675,  0.13717273, -0.08057153,\n",
      "          -0.09496281,  0.01234758,  0.03551101,  0.1349441 ,\n",
      "           0.15735155,  0.06151951,  0.10258471,  0.16626905,\n",
      "           0.0661469 ,  0.1431437 ,  0.06429117,  0.01043941,\n",
      "           0.08276183,  0.16403551, -0.10387479, -0.06795262,\n",
      "           0.13585313, -0.01342006,  0.02770699,  0.15656021]],\n",
      "\n",
      "        [[-0.0119862 ,  0.09728798, -0.09012026, -0.15302722,\n",
      "           0.18097147, -0.0448349 , -0.06407365, -0.06888591,\n",
      "           0.05828168,  0.02223424,  0.04121851, -0.04357908,\n",
      "          -0.16641434, -0.14634617,  0.09627758, -0.07566006,\n",
      "           0.063402  ,  0.08633762,  0.141049  , -0.05893647,\n",
      "          -0.25060648,  0.20535143,  0.08088242,  0.15040678,\n",
      "           0.11969329, -0.20537731,  0.17270222, -0.07044069,\n",
      "           0.11297119, -0.0036989 ,  0.0058781 ,  0.01803595]]],\n",
      "\n",
      "\n",
      "       [[[ 0.25191268, -0.01019484,  0.13084364, -0.07229673,\n",
      "          -0.12631457,  0.18850243,  0.16333807, -0.25077033,\n",
      "           0.1696788 , -0.12726156,  0.2859407 , -0.21856105,\n",
      "           0.14720798, -0.14601165,  0.10118575,  0.15517822,\n",
      "          -0.20551448, -0.08227828,  0.13071853,  0.02088997,\n",
      "           0.21181196, -0.02705022, -0.26086584, -0.15007457,\n",
      "          -0.09701689, -0.01704226, -0.17993817,  0.16724575,\n",
      "           0.2429883 ,  0.09689576,  0.08139192, -0.2719269 ]],\n",
      "\n",
      "        [[-0.03378206,  0.16114093,  0.13616267, -0.13424708,\n",
      "           0.12401938,  0.12123413, -0.10590423, -0.3083698 ,\n",
      "          -0.04417216, -0.02558927,  0.02328915, -0.05548123,\n",
      "           0.02057303, -0.26037985, -0.02027948, -0.01126391,\n",
      "           0.000329  ,  0.20535938,  0.06088364,  0.10750724,\n",
      "           0.0099418 , -0.01301607, -0.07690267,  0.05199071,\n",
      "          -0.15127012, -0.13510169, -0.02374011,  0.08847264,\n",
      "           0.04273219,  0.17403819,  0.16349426, -0.20961174]],\n",
      "\n",
      "        [[-0.09396113,  0.16455272, -0.29868728, -0.1499619 ,\n",
      "           0.155469  , -0.03477617, -0.2787887 , -0.14400914,\n",
      "           0.20468631, -0.21649596, -0.07059176,  0.02859235,\n",
      "          -0.10064249, -0.15913995,  0.10791641,  0.06941561,\n",
      "          -0.03481381,  0.21185018, -0.00580234,  0.17391522,\n",
      "           0.0139564 , -0.09089268,  0.03921492,  0.21763605,\n",
      "          -0.07215751, -0.29446536,  0.08053764, -0.03245898,\n",
      "           0.1146685 ,  0.14856406, -0.02650333, -0.00768201]]]],\n",
      "      dtype=float32), array([ 0.02904251,  0.02794725,  0.00432343,  0.02304281,  0.00735616,\n",
      "       -0.02290934, -0.00526648,  0.06100404,  0.0461427 ,  0.00791754,\n",
      "        0.0233018 , -0.00115858,  0.04182834,  0.05410218, -0.00238287,\n",
      "       -0.05592601,  0.00559498,  0.01747003, -0.05613731, -0.00470228,\n",
      "       -0.00284873, -0.01019291,  0.0059177 , -0.00326895,  0.00011373,\n",
      "       -0.00547111,  0.01909203, -0.00917884,  0.00749891,  0.00539815,\n",
      "        0.01309816, -0.00582314], dtype=float32), array([[[[-8.26160833e-02,  1.02980919e-01,  1.11376800e-01, ...,\n",
      "          -7.42077501e-03, -6.51938394e-02, -8.79137311e-03],\n",
      "         [ 9.71868560e-02,  1.36855152e-02, -1.20706700e-01, ...,\n",
      "          -8.82636942e-03, -3.73749919e-02,  7.13081807e-02],\n",
      "         [-6.49928227e-02, -4.85479832e-02,  1.31558970e-01, ...,\n",
      "           1.47592485e-01, -7.01459050e-02,  2.32933342e-01],\n",
      "         ...,\n",
      "         [ 1.05207448e-03, -1.11627042e-01, -8.89395475e-02, ...,\n",
      "           1.74954664e-02, -5.95778972e-02,  5.63642457e-02],\n",
      "         [-9.32450145e-02,  9.59077924e-02, -4.61466499e-02, ...,\n",
      "          -5.03515713e-02,  1.45799920e-01, -1.46258116e-01],\n",
      "         [-1.85986590e-02, -2.17478991e-01,  4.13008481e-02, ...,\n",
      "          -6.95336163e-02,  1.01998046e-01, -8.08760226e-02]],\n",
      "\n",
      "        [[-4.43882821e-03, -3.90051957e-03, -2.06507653e-01, ...,\n",
      "          -1.47401011e-02,  1.11792117e-01,  2.19964534e-02],\n",
      "         [-5.09678423e-02,  8.69004615e-03,  1.27255488e-02, ...,\n",
      "          -2.67717782e-02, -2.74528619e-02, -2.85117663e-02],\n",
      "         [ 1.36333108e-01, -3.51646900e-01, -2.09063381e-01, ...,\n",
      "           3.60693708e-02,  9.21570435e-02,  1.17751218e-01],\n",
      "         ...,\n",
      "         [-1.90094821e-02,  7.30912611e-02, -8.29066858e-02, ...,\n",
      "          -3.49244215e-02, -1.51510179e-01, -9.65493545e-02],\n",
      "         [-9.47010443e-02,  1.24287285e-01, -1.48363993e-01, ...,\n",
      "          -6.63658902e-02,  9.29606035e-02, -1.13190614e-01],\n",
      "         [ 2.52337139e-02, -1.58717215e-01,  9.71480310e-02, ...,\n",
      "          -9.66572028e-04, -5.09189107e-02, -8.60322043e-02]],\n",
      "\n",
      "        [[ 2.25256473e-01, -1.12669289e-01, -1.08352266e-01, ...,\n",
      "          -1.84893645e-02, -2.63815299e-02, -1.57375131e-02],\n",
      "         [-2.14127779e-01,  1.54127777e-01, -1.82241186e-01, ...,\n",
      "          -2.63765920e-02, -6.65500611e-02, -2.23912805e-01],\n",
      "         [ 1.47588506e-01, -1.33672997e-01,  1.27868488e-01, ...,\n",
      "           1.08359650e-01,  8.29575211e-02,  1.19823575e-01],\n",
      "         ...,\n",
      "         [-1.85742322e-02,  3.39122526e-02, -8.55099484e-02, ...,\n",
      "          -1.08335331e-01, -6.25449792e-02, -1.68940723e-01],\n",
      "         [-1.22055553e-01, -1.78771783e-02, -7.84714520e-02, ...,\n",
      "          -7.12309852e-02,  1.15895383e-02,  4.91135288e-05],\n",
      "         [ 7.31405243e-02, -1.19965561e-01, -5.72856748e-03, ...,\n",
      "          -3.27466838e-02,  1.23508042e-02, -1.03324428e-01]]],\n",
      "\n",
      "\n",
      "       [[[ 2.02267971e-02,  7.51823536e-04, -7.08231479e-02, ...,\n",
      "          -9.42937657e-02, -3.67860757e-02, -6.91693323e-03],\n",
      "         [ 9.96332988e-02, -1.63647547e-01, -1.02818005e-01, ...,\n",
      "          -1.07227407e-01,  7.62637751e-03, -1.13773912e-01],\n",
      "         [-5.07144593e-02, -5.12415990e-02, -7.26047009e-02, ...,\n",
      "          -2.77163610e-02, -8.42930377e-02,  1.77965283e-01],\n",
      "         ...,\n",
      "         [ 8.07236508e-02, -9.93339419e-02, -7.27728382e-02, ...,\n",
      "          -1.46025002e-01, -3.87564525e-02,  4.55585606e-02],\n",
      "         [-3.16360295e-02,  1.06591024e-01,  4.63546365e-02, ...,\n",
      "          -6.46995679e-02,  8.46095979e-02, -1.06452756e-01],\n",
      "         [ 1.36589967e-02, -1.84925288e-01, -6.61316812e-02, ...,\n",
      "          -1.01413257e-01,  1.32216915e-01, -1.68163314e-01]],\n",
      "\n",
      "        [[ 1.01971209e-01, -1.81029066e-01, -8.52744430e-02, ...,\n",
      "          -7.49451816e-02,  2.70147109e-03, -1.51063576e-01],\n",
      "         [-6.65518567e-02,  1.08455755e-01, -3.32461447e-02, ...,\n",
      "           2.40341276e-02, -6.63751885e-02, -1.91546679e-01],\n",
      "         [ 2.39396513e-01, -2.31136918e-01, -6.36708960e-02, ...,\n",
      "          -2.95590498e-02,  2.89519522e-02,  3.93154100e-02],\n",
      "         ...,\n",
      "         [-9.51816589e-02, -1.50572862e-02, -6.81701154e-02, ...,\n",
      "          -1.62160158e-01, -4.62443568e-02, -2.34928414e-01],\n",
      "         [-1.39835432e-01,  6.61004409e-02, -8.98088515e-02, ...,\n",
      "          -3.93088870e-02, -3.64267454e-03,  6.72188699e-02],\n",
      "         [-3.22747417e-02, -1.07488655e-01,  6.30289093e-02, ...,\n",
      "          -5.65595292e-02, -5.50913885e-02, -2.53092378e-01]],\n",
      "\n",
      "        [[ 9.90736634e-02, -1.10920541e-01, -7.93402866e-02, ...,\n",
      "          -1.71702858e-02, -5.62920468e-03, -2.21886098e-01],\n",
      "         [-1.32917305e-02, -2.94289608e-02, -1.39600500e-01, ...,\n",
      "          -6.05656169e-02,  6.81028292e-02, -1.99468374e-01],\n",
      "         [ 3.01512610e-03,  1.58622116e-02,  4.91273850e-02, ...,\n",
      "          -4.44949828e-02, -1.35435194e-01,  2.13070214e-02],\n",
      "         ...,\n",
      "         [-7.38523826e-02, -1.77417248e-02, -5.60811237e-02, ...,\n",
      "          -5.86081967e-02,  6.70399740e-02, -6.72416016e-02],\n",
      "         [ 3.05420496e-02, -1.47253484e-01, -5.74215651e-02, ...,\n",
      "          -1.00078271e-03,  5.70155531e-02,  2.79296879e-02],\n",
      "         [-1.00516498e-01, -5.33606634e-02, -7.12829605e-02, ...,\n",
      "           4.61058281e-02,  1.26599129e-02, -2.09260553e-01]]],\n",
      "\n",
      "\n",
      "       [[[ 4.20163758e-02, -1.08925350e-01, -1.78026259e-02, ...,\n",
      "          -6.66969195e-02,  2.32171398e-02, -5.60910217e-02],\n",
      "         [-5.52847534e-02, -6.36825636e-02,  1.19657382e-01, ...,\n",
      "           1.24633592e-02, -1.11411177e-01, -1.04533441e-01],\n",
      "         [ 6.63101822e-02, -4.19455133e-02, -1.90380678e-01, ...,\n",
      "           6.52065687e-03,  1.10108785e-01,  2.78453473e-02],\n",
      "         ...,\n",
      "         [ 2.18843017e-02, -5.27813248e-02, -4.61452529e-02, ...,\n",
      "          -7.52322599e-02,  8.95168865e-04, -1.71035856e-01],\n",
      "         [-6.18965290e-02,  3.59606035e-02,  1.41608834e-01, ...,\n",
      "           2.99317408e-02,  7.64561770e-03, -3.45083438e-02],\n",
      "         [ 3.63833345e-02, -2.74771303e-01, -1.66293550e-02, ...,\n",
      "          -1.59816630e-02,  1.09938048e-01, -1.77426025e-01]],\n",
      "\n",
      "        [[ 1.36489153e-01, -2.39317939e-01,  2.74855308e-02, ...,\n",
      "          -1.69186983e-02, -8.40818882e-03, -1.94948256e-01],\n",
      "         [-6.77289814e-02, -5.18198460e-02, -1.02343269e-01, ...,\n",
      "           5.13270758e-02,  2.21776031e-02, -8.68990868e-02],\n",
      "         [ 3.52812000e-02, -1.55669570e-01,  1.85579672e-01, ...,\n",
      "          -6.76098317e-02,  4.58262675e-02, -1.60379112e-01],\n",
      "         ...,\n",
      "         [-8.61446857e-02, -4.87692468e-02,  4.84763607e-02, ...,\n",
      "          -6.37540743e-02, -2.65358910e-02, -6.52835891e-02],\n",
      "         [-1.12421751e-01, -1.14232682e-01, -2.75864657e-02, ...,\n",
      "           9.34169441e-02, -6.56602755e-02, -4.43335846e-02],\n",
      "         [-1.33502036e-01, -9.86042246e-02,  2.64792852e-02, ...,\n",
      "           3.08144763e-02, -5.41361189e-03, -2.43208915e-01]],\n",
      "\n",
      "        [[-6.86416924e-02, -1.34623483e-01,  9.01682302e-04, ...,\n",
      "          -1.53106749e-02, -5.07943854e-02, -3.01357731e-02],\n",
      "         [ 3.11721563e-02, -3.72461639e-02, -3.96954380e-02, ...,\n",
      "           2.56007351e-02,  3.35922688e-02, -9.06529184e-03],\n",
      "         [-1.57997116e-01, -5.50839901e-02,  9.44373980e-02, ...,\n",
      "          -1.80972759e-02, -5.89867570e-02, -4.38145772e-02],\n",
      "         ...,\n",
      "         [ 3.29324277e-03, -1.44834304e-02,  7.04602432e-03, ...,\n",
      "           8.20525959e-02, -3.00737061e-02,  3.65965925e-02],\n",
      "         [ 1.46425664e-01, -2.14345261e-01,  2.44389344e-02, ...,\n",
      "          -1.28615079e-02, -2.46348158e-02,  1.07436635e-01],\n",
      "         [-6.40075207e-02, -2.31778305e-02, -6.70838803e-02, ...,\n",
      "           2.49281190e-02,  4.62818146e-02, -1.21229932e-01]]]],\n",
      "      dtype=float32), array([-0.00322692,  0.02485267, -0.05034434, -0.01083419, -0.06020592,\n",
      "       -0.02951203, -0.03951688, -0.00581603, -0.00869511,  0.01287466,\n",
      "       -0.02045723,  0.0223667 , -0.02182754, -0.02077546, -0.02526256,\n",
      "       -0.01736387, -0.03569106, -0.02578379,  0.01907673, -0.02844427,\n",
      "       -0.03049716, -0.01777098, -0.02304507,  0.0061388 , -0.03069234,\n",
      "        0.00446324, -0.01190354, -0.0319162 , -0.01420667, -0.02866817,\n",
      "       -0.03596446, -0.01710356,  0.01583396, -0.01974448,  0.00994424,\n",
      "       -0.03661076, -0.00651808, -0.03115835, -0.02917488, -0.02898088,\n",
      "       -0.02109529, -0.02544462, -0.00713427, -0.02825473, -0.01735481,\n",
      "        0.00080759, -0.00081196, -0.03093795, -0.02591807, -0.02701537,\n",
      "       -0.02801141, -0.03953332, -0.01794488, -0.01885109, -0.01798949,\n",
      "       -0.00106483, -0.01801725, -0.03508369, -0.01815596, -0.00218996,\n",
      "        0.00056255, -0.02017669, -0.03376459, -0.0227497 ], dtype=float32), array([[-0.01510818,  0.02166446, -0.00079303, ..., -0.02350843,\n",
      "        -0.00376695, -0.0161397 ],\n",
      "       [-0.01763528,  0.03155492,  0.02308751, ..., -0.02775017,\n",
      "         0.01048958, -0.00188671],\n",
      "       [-0.02403483, -0.00128047, -0.01947126, ..., -0.00670354,\n",
      "         0.01264016, -0.02648729],\n",
      "       ...,\n",
      "       [-0.00665389, -0.01555686, -0.00210489, ..., -0.00107521,\n",
      "         0.00710339,  0.0108032 ],\n",
      "       [-0.01562952, -0.04030858, -0.00475054, ...,  0.02627389,\n",
      "        -0.05786296, -0.0066318 ],\n",
      "       [-0.00358788,  0.02955054, -0.01440556, ...,  0.03021142,\n",
      "        -0.02074486,  0.01245587]], dtype=float32), array([-6.35237619e-03, -1.19137885e-02, -5.98918553e-03,  4.37728828e-04,\n",
      "        3.12216748e-02, -6.00366807e-03, -2.36172173e-02, -2.50328891e-02,\n",
      "       -6.00453094e-03, -1.05488393e-02,  7.60874199e-03, -1.01368455e-02,\n",
      "        1.45261560e-03, -1.41269043e-02, -1.01688206e-02,  2.13047210e-03,\n",
      "        2.14487854e-02,  2.32319557e-03, -3.10517531e-02, -7.26023875e-03,\n",
      "       -2.06723437e-02,  1.61779597e-02, -7.25017767e-03, -6.55160844e-03,\n",
      "       -1.21524651e-02, -9.16349236e-03, -6.00303896e-03, -1.80835743e-02,\n",
      "        6.89296611e-03, -1.16525926e-02, -9.73469112e-03, -5.37549937e-03,\n",
      "        7.49465358e-03, -4.58483323e-02, -3.36610824e-02, -2.25999933e-02,\n",
      "        1.78168658e-02, -1.80916134e-02,  5.18347090e-03,  1.26828859e-02,\n",
      "       -5.80152031e-03, -2.58461311e-02,  6.82466244e-03, -1.22210188e-02,\n",
      "       -1.12256072e-02, -2.10363381e-02, -6.11909060e-03,  2.49696523e-02,\n",
      "        2.45873537e-03, -5.92687214e-03, -3.15494910e-02, -7.38214003e-03,\n",
      "       -3.34418449e-03, -1.43686710e-02,  8.46255850e-03, -9.89601295e-03,\n",
      "        1.33221587e-02, -2.62586772e-02,  1.25928409e-02,  1.74319241e-02,\n",
      "        1.60313975e-02, -2.85533108e-02, -9.29684564e-03, -2.15794472e-03,\n",
      "        1.66708902e-02,  8.30894336e-03, -1.93708539e-02, -6.96213683e-03,\n",
      "        6.84509287e-03, -6.36003818e-03, -1.44991502e-02,  1.53427487e-02,\n",
      "       -1.00456160e-02,  6.29959162e-03,  3.02706938e-03, -4.14623506e-03,\n",
      "       -6.93625212e-03,  1.67286135e-02, -4.77656303e-03, -1.04028499e-02,\n",
      "        1.11750350e-03, -3.18036079e-02, -8.11629216e-05, -1.83633552e-03,\n",
      "        1.17938165e-02, -2.49628369e-02, -2.05705245e-03, -6.01645606e-03,\n",
      "        1.95146643e-03, -5.49782161e-03,  8.65274295e-03, -9.82616842e-03,\n",
      "       -3.00338678e-02, -8.44749715e-03, -1.84075162e-02, -5.11676222e-02,\n",
      "        2.67762616e-02, -6.00281497e-03, -1.03770280e-02, -1.47816362e-02,\n",
      "       -8.60980339e-03,  1.62052661e-02, -6.00357028e-03, -1.53729394e-02,\n",
      "       -4.31361794e-03, -1.03600621e-02,  1.73022952e-02,  2.64986348e-03,\n",
      "       -2.34099925e-02,  1.45310368e-02, -6.00279402e-03,  5.84837561e-03,\n",
      "        4.64454619e-03,  3.89770535e-03, -6.56011328e-03,  4.08525253e-03,\n",
      "        2.91519091e-02, -9.61178727e-03, -2.38834023e-02,  7.33213406e-03,\n",
      "        1.41305728e-02,  2.30009258e-02,  2.12893467e-02, -6.31320663e-03,\n",
      "       -6.00375189e-03,  2.08760612e-02, -1.59087423e-02, -8.02168623e-03],\n",
      "      dtype=float32), array([[ 0.08026744,  0.03952955, -0.08589806, ..., -0.15180512,\n",
      "        -0.11475502, -0.04026794],\n",
      "       [-0.26792455,  0.02544192, -0.20543495, ..., -0.15731452,\n",
      "         0.03349363,  0.08136246],\n",
      "       [-0.05925808,  0.09177122, -0.14625992, ..., -0.19883113,\n",
      "         0.13489677,  0.0725847 ],\n",
      "       ...,\n",
      "       [-0.21319167,  0.1639705 , -0.23474643, ...,  0.19078483,\n",
      "        -0.19465068, -0.11367138],\n",
      "       [ 0.02364472, -0.1820432 ,  0.05171962, ...,  0.12962204,\n",
      "         0.13536967,  0.0695369 ],\n",
      "       [-0.2046439 , -0.13286203, -0.13819736, ...,  0.00341919,\n",
      "         0.13274059, -0.14684059]], dtype=float32), array([ 0.09042729,  0.02285439,  0.0390011 ,  0.00435078, -0.04326505,\n",
      "        0.00637992, -0.06609736, -0.00510589, -0.02673356, -0.01317288],\n",
      "      dtype=float32)]\n"
     ]
    }
   ],
   "source": [
    "# define a vertical line detector\n",
    "detector = [[[[0]],[[1]],[[0]]],\n",
    "            [[[0]],[[1]],[[0]]],\n",
    "            [[[0]],[[1]],[[0]]]]\n",
    "weights = [np.asarray(detector), np.asarray([0.0])]\n",
    "# store the weights in the model\n",
    "#model.set_weights(weights)\n",
    "# confirm they were stored\n",
    "print(model.get_weights())"
   ]
  },
  {
   "cell_type": "code",
   "execution_count": 45,
   "metadata": {},
   "outputs": [
    {
     "data": {
      "image/png": "[encoded data removed]",
      "text/plain": [
       "<IPython.core.display.Image object>"
      ]
     },
     "execution_count": 45,
     "metadata": {},
     "output_type": "execute_result"
    }
   ],
   "source": [
    "from IPython.display import Image\n",
    "Image(filename='E:\\\\tensorFlow\\\\kernelImg.PNG')"
   ]
  },
  {
   "cell_type": "code",
   "execution_count": 25,
   "metadata": {},
   "outputs": [
    {
     "name": "stdout",
     "output_type": "stream",
     "text": [
      "320\n"
     ]
    }
   ],
   "source": [
    "#1179776/128\n",
    "#9217/32\n",
    "# dense_13 10 * 128 * 1\n",
    "\n",
    "\n",
    "#print(((3*3) * 32 + 1) * 64)\n",
    "#print((3 * 3 * 32+1) * 64)\n",
    " # https://m.com/@iamvarman/how-to-calculate-the-number-of-parameters-in-the-cnn-5bd55364d7ca\n",
    "    \n",
    "# Convolutional Layer: Consider a convolutional layer which takes “l” feature maps as the input\n",
    "# and has “k” feature maps as output. The filter size is “n*m”.\n",
    "#print(((3*3) * 1 + 1) * 32)   # “(n*m*l+1)*k   => n = 3, m=3   , l is 32 feature maps\n",
    "# It is important to understand, that we don’t simply have a 3*3 filter, but actually, \n",
    "# we have 3*3*32 filter, as our input has 32 dimensions\n",
    "\n",
    "\n",
    "# Convolutional_1 : ((kernel_size)*stride+1)*filters) = 3*3*1+1*32 = 320 parameters.\n",
    "# In first layer, the convolutional layer has 32 filters.\n",
    "print(((3*3) * 1 + 1) * 32)  "
   ]
  },
  {
   "cell_type": "code",
   "execution_count": 39,
   "metadata": {},
   "outputs": [
    {
     "data": {
      "text/plain": [
       "26"
      ]
     },
     "execution_count": 39,
     "metadata": {},
     "output_type": "execute_result"
    }
   ],
   "source": [
    "# In the simple case, the size of the output CNN layer is calculated as “input_size-(filter_size-1)”\n",
    "(28 - (3-1))"
   ]
  },
  {
   "cell_type": "code",
   "execution_count": 26,
   "metadata": {},
   "outputs": [
    {
     "name": "stdout",
     "output_type": "stream",
     "text": [
      "18496\n"
     ]
    }
   ],
   "source": [
    "# Convolutional_2 : As convolutional_1 already learned 32 filters. So the number of \n",
    "# trainable parameters in this layer is 3 * 3 * 32 + 1 * 64 = 18496 and so on.\n",
    "\n",
    "print( (3 * 3 * 32 + 1) * 64)"
   ]
  },
  {
   "cell_type": "code",
   "execution_count": null,
   "metadata": {},
   "outputs": [],
   "source": [
    "# max pooling\n",
    "# This layer is used to reduce the input image size. kernal_size = (2,2) used here. \n",
    "# So input image 96 is reduced to half 48. And model learns nothing from this layer."
   ]
  },
  {
   "cell_type": "code",
   "execution_count": null,
   "metadata": {},
   "outputs": [],
   "source": [
    "# Dropout_1: Dropout layer does nothing. It just removes the nodes that are below the weights mentioned."
   ]
  },
  {
   "cell_type": "code",
   "execution_count": 27,
   "metadata": {},
   "outputs": [
    {
     "data": {
      "text/plain": [
       "1179776"
      ]
     },
     "execution_count": 27,
     "metadata": {},
     "output_type": "execute_result"
    }
   ],
   "source": [
    "# Flatten\n",
    "\n",
    "(9216 +1 )* 128   # superb here the 9216 is the input from Flatten n+1 => 9216+1, \n",
    "#no of outputs  128 (m) => (n+1) * m\n",
    "#1179776   "
   ]
  },
  {
   "cell_type": "code",
   "execution_count": null,
   "metadata": {},
   "outputs": [],
   "source": [
    "# Pooling Layer: There are no parameters you could learn in pooling layer.\n",
    "# This layer is just used to reduce the image dimension size."
   ]
  },
  {
   "cell_type": "markdown",
   "metadata": {},
   "source": [
    "# To reduce Overfitting\n",
    "\n",
    "* To reduce over-fitting, we use another technique known as Data Augmentation. Data augmentation rotates, \n",
    "* shears, zooms, etc the image so that the model learns to generalize and not remember specific data. If the model overfits, \n",
    "* it will perform very well on the images that it already knows but will fail if new images are given to it."
   ]
  },
  {
   "cell_type": "markdown",
   "metadata": {},
   "source": [
    "# https://yashk2810.github.io/Applying-Convolutional-Neural-Network-on-the-MNIST-dataset/"
   ]
  },
  {
   "cell_type": "code",
   "execution_count": 36,
   "metadata": {},
   "outputs": [
    {
     "name": "stdout",
     "output_type": "stream",
     "text": [
      "Requirement already satisfied: pydot in c:\\users\\home\\anaconda3\\lib\\site-packages (1.4.1)\n",
      "Requirement already satisfied: pyparsing>=2.1.4 in c:\\users\\home\\anaconda3\\lib\\site-packages (from pydot) (2.4.2)\n"
     ]
    }
   ],
   "source": [
    "! pip install pydot"
   ]
  },
  {
   "cell_type": "code",
   "execution_count": 37,
   "metadata": {},
   "outputs": [
    {
     "name": "stdout",
     "output_type": "stream",
     "text": [
      "Failed to import pydot. You must install pydot and graphviz for `pydotprint` to work.\n"
     ]
    }
   ],
   "source": [
    "from keras.utils.vis_utils import plot_model\n",
    "plot_model(model, to_file='model_plot.png', show_shapes=True, show_layer_names=True)"
   ]
  },
  {
   "cell_type": "code",
   "execution_count": 62,
   "metadata": {},
   "outputs": [],
   "source": [
    "gen = ImageDataGenerator(rotation_range=8, width_shift_range=0.08, shear_range=0.3,\n",
    "                         height_shift_range=0.08, zoom_range=0.08)\n",
    "\n",
    "test_gen = ImageDataGenerator()"
   ]
  },
  {
   "cell_type": "code",
   "execution_count": 64,
   "metadata": {},
   "outputs": [],
   "source": [
    "train_generator = gen.flow(x_train, y_train, batch_size=64)\n",
    "test_generator = test_gen.flow(x_test, y_test, batch_size=64)"
   ]
  },
  {
   "cell_type": "code",
   "execution_count": 65,
   "metadata": {
    "collapsed": true
   },
   "outputs": [
    {
     "name": "stdout",
     "output_type": "stream",
     "text": [
      "WARNING:tensorflow:From <ipython-input-65-bfca378ba6f7>:2: Model.fit_generator (from tensorflow.python.keras.engine.training) is deprecated and will be removed in a future version.\n",
      "Instructions for updating:\n",
      "Please use Model.fit, which supports generators.\n",
      "Epoch 1/5\n",
      "937/937 [==============================] - 166s 177ms/step - loss: 0.1638 - accuracy: 0.9506 - val_loss: 0.0283 - val_accuracy: 0.9906\n",
      "Epoch 2/5\n",
      "937/937 [==============================] - 150s 160ms/step - loss: 0.1085 - accuracy: 0.9673 - val_loss: 0.0251 - val_accuracy: 0.9919\n",
      "Epoch 3/5\n",
      "937/937 [==============================] - 152s 162ms/step - loss: 0.0918 - accuracy: 0.9723 - val_loss: 0.0204 - val_accuracy: 0.9929\n",
      "Epoch 4/5\n",
      "937/937 [==============================] - 151s 161ms/step - loss: 0.0823 - accuracy: 0.9757 - val_loss: 0.0286 - val_accuracy: 0.9908\n",
      "Epoch 5/5\n",
      "937/937 [==============================] - 152s 162ms/step - loss: 0.0772 - accuracy: 0.9773 - val_loss: 0.0207 - val_accuracy: 0.9925\n"
     ]
    },
    {
     "data": {
      "text/plain": [
       "<tensorflow.python.keras.callbacks.History at 0x17cab418608>"
      ]
     },
     "execution_count": 65,
     "metadata": {},
     "output_type": "execute_result"
    }
   ],
   "source": [
    "model.fit_generator(train_generator, steps_per_epoch=60000//64, epochs=5, \n",
    "                    validation_data=test_generator, validation_steps=10000//64)"
   ]
  },
  {
   "cell_type": "code",
   "execution_count": 70,
   "metadata": {
    "collapsed": true
   },
   "outputs": [
    {
     "ename": "ValueError",
     "evalue": "in user code:\n\n    C:\\Users\\Home\\Anaconda3\\lib\\site-packages\\tensorflow\\python\\keras\\engine\\training.py:941 test_function  *\n        outputs = self.distribute_strategy.run(\n    C:\\Users\\Home\\Anaconda3\\lib\\site-packages\\tensorflow\\python\\distribute\\distribute_lib.py:951 run  **\n        return self._extended.call_for_each_replica(fn, args=args, kwargs=kwargs)\n    C:\\Users\\Home\\Anaconda3\\lib\\site-packages\\tensorflow\\python\\distribute\\distribute_lib.py:2290 call_for_each_replica\n        return self._call_for_each_replica(fn, args, kwargs)\n    C:\\Users\\Home\\Anaconda3\\lib\\site-packages\\tensorflow\\python\\distribute\\distribute_lib.py:2649 _call_for_each_replica\n        return fn(*args, **kwargs)\n    C:\\Users\\Home\\Anaconda3\\lib\\site-packages\\tensorflow\\python\\keras\\engine\\training.py:912 test_step  **\n        y, y_pred, sample_weight, regularization_losses=self.losses)\n    C:\\Users\\Home\\Anaconda3\\lib\\site-packages\\tensorflow\\python\\keras\\engine\\compile_utils.py:205 __call__\n        loss_value = loss_obj(y_t, y_p, sample_weight=sw)\n    C:\\Users\\Home\\Anaconda3\\lib\\site-packages\\tensorflow\\python\\keras\\losses.py:143 __call__\n        losses = self.call(y_true, y_pred)\n    C:\\Users\\Home\\Anaconda3\\lib\\site-packages\\tensorflow\\python\\keras\\losses.py:246 call\n        return self.fn(y_true, y_pred, **self._fn_kwargs)\n    C:\\Users\\Home\\Anaconda3\\lib\\site-packages\\tensorflow\\python\\keras\\losses.py:1527 categorical_crossentropy\n        return K.categorical_crossentropy(y_true, y_pred, from_logits=from_logits)\n    C:\\Users\\Home\\Anaconda3\\lib\\site-packages\\tensorflow\\python\\keras\\backend.py:4561 categorical_crossentropy\n        target.shape.assert_is_compatible_with(output.shape)\n    C:\\Users\\Home\\Anaconda3\\lib\\site-packages\\tensorflow\\python\\framework\\tensor_shape.py:1117 assert_is_compatible_with\n        raise ValueError(\"Shapes %s and %s are incompatible\" % (self, other))\n\n    ValueError: Shapes (None, 1) and (None, 10) are incompatible\n",
     "output_type": "error",
     "traceback": [
      "\u001b[1;31m---------------------------------------------------------------------------\u001b[0m",
      "\u001b[1;31mValueError\u001b[0m                                Traceback (most recent call last)",
      "\u001b[1;32m<ipython-input-70-2f5e957d44d4>\u001b[0m in \u001b[0;36m<module>\u001b[1;34m\u001b[0m\n\u001b[1;32m----> 1\u001b[1;33m \u001b[0mscore\u001b[0m \u001b[1;33m=\u001b[0m \u001b[0mmodel\u001b[0m\u001b[1;33m.\u001b[0m\u001b[0mevaluate\u001b[0m\u001b[1;33m(\u001b[0m\u001b[0mx_test\u001b[0m\u001b[1;33m,\u001b[0m \u001b[0my_test\u001b[0m\u001b[1;33m)\u001b[0m\u001b[1;33m\u001b[0m\u001b[1;33m\u001b[0m\u001b[0m\n\u001b[0m\u001b[0;32m      2\u001b[0m \u001b[0mprint\u001b[0m\u001b[1;33m(\u001b[0m\u001b[1;33m)\u001b[0m\u001b[1;33m\u001b[0m\u001b[1;33m\u001b[0m\u001b[0m\n\u001b[0;32m      3\u001b[0m \u001b[0mprint\u001b[0m\u001b[1;33m(\u001b[0m\u001b[1;34m'Test accuracy: '\u001b[0m\u001b[1;33m,\u001b[0m \u001b[0mscore\u001b[0m\u001b[1;33m[\u001b[0m\u001b[1;36m1\u001b[0m\u001b[1;33m]\u001b[0m\u001b[1;33m)\u001b[0m\u001b[1;33m\u001b[0m\u001b[1;33m\u001b[0m\u001b[0m\n",
      "\u001b[1;32m~\\Anaconda3\\lib\\site-packages\\tensorflow\\python\\keras\\engine\\training.py\u001b[0m in \u001b[0;36m_method_wrapper\u001b[1;34m(self, *args, **kwargs)\u001b[0m\n\u001b[0;32m     64\u001b[0m   \u001b[1;32mdef\u001b[0m \u001b[0m_method_wrapper\u001b[0m\u001b[1;33m(\u001b[0m\u001b[0mself\u001b[0m\u001b[1;33m,\u001b[0m \u001b[1;33m*\u001b[0m\u001b[0margs\u001b[0m\u001b[1;33m,\u001b[0m \u001b[1;33m**\u001b[0m\u001b[0mkwargs\u001b[0m\u001b[1;33m)\u001b[0m\u001b[1;33m:\u001b[0m\u001b[1;33m\u001b[0m\u001b[1;33m\u001b[0m\u001b[0m\n\u001b[0;32m     65\u001b[0m     \u001b[1;32mif\u001b[0m \u001b[1;32mnot\u001b[0m \u001b[0mself\u001b[0m\u001b[1;33m.\u001b[0m\u001b[0m_in_multi_worker_mode\u001b[0m\u001b[1;33m(\u001b[0m\u001b[1;33m)\u001b[0m\u001b[1;33m:\u001b[0m  \u001b[1;31m# pylint: disable=protected-access\u001b[0m\u001b[1;33m\u001b[0m\u001b[1;33m\u001b[0m\u001b[0m\n\u001b[1;32m---> 66\u001b[1;33m       \u001b[1;32mreturn\u001b[0m \u001b[0mmethod\u001b[0m\u001b[1;33m(\u001b[0m\u001b[0mself\u001b[0m\u001b[1;33m,\u001b[0m \u001b[1;33m*\u001b[0m\u001b[0margs\u001b[0m\u001b[1;33m,\u001b[0m \u001b[1;33m**\u001b[0m\u001b[0mkwargs\u001b[0m\u001b[1;33m)\u001b[0m\u001b[1;33m\u001b[0m\u001b[1;33m\u001b[0m\u001b[0m\n\u001b[0m\u001b[0;32m     67\u001b[0m \u001b[1;33m\u001b[0m\u001b[0m\n\u001b[0;32m     68\u001b[0m     \u001b[1;31m# Running inside `run_distribute_coordinator` already.\u001b[0m\u001b[1;33m\u001b[0m\u001b[1;33m\u001b[0m\u001b[1;33m\u001b[0m\u001b[0m\n",
      "\u001b[1;32m~\\Anaconda3\\lib\\site-packages\\tensorflow\\python\\keras\\engine\\training.py\u001b[0m in \u001b[0;36mevaluate\u001b[1;34m(self, x, y, batch_size, verbose, sample_weight, steps, callbacks, max_queue_size, workers, use_multiprocessing, return_dict)\u001b[0m\n\u001b[0;32m   1079\u001b[0m                 step_num=step):\n\u001b[0;32m   1080\u001b[0m               \u001b[0mcallbacks\u001b[0m\u001b[1;33m.\u001b[0m\u001b[0mon_test_batch_begin\u001b[0m\u001b[1;33m(\u001b[0m\u001b[0mstep\u001b[0m\u001b[1;33m)\u001b[0m\u001b[1;33m\u001b[0m\u001b[1;33m\u001b[0m\u001b[0m\n\u001b[1;32m-> 1081\u001b[1;33m               \u001b[0mtmp_logs\u001b[0m \u001b[1;33m=\u001b[0m \u001b[0mtest_function\u001b[0m\u001b[1;33m(\u001b[0m\u001b[0miterator\u001b[0m\u001b[1;33m)\u001b[0m\u001b[1;33m\u001b[0m\u001b[1;33m\u001b[0m\u001b[0m\n\u001b[0m\u001b[0;32m   1082\u001b[0m               \u001b[1;31m# Catch OutOfRangeError for Datasets of unknown size.\u001b[0m\u001b[1;33m\u001b[0m\u001b[1;33m\u001b[0m\u001b[1;33m\u001b[0m\u001b[0m\n\u001b[0;32m   1083\u001b[0m               \u001b[1;31m# This blocks until the batch has finished executing.\u001b[0m\u001b[1;33m\u001b[0m\u001b[1;33m\u001b[0m\u001b[1;33m\u001b[0m\u001b[0m\n",
      "\u001b[1;32m~\\Anaconda3\\lib\\site-packages\\tensorflow\\python\\eager\\def_function.py\u001b[0m in \u001b[0;36m__call__\u001b[1;34m(self, *args, **kwds)\u001b[0m\n\u001b[0;32m    578\u001b[0m         \u001b[0mxla_context\u001b[0m\u001b[1;33m.\u001b[0m\u001b[0mExit\u001b[0m\u001b[1;33m(\u001b[0m\u001b[1;33m)\u001b[0m\u001b[1;33m\u001b[0m\u001b[1;33m\u001b[0m\u001b[0m\n\u001b[0;32m    579\u001b[0m     \u001b[1;32melse\u001b[0m\u001b[1;33m:\u001b[0m\u001b[1;33m\u001b[0m\u001b[1;33m\u001b[0m\u001b[0m\n\u001b[1;32m--> 580\u001b[1;33m       \u001b[0mresult\u001b[0m \u001b[1;33m=\u001b[0m \u001b[0mself\u001b[0m\u001b[1;33m.\u001b[0m\u001b[0m_call\u001b[0m\u001b[1;33m(\u001b[0m\u001b[1;33m*\u001b[0m\u001b[0margs\u001b[0m\u001b[1;33m,\u001b[0m \u001b[1;33m**\u001b[0m\u001b[0mkwds\u001b[0m\u001b[1;33m)\u001b[0m\u001b[1;33m\u001b[0m\u001b[1;33m\u001b[0m\u001b[0m\n\u001b[0m\u001b[0;32m    581\u001b[0m \u001b[1;33m\u001b[0m\u001b[0m\n\u001b[0;32m    582\u001b[0m     \u001b[1;32mif\u001b[0m \u001b[0mtracing_count\u001b[0m \u001b[1;33m==\u001b[0m \u001b[0mself\u001b[0m\u001b[1;33m.\u001b[0m\u001b[0m_get_tracing_count\u001b[0m\u001b[1;33m(\u001b[0m\u001b[1;33m)\u001b[0m\u001b[1;33m:\u001b[0m\u001b[1;33m\u001b[0m\u001b[1;33m\u001b[0m\u001b[0m\n",
      "\u001b[1;32m~\\Anaconda3\\lib\\site-packages\\tensorflow\\python\\eager\\def_function.py\u001b[0m in \u001b[0;36m_call\u001b[1;34m(self, *args, **kwds)\u001b[0m\n\u001b[0;32m    625\u001b[0m       \u001b[1;31m# This is the first call of __call__, so we have to initialize.\u001b[0m\u001b[1;33m\u001b[0m\u001b[1;33m\u001b[0m\u001b[1;33m\u001b[0m\u001b[0m\n\u001b[0;32m    626\u001b[0m       \u001b[0minitializers\u001b[0m \u001b[1;33m=\u001b[0m \u001b[1;33m[\u001b[0m\u001b[1;33m]\u001b[0m\u001b[1;33m\u001b[0m\u001b[1;33m\u001b[0m\u001b[0m\n\u001b[1;32m--> 627\u001b[1;33m       \u001b[0mself\u001b[0m\u001b[1;33m.\u001b[0m\u001b[0m_initialize\u001b[0m\u001b[1;33m(\u001b[0m\u001b[0margs\u001b[0m\u001b[1;33m,\u001b[0m \u001b[0mkwds\u001b[0m\u001b[1;33m,\u001b[0m \u001b[0madd_initializers_to\u001b[0m\u001b[1;33m=\u001b[0m\u001b[0minitializers\u001b[0m\u001b[1;33m)\u001b[0m\u001b[1;33m\u001b[0m\u001b[1;33m\u001b[0m\u001b[0m\n\u001b[0m\u001b[0;32m    628\u001b[0m     \u001b[1;32mfinally\u001b[0m\u001b[1;33m:\u001b[0m\u001b[1;33m\u001b[0m\u001b[1;33m\u001b[0m\u001b[0m\n\u001b[0;32m    629\u001b[0m       \u001b[1;31m# At this point we know that the initialization is complete (or less\u001b[0m\u001b[1;33m\u001b[0m\u001b[1;33m\u001b[0m\u001b[1;33m\u001b[0m\u001b[0m\n",
      "\u001b[1;32m~\\Anaconda3\\lib\\site-packages\\tensorflow\\python\\eager\\def_function.py\u001b[0m in \u001b[0;36m_initialize\u001b[1;34m(self, args, kwds, add_initializers_to)\u001b[0m\n\u001b[0;32m    504\u001b[0m     self._concrete_stateful_fn = (\n\u001b[0;32m    505\u001b[0m         self._stateful_fn._get_concrete_function_internal_garbage_collected(  # pylint: disable=protected-access\n\u001b[1;32m--> 506\u001b[1;33m             *args, **kwds))\n\u001b[0m\u001b[0;32m    507\u001b[0m \u001b[1;33m\u001b[0m\u001b[0m\n\u001b[0;32m    508\u001b[0m     \u001b[1;32mdef\u001b[0m \u001b[0minvalid_creator_scope\u001b[0m\u001b[1;33m(\u001b[0m\u001b[1;33m*\u001b[0m\u001b[0munused_args\u001b[0m\u001b[1;33m,\u001b[0m \u001b[1;33m**\u001b[0m\u001b[0munused_kwds\u001b[0m\u001b[1;33m)\u001b[0m\u001b[1;33m:\u001b[0m\u001b[1;33m\u001b[0m\u001b[1;33m\u001b[0m\u001b[0m\n",
      "\u001b[1;32m~\\Anaconda3\\lib\\site-packages\\tensorflow\\python\\eager\\function.py\u001b[0m in \u001b[0;36m_get_concrete_function_internal_garbage_collected\u001b[1;34m(self, *args, **kwargs)\u001b[0m\n\u001b[0;32m   2444\u001b[0m       \u001b[0margs\u001b[0m\u001b[1;33m,\u001b[0m \u001b[0mkwargs\u001b[0m \u001b[1;33m=\u001b[0m \u001b[1;32mNone\u001b[0m\u001b[1;33m,\u001b[0m \u001b[1;32mNone\u001b[0m\u001b[1;33m\u001b[0m\u001b[1;33m\u001b[0m\u001b[0m\n\u001b[0;32m   2445\u001b[0m     \u001b[1;32mwith\u001b[0m \u001b[0mself\u001b[0m\u001b[1;33m.\u001b[0m\u001b[0m_lock\u001b[0m\u001b[1;33m:\u001b[0m\u001b[1;33m\u001b[0m\u001b[1;33m\u001b[0m\u001b[0m\n\u001b[1;32m-> 2446\u001b[1;33m       \u001b[0mgraph_function\u001b[0m\u001b[1;33m,\u001b[0m \u001b[0m_\u001b[0m\u001b[1;33m,\u001b[0m \u001b[0m_\u001b[0m \u001b[1;33m=\u001b[0m \u001b[0mself\u001b[0m\u001b[1;33m.\u001b[0m\u001b[0m_maybe_define_function\u001b[0m\u001b[1;33m(\u001b[0m\u001b[0margs\u001b[0m\u001b[1;33m,\u001b[0m \u001b[0mkwargs\u001b[0m\u001b[1;33m)\u001b[0m\u001b[1;33m\u001b[0m\u001b[1;33m\u001b[0m\u001b[0m\n\u001b[0m\u001b[0;32m   2447\u001b[0m     \u001b[1;32mreturn\u001b[0m \u001b[0mgraph_function\u001b[0m\u001b[1;33m\u001b[0m\u001b[1;33m\u001b[0m\u001b[0m\n\u001b[0;32m   2448\u001b[0m \u001b[1;33m\u001b[0m\u001b[0m\n",
      "\u001b[1;32m~\\Anaconda3\\lib\\site-packages\\tensorflow\\python\\eager\\function.py\u001b[0m in \u001b[0;36m_maybe_define_function\u001b[1;34m(self, args, kwargs)\u001b[0m\n\u001b[0;32m   2775\u001b[0m \u001b[1;33m\u001b[0m\u001b[0m\n\u001b[0;32m   2776\u001b[0m       \u001b[0mself\u001b[0m\u001b[1;33m.\u001b[0m\u001b[0m_function_cache\u001b[0m\u001b[1;33m.\u001b[0m\u001b[0mmissed\u001b[0m\u001b[1;33m.\u001b[0m\u001b[0madd\u001b[0m\u001b[1;33m(\u001b[0m\u001b[0mcall_context_key\u001b[0m\u001b[1;33m)\u001b[0m\u001b[1;33m\u001b[0m\u001b[1;33m\u001b[0m\u001b[0m\n\u001b[1;32m-> 2777\u001b[1;33m       \u001b[0mgraph_function\u001b[0m \u001b[1;33m=\u001b[0m \u001b[0mself\u001b[0m\u001b[1;33m.\u001b[0m\u001b[0m_create_graph_function\u001b[0m\u001b[1;33m(\u001b[0m\u001b[0margs\u001b[0m\u001b[1;33m,\u001b[0m \u001b[0mkwargs\u001b[0m\u001b[1;33m)\u001b[0m\u001b[1;33m\u001b[0m\u001b[1;33m\u001b[0m\u001b[0m\n\u001b[0m\u001b[0;32m   2778\u001b[0m       \u001b[0mself\u001b[0m\u001b[1;33m.\u001b[0m\u001b[0m_function_cache\u001b[0m\u001b[1;33m.\u001b[0m\u001b[0mprimary\u001b[0m\u001b[1;33m[\u001b[0m\u001b[0mcache_key\u001b[0m\u001b[1;33m]\u001b[0m \u001b[1;33m=\u001b[0m \u001b[0mgraph_function\u001b[0m\u001b[1;33m\u001b[0m\u001b[1;33m\u001b[0m\u001b[0m\n\u001b[0;32m   2779\u001b[0m       \u001b[1;32mreturn\u001b[0m \u001b[0mgraph_function\u001b[0m\u001b[1;33m,\u001b[0m \u001b[0margs\u001b[0m\u001b[1;33m,\u001b[0m \u001b[0mkwargs\u001b[0m\u001b[1;33m\u001b[0m\u001b[1;33m\u001b[0m\u001b[0m\n",
      "\u001b[1;32m~\\Anaconda3\\lib\\site-packages\\tensorflow\\python\\eager\\function.py\u001b[0m in \u001b[0;36m_create_graph_function\u001b[1;34m(self, args, kwargs, override_flat_arg_shapes)\u001b[0m\n\u001b[0;32m   2665\u001b[0m             \u001b[0marg_names\u001b[0m\u001b[1;33m=\u001b[0m\u001b[0marg_names\u001b[0m\u001b[1;33m,\u001b[0m\u001b[1;33m\u001b[0m\u001b[1;33m\u001b[0m\u001b[0m\n\u001b[0;32m   2666\u001b[0m             \u001b[0moverride_flat_arg_shapes\u001b[0m\u001b[1;33m=\u001b[0m\u001b[0moverride_flat_arg_shapes\u001b[0m\u001b[1;33m,\u001b[0m\u001b[1;33m\u001b[0m\u001b[1;33m\u001b[0m\u001b[0m\n\u001b[1;32m-> 2667\u001b[1;33m             capture_by_value=self._capture_by_value),\n\u001b[0m\u001b[0;32m   2668\u001b[0m         \u001b[0mself\u001b[0m\u001b[1;33m.\u001b[0m\u001b[0m_function_attributes\u001b[0m\u001b[1;33m,\u001b[0m\u001b[1;33m\u001b[0m\u001b[1;33m\u001b[0m\u001b[0m\n\u001b[0;32m   2669\u001b[0m         \u001b[1;31m# Tell the ConcreteFunction to clean up its graph once it goes out of\u001b[0m\u001b[1;33m\u001b[0m\u001b[1;33m\u001b[0m\u001b[1;33m\u001b[0m\u001b[0m\n",
      "\u001b[1;32m~\\Anaconda3\\lib\\site-packages\\tensorflow\\python\\framework\\func_graph.py\u001b[0m in \u001b[0;36mfunc_graph_from_py_func\u001b[1;34m(name, python_func, args, kwargs, signature, func_graph, autograph, autograph_options, add_control_dependencies, arg_names, op_return_value, collections, capture_by_value, override_flat_arg_shapes)\u001b[0m\n\u001b[0;32m    979\u001b[0m         \u001b[0m_\u001b[0m\u001b[1;33m,\u001b[0m \u001b[0moriginal_func\u001b[0m \u001b[1;33m=\u001b[0m \u001b[0mtf_decorator\u001b[0m\u001b[1;33m.\u001b[0m\u001b[0munwrap\u001b[0m\u001b[1;33m(\u001b[0m\u001b[0mpython_func\u001b[0m\u001b[1;33m)\u001b[0m\u001b[1;33m\u001b[0m\u001b[1;33m\u001b[0m\u001b[0m\n\u001b[0;32m    980\u001b[0m \u001b[1;33m\u001b[0m\u001b[0m\n\u001b[1;32m--> 981\u001b[1;33m       \u001b[0mfunc_outputs\u001b[0m \u001b[1;33m=\u001b[0m \u001b[0mpython_func\u001b[0m\u001b[1;33m(\u001b[0m\u001b[1;33m*\u001b[0m\u001b[0mfunc_args\u001b[0m\u001b[1;33m,\u001b[0m \u001b[1;33m**\u001b[0m\u001b[0mfunc_kwargs\u001b[0m\u001b[1;33m)\u001b[0m\u001b[1;33m\u001b[0m\u001b[1;33m\u001b[0m\u001b[0m\n\u001b[0m\u001b[0;32m    982\u001b[0m \u001b[1;33m\u001b[0m\u001b[0m\n\u001b[0;32m    983\u001b[0m       \u001b[1;31m# invariant: `func_outputs` contains only Tensors, CompositeTensors,\u001b[0m\u001b[1;33m\u001b[0m\u001b[1;33m\u001b[0m\u001b[1;33m\u001b[0m\u001b[0m\n",
      "\u001b[1;32m~\\Anaconda3\\lib\\site-packages\\tensorflow\\python\\eager\\def_function.py\u001b[0m in \u001b[0;36mwrapped_fn\u001b[1;34m(*args, **kwds)\u001b[0m\n\u001b[0;32m    439\u001b[0m         \u001b[1;31m# __wrapped__ allows AutoGraph to swap in a converted function. We give\u001b[0m\u001b[1;33m\u001b[0m\u001b[1;33m\u001b[0m\u001b[1;33m\u001b[0m\u001b[0m\n\u001b[0;32m    440\u001b[0m         \u001b[1;31m# the function a weak reference to itself to avoid a reference cycle.\u001b[0m\u001b[1;33m\u001b[0m\u001b[1;33m\u001b[0m\u001b[1;33m\u001b[0m\u001b[0m\n\u001b[1;32m--> 441\u001b[1;33m         \u001b[1;32mreturn\u001b[0m \u001b[0mweak_wrapped_fn\u001b[0m\u001b[1;33m(\u001b[0m\u001b[1;33m)\u001b[0m\u001b[1;33m.\u001b[0m\u001b[0m__wrapped__\u001b[0m\u001b[1;33m(\u001b[0m\u001b[1;33m*\u001b[0m\u001b[0margs\u001b[0m\u001b[1;33m,\u001b[0m \u001b[1;33m**\u001b[0m\u001b[0mkwds\u001b[0m\u001b[1;33m)\u001b[0m\u001b[1;33m\u001b[0m\u001b[1;33m\u001b[0m\u001b[0m\n\u001b[0m\u001b[0;32m    442\u001b[0m     \u001b[0mweak_wrapped_fn\u001b[0m \u001b[1;33m=\u001b[0m \u001b[0mweakref\u001b[0m\u001b[1;33m.\u001b[0m\u001b[0mref\u001b[0m\u001b[1;33m(\u001b[0m\u001b[0mwrapped_fn\u001b[0m\u001b[1;33m)\u001b[0m\u001b[1;33m\u001b[0m\u001b[1;33m\u001b[0m\u001b[0m\n\u001b[0;32m    443\u001b[0m \u001b[1;33m\u001b[0m\u001b[0m\n",
      "\u001b[1;32m~\\Anaconda3\\lib\\site-packages\\tensorflow\\python\\framework\\func_graph.py\u001b[0m in \u001b[0;36mwrapper\u001b[1;34m(*args, **kwargs)\u001b[0m\n\u001b[0;32m    966\u001b[0m           \u001b[1;32mexcept\u001b[0m \u001b[0mException\u001b[0m \u001b[1;32mas\u001b[0m \u001b[0me\u001b[0m\u001b[1;33m:\u001b[0m  \u001b[1;31m# pylint:disable=broad-except\u001b[0m\u001b[1;33m\u001b[0m\u001b[1;33m\u001b[0m\u001b[0m\n\u001b[0;32m    967\u001b[0m             \u001b[1;32mif\u001b[0m \u001b[0mhasattr\u001b[0m\u001b[1;33m(\u001b[0m\u001b[0me\u001b[0m\u001b[1;33m,\u001b[0m \u001b[1;34m\"ag_error_metadata\"\u001b[0m\u001b[1;33m)\u001b[0m\u001b[1;33m:\u001b[0m\u001b[1;33m\u001b[0m\u001b[1;33m\u001b[0m\u001b[0m\n\u001b[1;32m--> 968\u001b[1;33m               \u001b[1;32mraise\u001b[0m \u001b[0me\u001b[0m\u001b[1;33m.\u001b[0m\u001b[0mag_error_metadata\u001b[0m\u001b[1;33m.\u001b[0m\u001b[0mto_exception\u001b[0m\u001b[1;33m(\u001b[0m\u001b[0me\u001b[0m\u001b[1;33m)\u001b[0m\u001b[1;33m\u001b[0m\u001b[1;33m\u001b[0m\u001b[0m\n\u001b[0m\u001b[0;32m    969\u001b[0m             \u001b[1;32melse\u001b[0m\u001b[1;33m:\u001b[0m\u001b[1;33m\u001b[0m\u001b[1;33m\u001b[0m\u001b[0m\n\u001b[0;32m    970\u001b[0m               \u001b[1;32mraise\u001b[0m\u001b[1;33m\u001b[0m\u001b[1;33m\u001b[0m\u001b[0m\n",
      "\u001b[1;31mValueError\u001b[0m: in user code:\n\n    C:\\Users\\Home\\Anaconda3\\lib\\site-packages\\tensorflow\\python\\keras\\engine\\training.py:941 test_function  *\n        outputs = self.distribute_strategy.run(\n    C:\\Users\\Home\\Anaconda3\\lib\\site-packages\\tensorflow\\python\\distribute\\distribute_lib.py:951 run  **\n        return self._extended.call_for_each_replica(fn, args=args, kwargs=kwargs)\n    C:\\Users\\Home\\Anaconda3\\lib\\site-packages\\tensorflow\\python\\distribute\\distribute_lib.py:2290 call_for_each_replica\n        return self._call_for_each_replica(fn, args, kwargs)\n    C:\\Users\\Home\\Anaconda3\\lib\\site-packages\\tensorflow\\python\\distribute\\distribute_lib.py:2649 _call_for_each_replica\n        return fn(*args, **kwargs)\n    C:\\Users\\Home\\Anaconda3\\lib\\site-packages\\tensorflow\\python\\keras\\engine\\training.py:912 test_step  **\n        y, y_pred, sample_weight, regularization_losses=self.losses)\n    C:\\Users\\Home\\Anaconda3\\lib\\site-packages\\tensorflow\\python\\keras\\engine\\compile_utils.py:205 __call__\n        loss_value = loss_obj(y_t, y_p, sample_weight=sw)\n    C:\\Users\\Home\\Anaconda3\\lib\\site-packages\\tensorflow\\python\\keras\\losses.py:143 __call__\n        losses = self.call(y_true, y_pred)\n    C:\\Users\\Home\\Anaconda3\\lib\\site-packages\\tensorflow\\python\\keras\\losses.py:246 call\n        return self.fn(y_true, y_pred, **self._fn_kwargs)\n    C:\\Users\\Home\\Anaconda3\\lib\\site-packages\\tensorflow\\python\\keras\\losses.py:1527 categorical_crossentropy\n        return K.categorical_crossentropy(y_true, y_pred, from_logits=from_logits)\n    C:\\Users\\Home\\Anaconda3\\lib\\site-packages\\tensorflow\\python\\keras\\backend.py:4561 categorical_crossentropy\n        target.shape.assert_is_compatible_with(output.shape)\n    C:\\Users\\Home\\Anaconda3\\lib\\site-packages\\tensorflow\\python\\framework\\tensor_shape.py:1117 assert_is_compatible_with\n        raise ValueError(\"Shapes %s and %s are incompatible\" % (self, other))\n\n    ValueError: Shapes (None, 1) and (None, 10) are incompatible\n"
     ]
    }
   ],
   "source": [
    "score = model.evaluate(x_test, y_test)\n",
    "print()\n",
    "print('Test accuracy: ', score[1])"
   ]
  },
  {
   "cell_type": "code",
   "execution_count": null,
   "metadata": {},
   "outputs": [],
   "source": [
    "'''\n",
    "If you want to see the actual predictions that our model has made for the test data, \n",
    "we can use the predict function. The predict function will give an array with 10 numbers. \n",
    "These numbers are the probabilities that the input image represents each digit (0–9). \n",
    "The array index with the highest number represents the model prediction. \n",
    "The sum of each array equals 1 (since each number is a probability).\n",
    "'''"
   ]
  },
  {
   "cell_type": "code",
   "execution_count": 69,
   "metadata": {},
   "outputs": [],
   "source": [
    "import pandas as pd\n",
    "predictions = model.predict_classes(x_test)\n",
    "\n",
    "predictions = list(predictions)\n",
    "actuals = list(y_test)\n",
    "\n",
    "sub = pd.DataFrame({'Actual': actuals, 'Predictions': predictions})\n",
    "sub.to_csv('./output_cnn.csv', index=False)"
   ]
  },
  {
   "cell_type": "code",
   "execution_count": 70,
   "metadata": {},
   "outputs": [],
   "source": [
    "\n",
    "class MixIterator(object):\n",
    "    def __init__(self, iters):\n",
    "        self.iters = iters\n",
    "        self.N = sum([it.n for it in self.iters])\n",
    "\n",
    "    def reset(self):\n",
    "        for it in self.iters: it.reset()\n",
    "\n",
    "    def __iter__(self):\n",
    "        return self\n",
    "\n",
    "    def __next__(self, *args, **kwargs):\n",
    "        nexts = [next(it) for it in self.iters]\n",
    "        n0 = np.concatenate([n[0] for n in nexts])\n",
    "        n1 = np.concatenate([n[1] for n in nexts])\n",
    "        return (n0, n1)"
   ]
  },
  {
   "cell_type": "code",
   "execution_count": 72,
   "metadata": {},
   "outputs": [
    {
     "data": {
      "text/plain": [
       "array([[3.5645675e-13, 2.6678076e-10, 9.8139514e-09, 6.1160385e-08,\n",
       "        2.1674036e-13, 5.0108265e-11, 2.2770778e-19, 9.9999988e-01,\n",
       "        7.3061203e-11, 1.6636307e-08],\n",
       "       [3.2581323e-08, 5.5112021e-05, 9.9994481e-01, 4.8457194e-09,\n",
       "        2.1425978e-10, 2.1800216e-12, 3.8701002e-09, 1.3220659e-08,\n",
       "        2.3200446e-09, 6.0986476e-12],\n",
       "       [1.1614095e-09, 9.9999976e-01, 5.4383731e-10, 9.1767765e-12,\n",
       "        2.4593289e-08, 1.0132690e-07, 2.7544175e-08, 8.4743867e-08,\n",
       "        3.4766920e-09, 6.9403328e-10],\n",
       "       [9.9967265e-01, 1.2984507e-08, 3.7590857e-07, 4.1414984e-07,\n",
       "        1.1715706e-07, 4.9076795e-07, 3.0868410e-04, 1.5429103e-08,\n",
       "        8.9908724e-07, 1.6394784e-05],\n",
       "       [2.4573074e-12, 5.7904837e-11, 8.0371972e-13, 2.3502157e-15,\n",
       "        9.9999964e-01, 2.1257596e-11, 5.3478738e-10, 2.0108012e-12,\n",
       "        1.4076171e-10, 3.6291536e-07]], dtype=float32)"
      ]
     },
     "execution_count": 72,
     "metadata": {},
     "output_type": "execute_result"
    }
   ],
   "source": [
    "predictions = model.predict(x_test, batch_size=64)\n",
    "\n",
    "predictions[:5]"
   ]
  },
  {
   "cell_type": "code",
   "execution_count": 75,
   "metadata": {},
   "outputs": [],
   "source": [
    "# gen = ImageDataGenerator()\n",
    "\n",
    "batches = gen.flow(x_train, y_train, batch_size=48)\n",
    "test_batches = test_gen.flow(x_test, predictions, batch_size=16)"
   ]
  },
  {
   "cell_type": "code",
   "execution_count": 76,
   "metadata": {},
   "outputs": [
    {
     "data": {
      "text/plain": [
       "70000"
      ]
     },
     "execution_count": 76,
     "metadata": {},
     "output_type": "execute_result"
    }
   ],
   "source": [
    "\n",
    "mi = MixIterator([batches, test_batches])\n",
    "\n",
    "mi.N"
   ]
  },
  {
   "cell_type": "code",
   "execution_count": 78,
   "metadata": {},
   "outputs": [
    {
     "name": "stdout",
     "output_type": "stream",
     "text": [
      "Epoch 1/5\n",
      "1093/1093 [==============================] - 185s 169ms/step - loss: 0.0651 - accuracy: 0.9808 - val_loss: 0.0242 - val_accuracy: 0.9922\n",
      "Epoch 2/5\n",
      "1093/1093 [==============================] - 183s 167ms/step - loss: 0.0655 - accuracy: 0.9823 - val_loss: 0.0234 - val_accuracy: 0.9927\n",
      "Epoch 3/5\n",
      "1093/1093 [==============================] - 183s 167ms/step - loss: 0.0586 - accuracy: 0.9843 - val_loss: 0.0243 - val_accuracy: 0.9928\n",
      "Epoch 4/5\n",
      "1093/1093 [==============================] - 184s 168ms/step - loss: 0.0586 - accuracy: 0.9835 - val_loss: 0.0197 - val_accuracy: 0.9935\n",
      "Epoch 5/5\n",
      "1093/1093 [==============================] - 183s 168ms/step - loss: 0.0548 - accuracy: 0.9844 - val_loss: 0.0216 - val_accuracy: 0.9928\n"
     ]
    },
    {
     "data": {
      "text/plain": [
       "<tensorflow.python.keras.callbacks.History at 0x17cab6c6c48>"
      ]
     },
     "execution_count": 78,
     "metadata": {},
     "output_type": "execute_result"
    }
   ],
   "source": [
    "model.fit_generator(mi, steps_per_epoch=mi.N//64, epochs=5, validation_data=(x_test, y_test))"
   ]
  },
  {
   "cell_type": "markdown",
   "metadata": {},
   "source": [
    "# Compile the model"
   ]
  },
  {
   "cell_type": "code",
   "execution_count": 59,
   "metadata": {},
   "outputs": [],
   "source": [
    "# Next, we need to compile our model. Compiling the model takes three parameters: optimizer, loss and metrics.\n",
    "# The optimizer controls the learning rate. We will be using ‘adam’ as our optmizer. Adam is generally a good \n",
    "# optimizer to use for many cases. The adam optimizer adjusts the learning rate throughout training.\n",
    "\n",
    "model.compile(optimizer='adam',loss='categorical_crossentropy', metrics=['accuracy'])\n",
    "\n",
    "# The Adam optimizer is an improvement over SGD(Stochastic Gradient Descent). The optimizer is \n",
    "# responsible for updating the weights of the neurons via backpropagation. It calculates the derivative \n",
    "# of the loss function with respect to each weight and subtracts it from the weight. \n",
    "\n",
    "# The optimizer controls the learning rate. We will be using ‘adam’ as our optmizer.\n",
    "# Adam is generally a good optimizer to use for many cases. The adam optimizer adjusts\n",
    "# the learning rate throughout training.\n",
    "\n",
    "# We will use ‘categorical_crossentropy’ for our loss function. This is the most \n",
    "# common choice for classification. A lower score indicates that the model is performing better.\n",
    "# https://towardsdatascience.com/building-a-convolutional-neural-network-cnn-in-keras-329fbbadc5f5\n",
    "# Here we compile our CNN and set the opimiser as rmsprop. We can set other \n",
    "# optimisers like adam and adadelta depending on the output.\n",
    "## We will use ‘categorical_crossentropy’ for our loss function. This is the most common \n",
    "# choice for classification. A lower score indicates that the model is performing better."
   ]
  },
  {
   "cell_type": "markdown",
   "metadata": {},
   "source": [
    "### Having compiled our model we can now start the training process. We have to specify how many times we want to iterate on the whole training set (epochs) and how many samples we use for one update to the model's weights (batch size). "
   ]
  },
  {
   "cell_type": "markdown",
   "metadata": {},
   "source": [
    "# Fit the model"
   ]
  },
  {
   "cell_type": "code",
   "execution_count": 57,
   "metadata": {
    "scrolled": true
   },
   "outputs": [
    {
     "name": "stdout",
     "output_type": "stream",
     "text": [
      "Epoch 1/2\n",
      "469/469 [==============================] - 168s 358ms/step - loss: 0.2525 - accuracy: 0.9228 - val_loss: 0.0530 - val_accuracy: 0.9839\n",
      "Epoch 2/2\n",
      "469/469 [==============================] - 150s 320ms/step - loss: 0.0873 - accuracy: 0.9743 - val_loss: 0.0383 - val_accuracy: 0.9871\n"
     ]
    }
   ],
   "source": [
    "history=model.fit(x_train, y_train,\n",
    "          batch_size=batch_size,\n",
    "          epochs=epochs,\n",
    "          verbose=1,\n",
    "          validation_data=(x_test, y_test), callbacks=[tensorboard])\n",
    "\n",
    "\n",
    "\n",
    "# The number of epochs is the number of times the model will cycle through the data. The more epochs we run,\n",
    "# the more the model will improve, up to a certain point. After that point, the model will stop improving during\n",
    "# each epoch. For our model, we will set the number of epochs to 3.\n"
   ]
  },
  {
   "cell_type": "markdown",
   "metadata": {},
   "source": [
    "# Evaluate the model\n",
    "* We have 10,000 images in our dataset which will be used to evaluate how good our model works. \n",
    "* The testing data was not involved in the training of the data therefore, it is new data for our model. \n",
    "* The MNIST dataset is well balanced so we can get around 99% accuracy."
   ]
  },
  {
   "cell_type": "code",
   "execution_count": 59,
   "metadata": {},
   "outputs": [
    {
     "name": "stdout",
     "output_type": "stream",
     "text": [
      "Test loss: 0.03826835751533508\n",
      "Test accuracy: 0.9871000051498413\n"
     ]
    }
   ],
   "source": [
    "score = model.evaluate(x_test, y_test, verbose=0)\n",
    "print('Test loss:', score[0])\n",
    "print('Test accuracy:', score[1])"
   ]
  },
  {
   "cell_type": "markdown",
   "metadata": {},
   "source": [
    "## Accuracy Plot"
   ]
  },
  {
   "cell_type": "code",
   "execution_count": 68,
   "metadata": {},
   "outputs": [
    {
     "data": {
      "image/png": "[encoded data removed]",
      "text/plain": [
       "<Figure size 432x288 with 1 Axes>"
      ]
     },
     "metadata": {
      "needs_background": "light"
     },
     "output_type": "display_data"
    }
   ],
   "source": [
    "plt.plot(history.history['accuracy'])\n",
    "plt.plot(history.history['val_accuracy'])\n",
    "plt.title('model accuracy')\n",
    "plt.ylabel('accuracy')\n",
    "plt.xlabel('epoch')\n",
    "plt.legend(['train', 'test'], loc='upper left')\n",
    "plt.show()"
   ]
  },
  {
   "cell_type": "code",
   "execution_count": 69,
   "metadata": {},
   "outputs": [
    {
     "data": {
      "text/plain": [
       "[0.9228166937828064, 0.9742666482925415]"
      ]
     },
     "execution_count": 69,
     "metadata": {},
     "output_type": "execute_result"
    }
   ],
   "source": [
    "history.history['accuracy']"
   ]
  },
  {
   "cell_type": "markdown",
   "metadata": {},
   "source": [
    "## Loss Plot"
   ]
  },
  {
   "cell_type": "code",
   "execution_count": 70,
   "metadata": {},
   "outputs": [
    {
     "data": {
      "image/png": "[encoded data removed]",
      "text/plain": [
       "<Figure size 432x288 with 1 Axes>"
      ]
     },
     "metadata": {
      "needs_background": "light"
     },
     "output_type": "display_data"
    }
   ],
   "source": [
    "plt.plot(history.history['loss'])\n",
    "plt.plot(history.history['val_loss'])\n",
    "plt.title('model loss')\n",
    "plt.ylabel('loss')\n",
    "plt.xlabel('epoch')\n",
    "plt.legend(['train', 'test'], loc='upper left')\n",
    "plt.show()"
   ]
  },
  {
   "cell_type": "code",
   "execution_count": null,
   "metadata": {},
   "outputs": [],
   "source": [
    "# If you want to see the actual predictions that our model has made for the test data, \n",
    "# we can use the predict function. The predict function will give an array with 10 numbers.\n",
    "# These numbers are the probabilities that the input image represents each digit (0–9). \n",
    "# The array index with the highest number represents the model prediction.\n",
    "# The sum of each array equals 1 (since each number is a probability)."
   ]
  },
  {
   "cell_type": "code",
   "execution_count": 25,
   "metadata": {},
   "outputs": [
    {
     "data": {
      "text/plain": [
       "array([1.1062320e-11, 2.5687902e-12, 1.5028637e-09, 7.3829769e-09,\n",
       "       6.3939956e-12, 2.0561957e-11, 6.6668273e-15, 9.9999976e-01,\n",
       "       8.4679711e-12, 2.8373665e-07], dtype=float32)"
      ]
     },
     "execution_count": 25,
     "metadata": {},
     "output_type": "execute_result"
    }
   ],
   "source": [
    "pred = model.predict(x_test)\n",
    "pred[0]"
   ]
  },
  {
   "cell_type": "code",
   "execution_count": 65,
   "metadata": {},
   "outputs": [
    {
     "data": {
      "text/plain": [
       "array([0.10121591, 0.09570368, 0.09986495, 0.09763329, 0.10268085,\n",
       "       0.09873804, 0.10221619, 0.10231913, 0.09982197, 0.09980603],\n",
       "      dtype=float32)"
      ]
     },
     "execution_count": 65,
     "metadata": {},
     "output_type": "execute_result"
    }
   ],
   "source": [
    "pred = model.predict(x_test[0:])\n",
    "pred[0]"
   ]
  },
  {
   "cell_type": "code",
   "execution_count": 29,
   "metadata": {},
   "outputs": [
    {
     "data": {
      "text/plain": [
       "array([7, 2, 1, ..., 4, 5, 6], dtype=int64)"
      ]
     },
     "execution_count": 29,
     "metadata": {},
     "output_type": "execute_result"
    }
   ],
   "source": [
    "np.argmax(pred,axis=1)"
   ]
  },
  {
   "cell_type": "code",
   "execution_count": 66,
   "metadata": {},
   "outputs": [
    {
     "data": {
      "text/plain": [
       "(28, 28, 1)"
      ]
     },
     "execution_count": 66,
     "metadata": {},
     "output_type": "execute_result"
    }
   ],
   "source": [
    "x_test[0].shape\n"
   ]
  },
  {
   "cell_type": "code",
   "execution_count": null,
   "metadata": {},
   "outputs": [],
   "source": [
    "# As you can see, most of the values are very small numbers (very low probability that the picture belongs\n",
    "# to this class), except for the number at position 7 (counted from 0). Numpy has a very useful function \n",
    "# that will save our eyes and \n",
    "# immediately tell us which class was rated by the model as the most probable."
   ]
  },
  {
   "cell_type": "code",
   "execution_count": 144,
   "metadata": {},
   "outputs": [
    {
     "data": {
      "text/plain": [
       "array([7, 2, 1, ..., 4, 5, 6], dtype=int64)"
      ]
     },
     "execution_count": 144,
     "metadata": {},
     "output_type": "execute_result"
    }
   ],
   "source": [
    "np.argmax(pred,axis=1)"
   ]
  },
  {
   "cell_type": "code",
   "execution_count": 145,
   "metadata": {},
   "outputs": [
    {
     "data": {
      "image/png": "[encoded data removed]",
      "text/plain": [
       "<Figure size 1440x576 with 3 Axes>"
      ]
     },
     "metadata": {
      "needs_background": "light"
     },
     "output_type": "display_data"
    }
   ],
   "source": [
    "n = 3\n",
    "plt.figure(figsize = (20, 8))\n",
    "for i in range(n):\n",
    "    ax = plt.subplot(1, n, i+1)\n",
    "    plt.imshow(x_test[i].reshape(28, 28))\n",
    "plt.show()"
   ]
  },
  {
   "cell_type": "code",
   "execution_count": 67,
   "metadata": {},
   "outputs": [
    {
     "data": {
      "text/plain": [
       "4"
      ]
     },
     "execution_count": 67,
     "metadata": {},
     "output_type": "execute_result"
    }
   ],
   "source": [
    "np.argmax(pred[0])"
   ]
  },
  {
   "cell_type": "code",
   "execution_count": 68,
   "metadata": {},
   "outputs": [
    {
     "data": {
      "text/plain": [
       "<matplotlib.image.AxesImage at 0x2448f605188>"
      ]
     },
     "execution_count": 68,
     "metadata": {},
     "output_type": "execute_result"
    },
    {
     "data": {
      "image/png": "[encoded data removed]",
      "text/plain": [
       "<Figure size 432x288 with 1 Axes>"
      ]
     },
     "metadata": {
      "needs_background": "light"
     },
     "output_type": "display_data"
    }
   ],
   "source": [
    "plt.imshow(x_test[0].reshape(28,28))"
   ]
  },
  {
   "cell_type": "code",
   "execution_count": 69,
   "metadata": {},
   "outputs": [
    {
     "data": {
      "text/plain": [
       "array([4, 9, 2, ..., 9, 1, 9], dtype=int64)"
      ]
     },
     "execution_count": 69,
     "metadata": {},
     "output_type": "execute_result"
    }
   ],
   "source": [
    "np.argmax(pred, axis=1)"
   ]
  },
  {
   "cell_type": "code",
   "execution_count": null,
   "metadata": {},
   "outputs": [],
   "source": [
    "# https://iq.opengenus.org/building-convolution-neural-network-keras-python/"
   ]
  },
  {
   "cell_type": "code",
   "execution_count": null,
   "metadata": {},
   "outputs": [],
   "source": []
  },
  {
   "cell_type": "code",
   "execution_count": null,
   "metadata": {},
   "outputs": [],
   "source": [
    "# https://aigeekprogrammer.com/keras-python-mnist-handwritten-digit-recognition/\n"
   ]
  },
  {
   "cell_type": "code",
   "execution_count": null,
   "metadata": {},
   "outputs": [],
   "source": [
    "np.argmax(pred, axis=1) == x_test"
   ]
  },
  {
   "cell_type": "code",
   "execution_count": 19,
   "metadata": {},
   "outputs": [
    {
     "ename": "NameError",
     "evalue": "name 'pred' is not defined",
     "output_type": "error",
     "traceback": [
      "\u001b[1;31m---------------------------------------------------------------------------\u001b[0m",
      "\u001b[1;31mNameError\u001b[0m                                 Traceback (most recent call last)",
      "\u001b[1;32m<ipython-input-19-b45da45bcf21>\u001b[0m in \u001b[0;36m<module>\u001b[1;34m\u001b[0m\n\u001b[1;32m----> 1\u001b[1;33m \u001b[0mnp\u001b[0m\u001b[1;33m.\u001b[0m\u001b[0mmean\u001b[0m\u001b[1;33m(\u001b[0m\u001b[0mnp\u001b[0m\u001b[1;33m.\u001b[0m\u001b[0margmax\u001b[0m\u001b[1;33m(\u001b[0m\u001b[0mpred\u001b[0m\u001b[1;33m,\u001b[0m \u001b[0maxis\u001b[0m\u001b[1;33m=\u001b[0m\u001b[1;36m1\u001b[0m\u001b[1;33m)\u001b[0m \u001b[1;33m==\u001b[0m \u001b[0mx_test\u001b[0m\u001b[1;33m)\u001b[0m\u001b[1;33m\u001b[0m\u001b[1;33m\u001b[0m\u001b[0m\n\u001b[0m",
      "\u001b[1;31mNameError\u001b[0m: name 'pred' is not defined"
     ]
    }
   ],
   "source": [
    "np.mean(np.argmax(pred, axis=1) == x_test)"
   ]
  },
  {
   "cell_type": "code",
   "execution_count": 60,
   "metadata": {},
   "outputs": [
    {
     "name": "stdout",
     "output_type": "stream",
     "text": [
      "Epoch 1/2\n"
     ]
    },
    {
     "ename": "ValueError",
     "evalue": "in user code:\n\n    C:\\Users\\Home\\Anaconda3\\lib\\site-packages\\tensorflow\\python\\keras\\engine\\training.py:571 train_function  *\n        outputs = self.distribute_strategy.run(\n    C:\\Users\\Home\\Anaconda3\\lib\\site-packages\\tensorflow\\python\\distribute\\distribute_lib.py:951 run  **\n        return self._extended.call_for_each_replica(fn, args=args, kwargs=kwargs)\n    C:\\Users\\Home\\Anaconda3\\lib\\site-packages\\tensorflow\\python\\distribute\\distribute_lib.py:2290 call_for_each_replica\n        return self._call_for_each_replica(fn, args, kwargs)\n    C:\\Users\\Home\\Anaconda3\\lib\\site-packages\\tensorflow\\python\\distribute\\distribute_lib.py:2649 _call_for_each_replica\n        return fn(*args, **kwargs)\n    C:\\Users\\Home\\Anaconda3\\lib\\site-packages\\tensorflow\\python\\keras\\engine\\training.py:533 train_step  **\n        y, y_pred, sample_weight, regularization_losses=self.losses)\n    C:\\Users\\Home\\Anaconda3\\lib\\site-packages\\tensorflow\\python\\keras\\engine\\compile_utils.py:205 __call__\n        loss_value = loss_obj(y_t, y_p, sample_weight=sw)\n    C:\\Users\\Home\\Anaconda3\\lib\\site-packages\\tensorflow\\python\\keras\\losses.py:143 __call__\n        losses = self.call(y_true, y_pred)\n    C:\\Users\\Home\\Anaconda3\\lib\\site-packages\\tensorflow\\python\\keras\\losses.py:246 call\n        return self.fn(y_true, y_pred, **self._fn_kwargs)\n    C:\\Users\\Home\\Anaconda3\\lib\\site-packages\\tensorflow\\python\\keras\\losses.py:1527 categorical_crossentropy\n        return K.categorical_crossentropy(y_true, y_pred, from_logits=from_logits)\n    C:\\Users\\Home\\Anaconda3\\lib\\site-packages\\tensorflow\\python\\keras\\backend.py:4561 categorical_crossentropy\n        target.shape.assert_is_compatible_with(output.shape)\n    C:\\Users\\Home\\Anaconda3\\lib\\site-packages\\tensorflow\\python\\framework\\tensor_shape.py:1117 assert_is_compatible_with\n        raise ValueError(\"Shapes %s and %s are incompatible\" % (self, other))\n\n    ValueError: Shapes (None, 1) and (None, 10) are incompatible\n",
     "output_type": "error",
     "traceback": [
      "\u001b[1;31m---------------------------------------------------------------------------\u001b[0m",
      "\u001b[1;31mValueError\u001b[0m                                Traceback (most recent call last)",
      "\u001b[1;32m<ipython-input-60-cebca7f31736>\u001b[0m in \u001b[0;36m<module>\u001b[1;34m\u001b[0m\n\u001b[0;32m      5\u001b[0m           \u001b[0mbatch_size\u001b[0m\u001b[1;33m=\u001b[0m\u001b[1;36m128\u001b[0m\u001b[1;33m,\u001b[0m \u001b[0mepochs\u001b[0m\u001b[1;33m=\u001b[0m\u001b[1;36m2\u001b[0m\u001b[1;33m,\u001b[0m\u001b[1;33m\u001b[0m\u001b[1;33m\u001b[0m\u001b[0m\n\u001b[0;32m      6\u001b[0m           \u001b[0mverbose\u001b[0m\u001b[1;33m=\u001b[0m\u001b[1;36m2\u001b[0m\u001b[1;33m,\u001b[0m\u001b[1;33m\u001b[0m\u001b[1;33m\u001b[0m\u001b[0m\n\u001b[1;32m----> 7\u001b[1;33m           validation_data=(x_test, y_test))\n\u001b[0m\u001b[0;32m      8\u001b[0m \u001b[1;33m\u001b[0m\u001b[0m\n\u001b[0;32m      9\u001b[0m \u001b[1;31m# saving the model\u001b[0m\u001b[1;33m\u001b[0m\u001b[1;33m\u001b[0m\u001b[1;33m\u001b[0m\u001b[0m\n",
      "\u001b[1;32m~\\Anaconda3\\lib\\site-packages\\tensorflow\\python\\keras\\engine\\training.py\u001b[0m in \u001b[0;36m_method_wrapper\u001b[1;34m(self, *args, **kwargs)\u001b[0m\n\u001b[0;32m     64\u001b[0m   \u001b[1;32mdef\u001b[0m \u001b[0m_method_wrapper\u001b[0m\u001b[1;33m(\u001b[0m\u001b[0mself\u001b[0m\u001b[1;33m,\u001b[0m \u001b[1;33m*\u001b[0m\u001b[0margs\u001b[0m\u001b[1;33m,\u001b[0m \u001b[1;33m**\u001b[0m\u001b[0mkwargs\u001b[0m\u001b[1;33m)\u001b[0m\u001b[1;33m:\u001b[0m\u001b[1;33m\u001b[0m\u001b[1;33m\u001b[0m\u001b[0m\n\u001b[0;32m     65\u001b[0m     \u001b[1;32mif\u001b[0m \u001b[1;32mnot\u001b[0m \u001b[0mself\u001b[0m\u001b[1;33m.\u001b[0m\u001b[0m_in_multi_worker_mode\u001b[0m\u001b[1;33m(\u001b[0m\u001b[1;33m)\u001b[0m\u001b[1;33m:\u001b[0m  \u001b[1;31m# pylint: disable=protected-access\u001b[0m\u001b[1;33m\u001b[0m\u001b[1;33m\u001b[0m\u001b[0m\n\u001b[1;32m---> 66\u001b[1;33m       \u001b[1;32mreturn\u001b[0m \u001b[0mmethod\u001b[0m\u001b[1;33m(\u001b[0m\u001b[0mself\u001b[0m\u001b[1;33m,\u001b[0m \u001b[1;33m*\u001b[0m\u001b[0margs\u001b[0m\u001b[1;33m,\u001b[0m \u001b[1;33m**\u001b[0m\u001b[0mkwargs\u001b[0m\u001b[1;33m)\u001b[0m\u001b[1;33m\u001b[0m\u001b[1;33m\u001b[0m\u001b[0m\n\u001b[0m\u001b[0;32m     67\u001b[0m \u001b[1;33m\u001b[0m\u001b[0m\n\u001b[0;32m     68\u001b[0m     \u001b[1;31m# Running inside `run_distribute_coordinator` already.\u001b[0m\u001b[1;33m\u001b[0m\u001b[1;33m\u001b[0m\u001b[1;33m\u001b[0m\u001b[0m\n",
      "\u001b[1;32m~\\Anaconda3\\lib\\site-packages\\tensorflow\\python\\keras\\engine\\training.py\u001b[0m in \u001b[0;36mfit\u001b[1;34m(self, x, y, batch_size, epochs, verbose, callbacks, validation_split, validation_data, shuffle, class_weight, sample_weight, initial_epoch, steps_per_epoch, validation_steps, validation_batch_size, validation_freq, max_queue_size, workers, use_multiprocessing)\u001b[0m\n\u001b[0;32m    846\u001b[0m                 batch_size=batch_size):\n\u001b[0;32m    847\u001b[0m               \u001b[0mcallbacks\u001b[0m\u001b[1;33m.\u001b[0m\u001b[0mon_train_batch_begin\u001b[0m\u001b[1;33m(\u001b[0m\u001b[0mstep\u001b[0m\u001b[1;33m)\u001b[0m\u001b[1;33m\u001b[0m\u001b[1;33m\u001b[0m\u001b[0m\n\u001b[1;32m--> 848\u001b[1;33m               \u001b[0mtmp_logs\u001b[0m \u001b[1;33m=\u001b[0m \u001b[0mtrain_function\u001b[0m\u001b[1;33m(\u001b[0m\u001b[0miterator\u001b[0m\u001b[1;33m)\u001b[0m\u001b[1;33m\u001b[0m\u001b[1;33m\u001b[0m\u001b[0m\n\u001b[0m\u001b[0;32m    849\u001b[0m               \u001b[1;31m# Catch OutOfRangeError for Datasets of unknown size.\u001b[0m\u001b[1;33m\u001b[0m\u001b[1;33m\u001b[0m\u001b[1;33m\u001b[0m\u001b[0m\n\u001b[0;32m    850\u001b[0m               \u001b[1;31m# This blocks until the batch has finished executing.\u001b[0m\u001b[1;33m\u001b[0m\u001b[1;33m\u001b[0m\u001b[1;33m\u001b[0m\u001b[0m\n",
      "\u001b[1;32m~\\Anaconda3\\lib\\site-packages\\tensorflow\\python\\eager\\def_function.py\u001b[0m in \u001b[0;36m__call__\u001b[1;34m(self, *args, **kwds)\u001b[0m\n\u001b[0;32m    578\u001b[0m         \u001b[0mxla_context\u001b[0m\u001b[1;33m.\u001b[0m\u001b[0mExit\u001b[0m\u001b[1;33m(\u001b[0m\u001b[1;33m)\u001b[0m\u001b[1;33m\u001b[0m\u001b[1;33m\u001b[0m\u001b[0m\n\u001b[0;32m    579\u001b[0m     \u001b[1;32melse\u001b[0m\u001b[1;33m:\u001b[0m\u001b[1;33m\u001b[0m\u001b[1;33m\u001b[0m\u001b[0m\n\u001b[1;32m--> 580\u001b[1;33m       \u001b[0mresult\u001b[0m \u001b[1;33m=\u001b[0m \u001b[0mself\u001b[0m\u001b[1;33m.\u001b[0m\u001b[0m_call\u001b[0m\u001b[1;33m(\u001b[0m\u001b[1;33m*\u001b[0m\u001b[0margs\u001b[0m\u001b[1;33m,\u001b[0m \u001b[1;33m**\u001b[0m\u001b[0mkwds\u001b[0m\u001b[1;33m)\u001b[0m\u001b[1;33m\u001b[0m\u001b[1;33m\u001b[0m\u001b[0m\n\u001b[0m\u001b[0;32m    581\u001b[0m \u001b[1;33m\u001b[0m\u001b[0m\n\u001b[0;32m    582\u001b[0m     \u001b[1;32mif\u001b[0m \u001b[0mtracing_count\u001b[0m \u001b[1;33m==\u001b[0m \u001b[0mself\u001b[0m\u001b[1;33m.\u001b[0m\u001b[0m_get_tracing_count\u001b[0m\u001b[1;33m(\u001b[0m\u001b[1;33m)\u001b[0m\u001b[1;33m:\u001b[0m\u001b[1;33m\u001b[0m\u001b[1;33m\u001b[0m\u001b[0m\n",
      "\u001b[1;32m~\\Anaconda3\\lib\\site-packages\\tensorflow\\python\\eager\\def_function.py\u001b[0m in \u001b[0;36m_call\u001b[1;34m(self, *args, **kwds)\u001b[0m\n\u001b[0;32m    625\u001b[0m       \u001b[1;31m# This is the first call of __call__, so we have to initialize.\u001b[0m\u001b[1;33m\u001b[0m\u001b[1;33m\u001b[0m\u001b[1;33m\u001b[0m\u001b[0m\n\u001b[0;32m    626\u001b[0m       \u001b[0minitializers\u001b[0m \u001b[1;33m=\u001b[0m \u001b[1;33m[\u001b[0m\u001b[1;33m]\u001b[0m\u001b[1;33m\u001b[0m\u001b[1;33m\u001b[0m\u001b[0m\n\u001b[1;32m--> 627\u001b[1;33m       \u001b[0mself\u001b[0m\u001b[1;33m.\u001b[0m\u001b[0m_initialize\u001b[0m\u001b[1;33m(\u001b[0m\u001b[0margs\u001b[0m\u001b[1;33m,\u001b[0m \u001b[0mkwds\u001b[0m\u001b[1;33m,\u001b[0m \u001b[0madd_initializers_to\u001b[0m\u001b[1;33m=\u001b[0m\u001b[0minitializers\u001b[0m\u001b[1;33m)\u001b[0m\u001b[1;33m\u001b[0m\u001b[1;33m\u001b[0m\u001b[0m\n\u001b[0m\u001b[0;32m    628\u001b[0m     \u001b[1;32mfinally\u001b[0m\u001b[1;33m:\u001b[0m\u001b[1;33m\u001b[0m\u001b[1;33m\u001b[0m\u001b[0m\n\u001b[0;32m    629\u001b[0m       \u001b[1;31m# At this point we know that the initialization is complete (or less\u001b[0m\u001b[1;33m\u001b[0m\u001b[1;33m\u001b[0m\u001b[1;33m\u001b[0m\u001b[0m\n",
      "\u001b[1;32m~\\Anaconda3\\lib\\site-packages\\tensorflow\\python\\eager\\def_function.py\u001b[0m in \u001b[0;36m_initialize\u001b[1;34m(self, args, kwds, add_initializers_to)\u001b[0m\n\u001b[0;32m    504\u001b[0m     self._concrete_stateful_fn = (\n\u001b[0;32m    505\u001b[0m         self._stateful_fn._get_concrete_function_internal_garbage_collected(  # pylint: disable=protected-access\n\u001b[1;32m--> 506\u001b[1;33m             *args, **kwds))\n\u001b[0m\u001b[0;32m    507\u001b[0m \u001b[1;33m\u001b[0m\u001b[0m\n\u001b[0;32m    508\u001b[0m     \u001b[1;32mdef\u001b[0m \u001b[0minvalid_creator_scope\u001b[0m\u001b[1;33m(\u001b[0m\u001b[1;33m*\u001b[0m\u001b[0munused_args\u001b[0m\u001b[1;33m,\u001b[0m \u001b[1;33m**\u001b[0m\u001b[0munused_kwds\u001b[0m\u001b[1;33m)\u001b[0m\u001b[1;33m:\u001b[0m\u001b[1;33m\u001b[0m\u001b[1;33m\u001b[0m\u001b[0m\n",
      "\u001b[1;32m~\\Anaconda3\\lib\\site-packages\\tensorflow\\python\\eager\\function.py\u001b[0m in \u001b[0;36m_get_concrete_function_internal_garbage_collected\u001b[1;34m(self, *args, **kwargs)\u001b[0m\n\u001b[0;32m   2444\u001b[0m       \u001b[0margs\u001b[0m\u001b[1;33m,\u001b[0m \u001b[0mkwargs\u001b[0m \u001b[1;33m=\u001b[0m \u001b[1;32mNone\u001b[0m\u001b[1;33m,\u001b[0m \u001b[1;32mNone\u001b[0m\u001b[1;33m\u001b[0m\u001b[1;33m\u001b[0m\u001b[0m\n\u001b[0;32m   2445\u001b[0m     \u001b[1;32mwith\u001b[0m \u001b[0mself\u001b[0m\u001b[1;33m.\u001b[0m\u001b[0m_lock\u001b[0m\u001b[1;33m:\u001b[0m\u001b[1;33m\u001b[0m\u001b[1;33m\u001b[0m\u001b[0m\n\u001b[1;32m-> 2446\u001b[1;33m       \u001b[0mgraph_function\u001b[0m\u001b[1;33m,\u001b[0m \u001b[0m_\u001b[0m\u001b[1;33m,\u001b[0m \u001b[0m_\u001b[0m \u001b[1;33m=\u001b[0m \u001b[0mself\u001b[0m\u001b[1;33m.\u001b[0m\u001b[0m_maybe_define_function\u001b[0m\u001b[1;33m(\u001b[0m\u001b[0margs\u001b[0m\u001b[1;33m,\u001b[0m \u001b[0mkwargs\u001b[0m\u001b[1;33m)\u001b[0m\u001b[1;33m\u001b[0m\u001b[1;33m\u001b[0m\u001b[0m\n\u001b[0m\u001b[0;32m   2447\u001b[0m     \u001b[1;32mreturn\u001b[0m \u001b[0mgraph_function\u001b[0m\u001b[1;33m\u001b[0m\u001b[1;33m\u001b[0m\u001b[0m\n\u001b[0;32m   2448\u001b[0m \u001b[1;33m\u001b[0m\u001b[0m\n",
      "\u001b[1;32m~\\Anaconda3\\lib\\site-packages\\tensorflow\\python\\eager\\function.py\u001b[0m in \u001b[0;36m_maybe_define_function\u001b[1;34m(self, args, kwargs)\u001b[0m\n\u001b[0;32m   2775\u001b[0m \u001b[1;33m\u001b[0m\u001b[0m\n\u001b[0;32m   2776\u001b[0m       \u001b[0mself\u001b[0m\u001b[1;33m.\u001b[0m\u001b[0m_function_cache\u001b[0m\u001b[1;33m.\u001b[0m\u001b[0mmissed\u001b[0m\u001b[1;33m.\u001b[0m\u001b[0madd\u001b[0m\u001b[1;33m(\u001b[0m\u001b[0mcall_context_key\u001b[0m\u001b[1;33m)\u001b[0m\u001b[1;33m\u001b[0m\u001b[1;33m\u001b[0m\u001b[0m\n\u001b[1;32m-> 2777\u001b[1;33m       \u001b[0mgraph_function\u001b[0m \u001b[1;33m=\u001b[0m \u001b[0mself\u001b[0m\u001b[1;33m.\u001b[0m\u001b[0m_create_graph_function\u001b[0m\u001b[1;33m(\u001b[0m\u001b[0margs\u001b[0m\u001b[1;33m,\u001b[0m \u001b[0mkwargs\u001b[0m\u001b[1;33m)\u001b[0m\u001b[1;33m\u001b[0m\u001b[1;33m\u001b[0m\u001b[0m\n\u001b[0m\u001b[0;32m   2778\u001b[0m       \u001b[0mself\u001b[0m\u001b[1;33m.\u001b[0m\u001b[0m_function_cache\u001b[0m\u001b[1;33m.\u001b[0m\u001b[0mprimary\u001b[0m\u001b[1;33m[\u001b[0m\u001b[0mcache_key\u001b[0m\u001b[1;33m]\u001b[0m \u001b[1;33m=\u001b[0m \u001b[0mgraph_function\u001b[0m\u001b[1;33m\u001b[0m\u001b[1;33m\u001b[0m\u001b[0m\n\u001b[0;32m   2779\u001b[0m       \u001b[1;32mreturn\u001b[0m \u001b[0mgraph_function\u001b[0m\u001b[1;33m,\u001b[0m \u001b[0margs\u001b[0m\u001b[1;33m,\u001b[0m \u001b[0mkwargs\u001b[0m\u001b[1;33m\u001b[0m\u001b[1;33m\u001b[0m\u001b[0m\n",
      "\u001b[1;32m~\\Anaconda3\\lib\\site-packages\\tensorflow\\python\\eager\\function.py\u001b[0m in \u001b[0;36m_create_graph_function\u001b[1;34m(self, args, kwargs, override_flat_arg_shapes)\u001b[0m\n\u001b[0;32m   2665\u001b[0m             \u001b[0marg_names\u001b[0m\u001b[1;33m=\u001b[0m\u001b[0marg_names\u001b[0m\u001b[1;33m,\u001b[0m\u001b[1;33m\u001b[0m\u001b[1;33m\u001b[0m\u001b[0m\n\u001b[0;32m   2666\u001b[0m             \u001b[0moverride_flat_arg_shapes\u001b[0m\u001b[1;33m=\u001b[0m\u001b[0moverride_flat_arg_shapes\u001b[0m\u001b[1;33m,\u001b[0m\u001b[1;33m\u001b[0m\u001b[1;33m\u001b[0m\u001b[0m\n\u001b[1;32m-> 2667\u001b[1;33m             capture_by_value=self._capture_by_value),\n\u001b[0m\u001b[0;32m   2668\u001b[0m         \u001b[0mself\u001b[0m\u001b[1;33m.\u001b[0m\u001b[0m_function_attributes\u001b[0m\u001b[1;33m,\u001b[0m\u001b[1;33m\u001b[0m\u001b[1;33m\u001b[0m\u001b[0m\n\u001b[0;32m   2669\u001b[0m         \u001b[1;31m# Tell the ConcreteFunction to clean up its graph once it goes out of\u001b[0m\u001b[1;33m\u001b[0m\u001b[1;33m\u001b[0m\u001b[1;33m\u001b[0m\u001b[0m\n",
      "\u001b[1;32m~\\Anaconda3\\lib\\site-packages\\tensorflow\\python\\framework\\func_graph.py\u001b[0m in \u001b[0;36mfunc_graph_from_py_func\u001b[1;34m(name, python_func, args, kwargs, signature, func_graph, autograph, autograph_options, add_control_dependencies, arg_names, op_return_value, collections, capture_by_value, override_flat_arg_shapes)\u001b[0m\n\u001b[0;32m    979\u001b[0m         \u001b[0m_\u001b[0m\u001b[1;33m,\u001b[0m \u001b[0moriginal_func\u001b[0m \u001b[1;33m=\u001b[0m \u001b[0mtf_decorator\u001b[0m\u001b[1;33m.\u001b[0m\u001b[0munwrap\u001b[0m\u001b[1;33m(\u001b[0m\u001b[0mpython_func\u001b[0m\u001b[1;33m)\u001b[0m\u001b[1;33m\u001b[0m\u001b[1;33m\u001b[0m\u001b[0m\n\u001b[0;32m    980\u001b[0m \u001b[1;33m\u001b[0m\u001b[0m\n\u001b[1;32m--> 981\u001b[1;33m       \u001b[0mfunc_outputs\u001b[0m \u001b[1;33m=\u001b[0m \u001b[0mpython_func\u001b[0m\u001b[1;33m(\u001b[0m\u001b[1;33m*\u001b[0m\u001b[0mfunc_args\u001b[0m\u001b[1;33m,\u001b[0m \u001b[1;33m**\u001b[0m\u001b[0mfunc_kwargs\u001b[0m\u001b[1;33m)\u001b[0m\u001b[1;33m\u001b[0m\u001b[1;33m\u001b[0m\u001b[0m\n\u001b[0m\u001b[0;32m    982\u001b[0m \u001b[1;33m\u001b[0m\u001b[0m\n\u001b[0;32m    983\u001b[0m       \u001b[1;31m# invariant: `func_outputs` contains only Tensors, CompositeTensors,\u001b[0m\u001b[1;33m\u001b[0m\u001b[1;33m\u001b[0m\u001b[1;33m\u001b[0m\u001b[0m\n",
      "\u001b[1;32m~\\Anaconda3\\lib\\site-packages\\tensorflow\\python\\eager\\def_function.py\u001b[0m in \u001b[0;36mwrapped_fn\u001b[1;34m(*args, **kwds)\u001b[0m\n\u001b[0;32m    439\u001b[0m         \u001b[1;31m# __wrapped__ allows AutoGraph to swap in a converted function. We give\u001b[0m\u001b[1;33m\u001b[0m\u001b[1;33m\u001b[0m\u001b[1;33m\u001b[0m\u001b[0m\n\u001b[0;32m    440\u001b[0m         \u001b[1;31m# the function a weak reference to itself to avoid a reference cycle.\u001b[0m\u001b[1;33m\u001b[0m\u001b[1;33m\u001b[0m\u001b[1;33m\u001b[0m\u001b[0m\n\u001b[1;32m--> 441\u001b[1;33m         \u001b[1;32mreturn\u001b[0m \u001b[0mweak_wrapped_fn\u001b[0m\u001b[1;33m(\u001b[0m\u001b[1;33m)\u001b[0m\u001b[1;33m.\u001b[0m\u001b[0m__wrapped__\u001b[0m\u001b[1;33m(\u001b[0m\u001b[1;33m*\u001b[0m\u001b[0margs\u001b[0m\u001b[1;33m,\u001b[0m \u001b[1;33m**\u001b[0m\u001b[0mkwds\u001b[0m\u001b[1;33m)\u001b[0m\u001b[1;33m\u001b[0m\u001b[1;33m\u001b[0m\u001b[0m\n\u001b[0m\u001b[0;32m    442\u001b[0m     \u001b[0mweak_wrapped_fn\u001b[0m \u001b[1;33m=\u001b[0m \u001b[0mweakref\u001b[0m\u001b[1;33m.\u001b[0m\u001b[0mref\u001b[0m\u001b[1;33m(\u001b[0m\u001b[0mwrapped_fn\u001b[0m\u001b[1;33m)\u001b[0m\u001b[1;33m\u001b[0m\u001b[1;33m\u001b[0m\u001b[0m\n\u001b[0;32m    443\u001b[0m \u001b[1;33m\u001b[0m\u001b[0m\n",
      "\u001b[1;32m~\\Anaconda3\\lib\\site-packages\\tensorflow\\python\\framework\\func_graph.py\u001b[0m in \u001b[0;36mwrapper\u001b[1;34m(*args, **kwargs)\u001b[0m\n\u001b[0;32m    966\u001b[0m           \u001b[1;32mexcept\u001b[0m \u001b[0mException\u001b[0m \u001b[1;32mas\u001b[0m \u001b[0me\u001b[0m\u001b[1;33m:\u001b[0m  \u001b[1;31m# pylint:disable=broad-except\u001b[0m\u001b[1;33m\u001b[0m\u001b[1;33m\u001b[0m\u001b[0m\n\u001b[0;32m    967\u001b[0m             \u001b[1;32mif\u001b[0m \u001b[0mhasattr\u001b[0m\u001b[1;33m(\u001b[0m\u001b[0me\u001b[0m\u001b[1;33m,\u001b[0m \u001b[1;34m\"ag_error_metadata\"\u001b[0m\u001b[1;33m)\u001b[0m\u001b[1;33m:\u001b[0m\u001b[1;33m\u001b[0m\u001b[1;33m\u001b[0m\u001b[0m\n\u001b[1;32m--> 968\u001b[1;33m               \u001b[1;32mraise\u001b[0m \u001b[0me\u001b[0m\u001b[1;33m.\u001b[0m\u001b[0mag_error_metadata\u001b[0m\u001b[1;33m.\u001b[0m\u001b[0mto_exception\u001b[0m\u001b[1;33m(\u001b[0m\u001b[0me\u001b[0m\u001b[1;33m)\u001b[0m\u001b[1;33m\u001b[0m\u001b[1;33m\u001b[0m\u001b[0m\n\u001b[0m\u001b[0;32m    969\u001b[0m             \u001b[1;32melse\u001b[0m\u001b[1;33m:\u001b[0m\u001b[1;33m\u001b[0m\u001b[1;33m\u001b[0m\u001b[0m\n\u001b[0;32m    970\u001b[0m               \u001b[1;32mraise\u001b[0m\u001b[1;33m\u001b[0m\u001b[1;33m\u001b[0m\u001b[0m\n",
      "\u001b[1;31mValueError\u001b[0m: in user code:\n\n    C:\\Users\\Home\\Anaconda3\\lib\\site-packages\\tensorflow\\python\\keras\\engine\\training.py:571 train_function  *\n        outputs = self.distribute_strategy.run(\n    C:\\Users\\Home\\Anaconda3\\lib\\site-packages\\tensorflow\\python\\distribute\\distribute_lib.py:951 run  **\n        return self._extended.call_for_each_replica(fn, args=args, kwargs=kwargs)\n    C:\\Users\\Home\\Anaconda3\\lib\\site-packages\\tensorflow\\python\\distribute\\distribute_lib.py:2290 call_for_each_replica\n        return self._call_for_each_replica(fn, args, kwargs)\n    C:\\Users\\Home\\Anaconda3\\lib\\site-packages\\tensorflow\\python\\distribute\\distribute_lib.py:2649 _call_for_each_replica\n        return fn(*args, **kwargs)\n    C:\\Users\\Home\\Anaconda3\\lib\\site-packages\\tensorflow\\python\\keras\\engine\\training.py:533 train_step  **\n        y, y_pred, sample_weight, regularization_losses=self.losses)\n    C:\\Users\\Home\\Anaconda3\\lib\\site-packages\\tensorflow\\python\\keras\\engine\\compile_utils.py:205 __call__\n        loss_value = loss_obj(y_t, y_p, sample_weight=sw)\n    C:\\Users\\Home\\Anaconda3\\lib\\site-packages\\tensorflow\\python\\keras\\losses.py:143 __call__\n        losses = self.call(y_true, y_pred)\n    C:\\Users\\Home\\Anaconda3\\lib\\site-packages\\tensorflow\\python\\keras\\losses.py:246 call\n        return self.fn(y_true, y_pred, **self._fn_kwargs)\n    C:\\Users\\Home\\Anaconda3\\lib\\site-packages\\tensorflow\\python\\keras\\losses.py:1527 categorical_crossentropy\n        return K.categorical_crossentropy(y_true, y_pred, from_logits=from_logits)\n    C:\\Users\\Home\\Anaconda3\\lib\\site-packages\\tensorflow\\python\\keras\\backend.py:4561 categorical_crossentropy\n        target.shape.assert_is_compatible_with(output.shape)\n    C:\\Users\\Home\\Anaconda3\\lib\\site-packages\\tensorflow\\python\\framework\\tensor_shape.py:1117 assert_is_compatible_with\n        raise ValueError(\"Shapes %s and %s are incompatible\" % (self, other))\n\n    ValueError: Shapes (None, 1) and (None, 10) are incompatible\n"
     ]
    }
   ],
   "source": [
    "# https://nextjournal.com/gkoehler/digit-recognition-with-keras\n",
    "import os\n",
    "# training the model and saving metrics in history\n",
    "history = model.fit(x_train, y_train,\n",
    "          batch_size=128, epochs=2,\n",
    "          verbose=2,\n",
    "          validation_data=(x_test, y_test))\n",
    "\n",
    "# saving the model\n",
    "save_dir = \"D:/dat1/\"\n",
    "model_name = 'keras_mnist.h5'\n",
    "model_path = os.path.join(save_dir, model_name)\n",
    "model.save(model_path)\n",
    "print('Saved trained model at %s ' % model_path)\n",
    "\n",
    "# plotting the metrics\n",
    "fig = plt.figure()\n",
    "plt.subplot(2,1,1)\n",
    "plt.plot(history.history['acc'])\n",
    "plt.plot(history.history['val_acc'])\n",
    "plt.title('model accuracy')\n",
    "plt.ylabel('accuracy')\n",
    "plt.xlabel('epoch')\n",
    "plt.legend(['train', 'test'], loc='lower right')\n",
    "\n",
    "plt.subplot(2,1,2)\n",
    "plt.plot(history.history['loss'])\n",
    "plt.plot(history.history['val_loss'])\n",
    "plt.title('model loss')\n",
    "plt.ylabel('loss')\n",
    "plt.xlabel('epoch')\n",
    "plt.legend(['train', 'test'], loc='upper right')\n",
    "\n",
    "plt.tight_layout()\n",
    "\n",
    "fig"
   ]
  },
  {
   "cell_type": "markdown",
   "metadata": {},
   "source": [
    "# wrong prediction"
   ]
  },
  {
   "cell_type": "code",
   "execution_count": 140,
   "metadata": {
    "collapsed": true
   },
   "outputs": [
    {
     "data": {
      "image/png": "[encoded data removed]",
      "text/plain": [
       "<Figure size 432x288 with 1 Axes>"
      ]
     },
     "metadata": {
      "needs_background": "light"
     },
     "output_type": "display_data"
    },
    {
     "name": "stdout",
     "output_type": "stream",
     "text": [
      "Label for the element 0 : [[[0.        ]\n",
      "  [0.        ]\n",
      "  [0.        ]\n",
      "  [0.        ]\n",
      "  [0.        ]\n",
      "  [0.        ]\n",
      "  [0.        ]\n",
      "  [0.        ]\n",
      "  [0.        ]\n",
      "  [0.        ]\n",
      "  [0.        ]\n",
      "  [0.        ]\n",
      "  [0.        ]\n",
      "  [0.        ]\n",
      "  [0.        ]\n",
      "  [0.        ]\n",
      "  [0.        ]\n",
      "  [0.        ]\n",
      "  [0.        ]\n",
      "  [0.        ]\n",
      "  [0.        ]\n",
      "  [0.        ]\n",
      "  [0.        ]\n",
      "  [0.        ]\n",
      "  [0.        ]\n",
      "  [0.        ]\n",
      "  [0.        ]\n",
      "  [0.        ]]\n",
      "\n",
      " [[0.        ]\n",
      "  [0.        ]\n",
      "  [0.        ]\n",
      "  [0.        ]\n",
      "  [0.        ]\n",
      "  [0.        ]\n",
      "  [0.        ]\n",
      "  [0.        ]\n",
      "  [0.        ]\n",
      "  [0.        ]\n",
      "  [0.        ]\n",
      "  [0.        ]\n",
      "  [0.        ]\n",
      "  [0.        ]\n",
      "  [0.        ]\n",
      "  [0.        ]\n",
      "  [0.        ]\n",
      "  [0.        ]\n",
      "  [0.        ]\n",
      "  [0.        ]\n",
      "  [0.        ]\n",
      "  [0.        ]\n",
      "  [0.        ]\n",
      "  [0.        ]\n",
      "  [0.        ]\n",
      "  [0.        ]\n",
      "  [0.        ]\n",
      "  [0.        ]]\n",
      "\n",
      " [[0.        ]\n",
      "  [0.        ]\n",
      "  [0.        ]\n",
      "  [0.        ]\n",
      "  [0.        ]\n",
      "  [0.        ]\n",
      "  [0.        ]\n",
      "  [0.        ]\n",
      "  [0.        ]\n",
      "  [0.        ]\n",
      "  [0.        ]\n",
      "  [0.        ]\n",
      "  [0.        ]\n",
      "  [0.        ]\n",
      "  [0.        ]\n",
      "  [0.        ]\n",
      "  [0.        ]\n",
      "  [0.        ]\n",
      "  [0.        ]\n",
      "  [0.        ]\n",
      "  [0.        ]\n",
      "  [0.        ]\n",
      "  [0.        ]\n",
      "  [0.        ]\n",
      "  [0.        ]\n",
      "  [0.        ]\n",
      "  [0.        ]\n",
      "  [0.        ]]\n",
      "\n",
      " [[0.        ]\n",
      "  [0.        ]\n",
      "  [0.        ]\n",
      "  [0.        ]\n",
      "  [0.        ]\n",
      "  [0.        ]\n",
      "  [0.        ]\n",
      "  [0.        ]\n",
      "  [0.        ]\n",
      "  [0.        ]\n",
      "  [0.        ]\n",
      "  [0.        ]\n",
      "  [0.        ]\n",
      "  [0.        ]\n",
      "  [0.        ]\n",
      "  [0.        ]\n",
      "  [0.        ]\n",
      "  [0.        ]\n",
      "  [0.        ]\n",
      "  [0.        ]\n",
      "  [0.        ]\n",
      "  [0.        ]\n",
      "  [0.        ]\n",
      "  [0.        ]\n",
      "  [0.        ]\n",
      "  [0.        ]\n",
      "  [0.        ]\n",
      "  [0.        ]]\n",
      "\n",
      " [[0.        ]\n",
      "  [0.        ]\n",
      "  [0.        ]\n",
      "  [0.        ]\n",
      "  [0.        ]\n",
      "  [0.        ]\n",
      "  [0.        ]\n",
      "  [0.        ]\n",
      "  [0.        ]\n",
      "  [0.        ]\n",
      "  [0.        ]\n",
      "  [0.        ]\n",
      "  [0.        ]\n",
      "  [0.        ]\n",
      "  [0.        ]\n",
      "  [0.        ]\n",
      "  [0.        ]\n",
      "  [0.        ]\n",
      "  [0.        ]\n",
      "  [0.        ]\n",
      "  [0.        ]\n",
      "  [0.        ]\n",
      "  [0.        ]\n",
      "  [0.        ]\n",
      "  [0.        ]\n",
      "  [0.        ]\n",
      "  [0.        ]\n",
      "  [0.        ]]\n",
      "\n",
      " [[0.        ]\n",
      "  [0.        ]\n",
      "  [0.        ]\n",
      "  [0.        ]\n",
      "  [0.        ]\n",
      "  [0.        ]\n",
      "  [0.        ]\n",
      "  [0.        ]\n",
      "  [0.        ]\n",
      "  [0.        ]\n",
      "  [0.        ]\n",
      "  [0.        ]\n",
      "  [0.        ]\n",
      "  [0.        ]\n",
      "  [0.        ]\n",
      "  [0.        ]\n",
      "  [0.        ]\n",
      "  [0.        ]\n",
      "  [0.        ]\n",
      "  [0.        ]\n",
      "  [0.        ]\n",
      "  [0.        ]\n",
      "  [0.        ]\n",
      "  [0.        ]\n",
      "  [0.        ]\n",
      "  [0.        ]\n",
      "  [0.        ]\n",
      "  [0.        ]]\n",
      "\n",
      " [[0.        ]\n",
      "  [0.        ]\n",
      "  [0.        ]\n",
      "  [0.        ]\n",
      "  [0.        ]\n",
      "  [0.        ]\n",
      "  [0.        ]\n",
      "  [0.        ]\n",
      "  [0.        ]\n",
      "  [0.        ]\n",
      "  [0.        ]\n",
      "  [0.        ]\n",
      "  [0.        ]\n",
      "  [0.        ]\n",
      "  [0.        ]\n",
      "  [0.        ]\n",
      "  [0.        ]\n",
      "  [0.        ]\n",
      "  [0.        ]\n",
      "  [0.        ]\n",
      "  [0.        ]\n",
      "  [0.        ]\n",
      "  [0.        ]\n",
      "  [0.        ]\n",
      "  [0.        ]\n",
      "  [0.        ]\n",
      "  [0.        ]\n",
      "  [0.        ]]\n",
      "\n",
      " [[0.        ]\n",
      "  [0.        ]\n",
      "  [0.        ]\n",
      "  [0.        ]\n",
      "  [0.        ]\n",
      "  [0.        ]\n",
      "  [0.32941176]\n",
      "  [0.7254902 ]\n",
      "  [0.62352941]\n",
      "  [0.59215686]\n",
      "  [0.23529412]\n",
      "  [0.14117647]\n",
      "  [0.        ]\n",
      "  [0.        ]\n",
      "  [0.        ]\n",
      "  [0.        ]\n",
      "  [0.        ]\n",
      "  [0.        ]\n",
      "  [0.        ]\n",
      "  [0.        ]\n",
      "  [0.        ]\n",
      "  [0.        ]\n",
      "  [0.        ]\n",
      "  [0.        ]\n",
      "  [0.        ]\n",
      "  [0.        ]\n",
      "  [0.        ]\n",
      "  [0.        ]]\n",
      "\n",
      " [[0.        ]\n",
      "  [0.        ]\n",
      "  [0.        ]\n",
      "  [0.        ]\n",
      "  [0.        ]\n",
      "  [0.        ]\n",
      "  [0.87058824]\n",
      "  [0.99607843]\n",
      "  [0.99607843]\n",
      "  [0.99607843]\n",
      "  [0.99607843]\n",
      "  [0.94509804]\n",
      "  [0.77647059]\n",
      "  [0.77647059]\n",
      "  [0.77647059]\n",
      "  [0.77647059]\n",
      "  [0.77647059]\n",
      "  [0.77647059]\n",
      "  [0.77647059]\n",
      "  [0.77647059]\n",
      "  [0.66666667]\n",
      "  [0.20392157]\n",
      "  [0.        ]\n",
      "  [0.        ]\n",
      "  [0.        ]\n",
      "  [0.        ]\n",
      "  [0.        ]\n",
      "  [0.        ]]\n",
      "\n",
      " [[0.        ]\n",
      "  [0.        ]\n",
      "  [0.        ]\n",
      "  [0.        ]\n",
      "  [0.        ]\n",
      "  [0.        ]\n",
      "  [0.2627451 ]\n",
      "  [0.44705882]\n",
      "  [0.28235294]\n",
      "  [0.44705882]\n",
      "  [0.63921569]\n",
      "  [0.89019608]\n",
      "  [0.99607843]\n",
      "  [0.88235294]\n",
      "  [0.99607843]\n",
      "  [0.99607843]\n",
      "  [0.99607843]\n",
      "  [0.98039216]\n",
      "  [0.89803922]\n",
      "  [0.99607843]\n",
      "  [0.99607843]\n",
      "  [0.54901961]\n",
      "  [0.        ]\n",
      "  [0.        ]\n",
      "  [0.        ]\n",
      "  [0.        ]\n",
      "  [0.        ]\n",
      "  [0.        ]]\n",
      "\n",
      " [[0.        ]\n",
      "  [0.        ]\n",
      "  [0.        ]\n",
      "  [0.        ]\n",
      "  [0.        ]\n",
      "  [0.        ]\n",
      "  [0.        ]\n",
      "  [0.        ]\n",
      "  [0.        ]\n",
      "  [0.        ]\n",
      "  [0.        ]\n",
      "  [0.06666667]\n",
      "  [0.25882353]\n",
      "  [0.05490196]\n",
      "  [0.2627451 ]\n",
      "  [0.2627451 ]\n",
      "  [0.2627451 ]\n",
      "  [0.23137255]\n",
      "  [0.08235294]\n",
      "  [0.9254902 ]\n",
      "  [0.99607843]\n",
      "  [0.41568627]\n",
      "  [0.        ]\n",
      "  [0.        ]\n",
      "  [0.        ]\n",
      "  [0.        ]\n",
      "  [0.        ]\n",
      "  [0.        ]]\n",
      "\n",
      " [[0.        ]\n",
      "  [0.        ]\n",
      "  [0.        ]\n",
      "  [0.        ]\n",
      "  [0.        ]\n",
      "  [0.        ]\n",
      "  [0.        ]\n",
      "  [0.        ]\n",
      "  [0.        ]\n",
      "  [0.        ]\n",
      "  [0.        ]\n",
      "  [0.        ]\n",
      "  [0.        ]\n",
      "  [0.        ]\n",
      "  [0.        ]\n",
      "  [0.        ]\n",
      "  [0.        ]\n",
      "  [0.        ]\n",
      "  [0.3254902 ]\n",
      "  [0.99215686]\n",
      "  [0.81960784]\n",
      "  [0.07058824]\n",
      "  [0.        ]\n",
      "  [0.        ]\n",
      "  [0.        ]\n",
      "  [0.        ]\n",
      "  [0.        ]\n",
      "  [0.        ]]\n",
      "\n",
      " [[0.        ]\n",
      "  [0.        ]\n",
      "  [0.        ]\n",
      "  [0.        ]\n",
      "  [0.        ]\n",
      "  [0.        ]\n",
      "  [0.        ]\n",
      "  [0.        ]\n",
      "  [0.        ]\n",
      "  [0.        ]\n",
      "  [0.        ]\n",
      "  [0.        ]\n",
      "  [0.        ]\n",
      "  [0.        ]\n",
      "  [0.        ]\n",
      "  [0.        ]\n",
      "  [0.        ]\n",
      "  [0.08627451]\n",
      "  [0.91372549]\n",
      "  [1.        ]\n",
      "  [0.3254902 ]\n",
      "  [0.        ]\n",
      "  [0.        ]\n",
      "  [0.        ]\n",
      "  [0.        ]\n",
      "  [0.        ]\n",
      "  [0.        ]\n",
      "  [0.        ]]\n",
      "\n",
      " [[0.        ]\n",
      "  [0.        ]\n",
      "  [0.        ]\n",
      "  [0.        ]\n",
      "  [0.        ]\n",
      "  [0.        ]\n",
      "  [0.        ]\n",
      "  [0.        ]\n",
      "  [0.        ]\n",
      "  [0.        ]\n",
      "  [0.        ]\n",
      "  [0.        ]\n",
      "  [0.        ]\n",
      "  [0.        ]\n",
      "  [0.        ]\n",
      "  [0.        ]\n",
      "  [0.        ]\n",
      "  [0.50588235]\n",
      "  [0.99607843]\n",
      "  [0.93333333]\n",
      "  [0.17254902]\n",
      "  [0.        ]\n",
      "  [0.        ]\n",
      "  [0.        ]\n",
      "  [0.        ]\n",
      "  [0.        ]\n",
      "  [0.        ]\n",
      "  [0.        ]]\n",
      "\n",
      " [[0.        ]\n",
      "  [0.        ]\n",
      "  [0.        ]\n",
      "  [0.        ]\n",
      "  [0.        ]\n",
      "  [0.        ]\n",
      "  [0.        ]\n",
      "  [0.        ]\n",
      "  [0.        ]\n",
      "  [0.        ]\n",
      "  [0.        ]\n",
      "  [0.        ]\n",
      "  [0.        ]\n",
      "  [0.        ]\n",
      "  [0.        ]\n",
      "  [0.        ]\n",
      "  [0.23137255]\n",
      "  [0.97647059]\n",
      "  [0.99607843]\n",
      "  [0.24313725]\n",
      "  [0.        ]\n",
      "  [0.        ]\n",
      "  [0.        ]\n",
      "  [0.        ]\n",
      "  [0.        ]\n",
      "  [0.        ]\n",
      "  [0.        ]\n",
      "  [0.        ]]\n",
      "\n",
      " [[0.        ]\n",
      "  [0.        ]\n",
      "  [0.        ]\n",
      "  [0.        ]\n",
      "  [0.        ]\n",
      "  [0.        ]\n",
      "  [0.        ]\n",
      "  [0.        ]\n",
      "  [0.        ]\n",
      "  [0.        ]\n",
      "  [0.        ]\n",
      "  [0.        ]\n",
      "  [0.        ]\n",
      "  [0.        ]\n",
      "  [0.        ]\n",
      "  [0.        ]\n",
      "  [0.52156863]\n",
      "  [0.99607843]\n",
      "  [0.73333333]\n",
      "  [0.01960784]\n",
      "  [0.        ]\n",
      "  [0.        ]\n",
      "  [0.        ]\n",
      "  [0.        ]\n",
      "  [0.        ]\n",
      "  [0.        ]\n",
      "  [0.        ]\n",
      "  [0.        ]]\n",
      "\n",
      " [[0.        ]\n",
      "  [0.        ]\n",
      "  [0.        ]\n",
      "  [0.        ]\n",
      "  [0.        ]\n",
      "  [0.        ]\n",
      "  [0.        ]\n",
      "  [0.        ]\n",
      "  [0.        ]\n",
      "  [0.        ]\n",
      "  [0.        ]\n",
      "  [0.        ]\n",
      "  [0.        ]\n",
      "  [0.        ]\n",
      "  [0.        ]\n",
      "  [0.03529412]\n",
      "  [0.80392157]\n",
      "  [0.97254902]\n",
      "  [0.22745098]\n",
      "  [0.        ]\n",
      "  [0.        ]\n",
      "  [0.        ]\n",
      "  [0.        ]\n",
      "  [0.        ]\n",
      "  [0.        ]\n",
      "  [0.        ]\n",
      "  [0.        ]\n",
      "  [0.        ]]\n",
      "\n",
      " [[0.        ]\n",
      "  [0.        ]\n",
      "  [0.        ]\n",
      "  [0.        ]\n",
      "  [0.        ]\n",
      "  [0.        ]\n",
      "  [0.        ]\n",
      "  [0.        ]\n",
      "  [0.        ]\n",
      "  [0.        ]\n",
      "  [0.        ]\n",
      "  [0.        ]\n",
      "  [0.        ]\n",
      "  [0.        ]\n",
      "  [0.        ]\n",
      "  [0.49411765]\n",
      "  [0.99607843]\n",
      "  [0.71372549]\n",
      "  [0.        ]\n",
      "  [0.        ]\n",
      "  [0.        ]\n",
      "  [0.        ]\n",
      "  [0.        ]\n",
      "  [0.        ]\n",
      "  [0.        ]\n",
      "  [0.        ]\n",
      "  [0.        ]\n",
      "  [0.        ]]\n",
      "\n",
      " [[0.        ]\n",
      "  [0.        ]\n",
      "  [0.        ]\n",
      "  [0.        ]\n",
      "  [0.        ]\n",
      "  [0.        ]\n",
      "  [0.        ]\n",
      "  [0.        ]\n",
      "  [0.        ]\n",
      "  [0.        ]\n",
      "  [0.        ]\n",
      "  [0.        ]\n",
      "  [0.        ]\n",
      "  [0.        ]\n",
      "  [0.29411765]\n",
      "  [0.98431373]\n",
      "  [0.94117647]\n",
      "  [0.22352941]\n",
      "  [0.        ]\n",
      "  [0.        ]\n",
      "  [0.        ]\n",
      "  [0.        ]\n",
      "  [0.        ]\n",
      "  [0.        ]\n",
      "  [0.        ]\n",
      "  [0.        ]\n",
      "  [0.        ]\n",
      "  [0.        ]]\n",
      "\n",
      " [[0.        ]\n",
      "  [0.        ]\n",
      "  [0.        ]\n",
      "  [0.        ]\n",
      "  [0.        ]\n",
      "  [0.        ]\n",
      "  [0.        ]\n",
      "  [0.        ]\n",
      "  [0.        ]\n",
      "  [0.        ]\n",
      "  [0.        ]\n",
      "  [0.        ]\n",
      "  [0.        ]\n",
      "  [0.0745098 ]\n",
      "  [0.86666667]\n",
      "  [0.99607843]\n",
      "  [0.65098039]\n",
      "  [0.        ]\n",
      "  [0.        ]\n",
      "  [0.        ]\n",
      "  [0.        ]\n",
      "  [0.        ]\n",
      "  [0.        ]\n",
      "  [0.        ]\n",
      "  [0.        ]\n",
      "  [0.        ]\n",
      "  [0.        ]\n",
      "  [0.        ]]\n",
      "\n",
      " [[0.        ]\n",
      "  [0.        ]\n",
      "  [0.        ]\n",
      "  [0.        ]\n",
      "  [0.        ]\n",
      "  [0.        ]\n",
      "  [0.        ]\n",
      "  [0.        ]\n",
      "  [0.        ]\n",
      "  [0.        ]\n",
      "  [0.        ]\n",
      "  [0.        ]\n",
      "  [0.01176471]\n",
      "  [0.79607843]\n",
      "  [0.99607843]\n",
      "  [0.85882353]\n",
      "  [0.1372549 ]\n",
      "  [0.        ]\n",
      "  [0.        ]\n",
      "  [0.        ]\n",
      "  [0.        ]\n",
      "  [0.        ]\n",
      "  [0.        ]\n",
      "  [0.        ]\n",
      "  [0.        ]\n",
      "  [0.        ]\n",
      "  [0.        ]\n",
      "  [0.        ]]\n",
      "\n",
      " [[0.        ]\n",
      "  [0.        ]\n",
      "  [0.        ]\n",
      "  [0.        ]\n",
      "  [0.        ]\n",
      "  [0.        ]\n",
      "  [0.        ]\n",
      "  [0.        ]\n",
      "  [0.        ]\n",
      "  [0.        ]\n",
      "  [0.        ]\n",
      "  [0.        ]\n",
      "  [0.14901961]\n",
      "  [0.99607843]\n",
      "  [0.99607843]\n",
      "  [0.30196078]\n",
      "  [0.        ]\n",
      "  [0.        ]\n",
      "  [0.        ]\n",
      "  [0.        ]\n",
      "  [0.        ]\n",
      "  [0.        ]\n",
      "  [0.        ]\n",
      "  [0.        ]\n",
      "  [0.        ]\n",
      "  [0.        ]\n",
      "  [0.        ]\n",
      "  [0.        ]]\n",
      "\n",
      " [[0.        ]\n",
      "  [0.        ]\n",
      "  [0.        ]\n",
      "  [0.        ]\n",
      "  [0.        ]\n",
      "  [0.        ]\n",
      "  [0.        ]\n",
      "  [0.        ]\n",
      "  [0.        ]\n",
      "  [0.        ]\n",
      "  [0.        ]\n",
      "  [0.12156863]\n",
      "  [0.87843137]\n",
      "  [0.99607843]\n",
      "  [0.45098039]\n",
      "  [0.00392157]\n",
      "  [0.        ]\n",
      "  [0.        ]\n",
      "  [0.        ]\n",
      "  [0.        ]\n",
      "  [0.        ]\n",
      "  [0.        ]\n",
      "  [0.        ]\n",
      "  [0.        ]\n",
      "  [0.        ]\n",
      "  [0.        ]\n",
      "  [0.        ]\n",
      "  [0.        ]]\n",
      "\n",
      " [[0.        ]\n",
      "  [0.        ]\n",
      "  [0.        ]\n",
      "  [0.        ]\n",
      "  [0.        ]\n",
      "  [0.        ]\n",
      "  [0.        ]\n",
      "  [0.        ]\n",
      "  [0.        ]\n",
      "  [0.        ]\n",
      "  [0.        ]\n",
      "  [0.52156863]\n",
      "  [0.99607843]\n",
      "  [0.99607843]\n",
      "  [0.20392157]\n",
      "  [0.        ]\n",
      "  [0.        ]\n",
      "  [0.        ]\n",
      "  [0.        ]\n",
      "  [0.        ]\n",
      "  [0.        ]\n",
      "  [0.        ]\n",
      "  [0.        ]\n",
      "  [0.        ]\n",
      "  [0.        ]\n",
      "  [0.        ]\n",
      "  [0.        ]\n",
      "  [0.        ]]\n",
      "\n",
      " [[0.        ]\n",
      "  [0.        ]\n",
      "  [0.        ]\n",
      "  [0.        ]\n",
      "  [0.        ]\n",
      "  [0.        ]\n",
      "  [0.        ]\n",
      "  [0.        ]\n",
      "  [0.        ]\n",
      "  [0.        ]\n",
      "  [0.23921569]\n",
      "  [0.94901961]\n",
      "  [0.99607843]\n",
      "  [0.99607843]\n",
      "  [0.20392157]\n",
      "  [0.        ]\n",
      "  [0.        ]\n",
      "  [0.        ]\n",
      "  [0.        ]\n",
      "  [0.        ]\n",
      "  [0.        ]\n",
      "  [0.        ]\n",
      "  [0.        ]\n",
      "  [0.        ]\n",
      "  [0.        ]\n",
      "  [0.        ]\n",
      "  [0.        ]\n",
      "  [0.        ]]\n",
      "\n",
      " [[0.        ]\n",
      "  [0.        ]\n",
      "  [0.        ]\n",
      "  [0.        ]\n",
      "  [0.        ]\n",
      "  [0.        ]\n",
      "  [0.        ]\n",
      "  [0.        ]\n",
      "  [0.        ]\n",
      "  [0.        ]\n",
      "  [0.4745098 ]\n",
      "  [0.99607843]\n",
      "  [0.99607843]\n",
      "  [0.85882353]\n",
      "  [0.15686275]\n",
      "  [0.        ]\n",
      "  [0.        ]\n",
      "  [0.        ]\n",
      "  [0.        ]\n",
      "  [0.        ]\n",
      "  [0.        ]\n",
      "  [0.        ]\n",
      "  [0.        ]\n",
      "  [0.        ]\n",
      "  [0.        ]\n",
      "  [0.        ]\n",
      "  [0.        ]\n",
      "  [0.        ]]\n",
      "\n",
      " [[0.        ]\n",
      "  [0.        ]\n",
      "  [0.        ]\n",
      "  [0.        ]\n",
      "  [0.        ]\n",
      "  [0.        ]\n",
      "  [0.        ]\n",
      "  [0.        ]\n",
      "  [0.        ]\n",
      "  [0.        ]\n",
      "  [0.4745098 ]\n",
      "  [0.99607843]\n",
      "  [0.81176471]\n",
      "  [0.07058824]\n",
      "  [0.        ]\n",
      "  [0.        ]\n",
      "  [0.        ]\n",
      "  [0.        ]\n",
      "  [0.        ]\n",
      "  [0.        ]\n",
      "  [0.        ]\n",
      "  [0.        ]\n",
      "  [0.        ]\n",
      "  [0.        ]\n",
      "  [0.        ]\n",
      "  [0.        ]\n",
      "  [0.        ]\n",
      "  [0.        ]]\n",
      "\n",
      " [[0.        ]\n",
      "  [0.        ]\n",
      "  [0.        ]\n",
      "  [0.        ]\n",
      "  [0.        ]\n",
      "  [0.        ]\n",
      "  [0.        ]\n",
      "  [0.        ]\n",
      "  [0.        ]\n",
      "  [0.        ]\n",
      "  [0.        ]\n",
      "  [0.        ]\n",
      "  [0.        ]\n",
      "  [0.        ]\n",
      "  [0.        ]\n",
      "  [0.        ]\n",
      "  [0.        ]\n",
      "  [0.        ]\n",
      "  [0.        ]\n",
      "  [0.        ]\n",
      "  [0.        ]\n",
      "  [0.        ]\n",
      "  [0.        ]\n",
      "  [0.        ]\n",
      "  [0.        ]\n",
      "  [0.        ]\n",
      "  [0.        ]\n",
      "  [0.        ]]]\n",
      "Prediction for the element: 7\n"
     ]
    }
   ],
   "source": [
    "wrong_pred = np.argmin(np.argmax(pred, axis=1) == x_test[0:100])\n",
    "wrong_pred\n",
    "element = wrong_pred\n",
    "plt.imshow(x_test[element].reshape(28,28))\n",
    "plt.show()\n",
    "print(\"Label for the element\", element,\":\", x_test[element])\n",
    "print(\"Prediction for the element:\", np.argmax(pred[element]))"
   ]
  },
  {
   "cell_type": "code",
   "execution_count": 61,
   "metadata": {},
   "outputs": [
    {
     "name": "stdout",
     "output_type": "stream",
     "text": [
      "WARNING:tensorflow:From C:\\Users\\Home\\Anaconda3\\lib\\site-packages\\tensorflow\\python\\ops\\resource_variable_ops.py:1817: calling BaseResourceVariable.__init__ (from tensorflow.python.ops.resource_variable_ops) with constraint is deprecated and will be removed in a future version.\n",
      "Instructions for updating:\n",
      "If using Keras pass *_constraint arguments to layers.\n",
      "INFO:tensorflow:Assets written to: D:/dat6/cnn\\assets\n"
     ]
    }
   ],
   "source": [
    "model.save(r'D:/dat6/cnn')"
   ]
  },
  {
   "cell_type": "code",
   "execution_count": 62,
   "metadata": {},
   "outputs": [
    {
     "ename": "TypeError",
     "evalue": "Invalid shape (28, 28, 1) for image data",
     "output_type": "error",
     "traceback": [
      "\u001b[1;31m---------------------------------------------------------------------------\u001b[0m",
      "\u001b[1;31mTypeError\u001b[0m                                 Traceback (most recent call last)",
      "\u001b[1;32m<ipython-input-62-e5bd7352c9e0>\u001b[0m in \u001b[0;36m<module>\u001b[1;34m\u001b[0m\n\u001b[1;32m----> 1\u001b[1;33m \u001b[0mplt\u001b[0m\u001b[1;33m.\u001b[0m\u001b[0mimshow\u001b[0m\u001b[1;33m(\u001b[0m\u001b[0mx_test\u001b[0m\u001b[1;33m[\u001b[0m\u001b[1;36m0\u001b[0m\u001b[1;33m]\u001b[0m\u001b[1;33m,\u001b[0m \u001b[0mcmap\u001b[0m\u001b[1;33m=\u001b[0m\u001b[0mplt\u001b[0m\u001b[1;33m.\u001b[0m\u001b[0mget_cmap\u001b[0m\u001b[1;33m(\u001b[0m\u001b[1;34m'gray'\u001b[0m\u001b[1;33m)\u001b[0m\u001b[1;33m)\u001b[0m\u001b[1;33m\u001b[0m\u001b[1;33m\u001b[0m\u001b[0m\n\u001b[0m\u001b[0;32m      2\u001b[0m \u001b[0mplt\u001b[0m\u001b[1;33m.\u001b[0m\u001b[0mshow\u001b[0m\u001b[1;33m(\u001b[0m\u001b[1;33m)\u001b[0m\u001b[1;33m\u001b[0m\u001b[1;33m\u001b[0m\u001b[0m\n",
      "\u001b[1;32m~\\Anaconda3\\lib\\site-packages\\matplotlib\\pyplot.py\u001b[0m in \u001b[0;36mimshow\u001b[1;34m(X, cmap, norm, aspect, interpolation, alpha, vmin, vmax, origin, extent, shape, filternorm, filterrad, imlim, resample, url, data, **kwargs)\u001b[0m\n\u001b[0;32m   2681\u001b[0m         \u001b[0mfilternorm\u001b[0m\u001b[1;33m=\u001b[0m\u001b[0mfilternorm\u001b[0m\u001b[1;33m,\u001b[0m \u001b[0mfilterrad\u001b[0m\u001b[1;33m=\u001b[0m\u001b[0mfilterrad\u001b[0m\u001b[1;33m,\u001b[0m \u001b[0mimlim\u001b[0m\u001b[1;33m=\u001b[0m\u001b[0mimlim\u001b[0m\u001b[1;33m,\u001b[0m\u001b[1;33m\u001b[0m\u001b[1;33m\u001b[0m\u001b[0m\n\u001b[0;32m   2682\u001b[0m         resample=resample, url=url, **({\"data\": data} if data is not\n\u001b[1;32m-> 2683\u001b[1;33m         None else {}), **kwargs)\n\u001b[0m\u001b[0;32m   2684\u001b[0m     \u001b[0msci\u001b[0m\u001b[1;33m(\u001b[0m\u001b[0m__ret\u001b[0m\u001b[1;33m)\u001b[0m\u001b[1;33m\u001b[0m\u001b[1;33m\u001b[0m\u001b[0m\n\u001b[0;32m   2685\u001b[0m     \u001b[1;32mreturn\u001b[0m \u001b[0m__ret\u001b[0m\u001b[1;33m\u001b[0m\u001b[1;33m\u001b[0m\u001b[0m\n",
      "\u001b[1;32m~\\Anaconda3\\lib\\site-packages\\matplotlib\\__init__.py\u001b[0m in \u001b[0;36minner\u001b[1;34m(ax, data, *args, **kwargs)\u001b[0m\n\u001b[0;32m   1599\u001b[0m     \u001b[1;32mdef\u001b[0m \u001b[0minner\u001b[0m\u001b[1;33m(\u001b[0m\u001b[0max\u001b[0m\u001b[1;33m,\u001b[0m \u001b[1;33m*\u001b[0m\u001b[0margs\u001b[0m\u001b[1;33m,\u001b[0m \u001b[0mdata\u001b[0m\u001b[1;33m=\u001b[0m\u001b[1;32mNone\u001b[0m\u001b[1;33m,\u001b[0m \u001b[1;33m**\u001b[0m\u001b[0mkwargs\u001b[0m\u001b[1;33m)\u001b[0m\u001b[1;33m:\u001b[0m\u001b[1;33m\u001b[0m\u001b[1;33m\u001b[0m\u001b[0m\n\u001b[0;32m   1600\u001b[0m         \u001b[1;32mif\u001b[0m \u001b[0mdata\u001b[0m \u001b[1;32mis\u001b[0m \u001b[1;32mNone\u001b[0m\u001b[1;33m:\u001b[0m\u001b[1;33m\u001b[0m\u001b[1;33m\u001b[0m\u001b[0m\n\u001b[1;32m-> 1601\u001b[1;33m             \u001b[1;32mreturn\u001b[0m \u001b[0mfunc\u001b[0m\u001b[1;33m(\u001b[0m\u001b[0max\u001b[0m\u001b[1;33m,\u001b[0m \u001b[1;33m*\u001b[0m\u001b[0mmap\u001b[0m\u001b[1;33m(\u001b[0m\u001b[0msanitize_sequence\u001b[0m\u001b[1;33m,\u001b[0m \u001b[0margs\u001b[0m\u001b[1;33m)\u001b[0m\u001b[1;33m,\u001b[0m \u001b[1;33m**\u001b[0m\u001b[0mkwargs\u001b[0m\u001b[1;33m)\u001b[0m\u001b[1;33m\u001b[0m\u001b[1;33m\u001b[0m\u001b[0m\n\u001b[0m\u001b[0;32m   1602\u001b[0m \u001b[1;33m\u001b[0m\u001b[0m\n\u001b[0;32m   1603\u001b[0m         \u001b[0mbound\u001b[0m \u001b[1;33m=\u001b[0m \u001b[0mnew_sig\u001b[0m\u001b[1;33m.\u001b[0m\u001b[0mbind\u001b[0m\u001b[1;33m(\u001b[0m\u001b[0max\u001b[0m\u001b[1;33m,\u001b[0m \u001b[1;33m*\u001b[0m\u001b[0margs\u001b[0m\u001b[1;33m,\u001b[0m \u001b[1;33m**\u001b[0m\u001b[0mkwargs\u001b[0m\u001b[1;33m)\u001b[0m\u001b[1;33m\u001b[0m\u001b[1;33m\u001b[0m\u001b[0m\n",
      "\u001b[1;32m~\\Anaconda3\\lib\\site-packages\\matplotlib\\cbook\\deprecation.py\u001b[0m in \u001b[0;36mwrapper\u001b[1;34m(*args, **kwargs)\u001b[0m\n\u001b[0;32m    367\u001b[0m                 \u001b[1;34mf\"%(removal)s.  If any parameter follows {name!r}, they \"\u001b[0m\u001b[1;33m\u001b[0m\u001b[1;33m\u001b[0m\u001b[0m\n\u001b[0;32m    368\u001b[0m                 f\"should be pass as keyword, not positionally.\")\n\u001b[1;32m--> 369\u001b[1;33m         \u001b[1;32mreturn\u001b[0m \u001b[0mfunc\u001b[0m\u001b[1;33m(\u001b[0m\u001b[1;33m*\u001b[0m\u001b[0margs\u001b[0m\u001b[1;33m,\u001b[0m \u001b[1;33m**\u001b[0m\u001b[0mkwargs\u001b[0m\u001b[1;33m)\u001b[0m\u001b[1;33m\u001b[0m\u001b[1;33m\u001b[0m\u001b[0m\n\u001b[0m\u001b[0;32m    370\u001b[0m \u001b[1;33m\u001b[0m\u001b[0m\n\u001b[0;32m    371\u001b[0m     \u001b[1;32mreturn\u001b[0m \u001b[0mwrapper\u001b[0m\u001b[1;33m\u001b[0m\u001b[1;33m\u001b[0m\u001b[0m\n",
      "\u001b[1;32m~\\Anaconda3\\lib\\site-packages\\matplotlib\\cbook\\deprecation.py\u001b[0m in \u001b[0;36mwrapper\u001b[1;34m(*args, **kwargs)\u001b[0m\n\u001b[0;32m    367\u001b[0m                 \u001b[1;34mf\"%(removal)s.  If any parameter follows {name!r}, they \"\u001b[0m\u001b[1;33m\u001b[0m\u001b[1;33m\u001b[0m\u001b[0m\n\u001b[0;32m    368\u001b[0m                 f\"should be pass as keyword, not positionally.\")\n\u001b[1;32m--> 369\u001b[1;33m         \u001b[1;32mreturn\u001b[0m \u001b[0mfunc\u001b[0m\u001b[1;33m(\u001b[0m\u001b[1;33m*\u001b[0m\u001b[0margs\u001b[0m\u001b[1;33m,\u001b[0m \u001b[1;33m**\u001b[0m\u001b[0mkwargs\u001b[0m\u001b[1;33m)\u001b[0m\u001b[1;33m\u001b[0m\u001b[1;33m\u001b[0m\u001b[0m\n\u001b[0m\u001b[0;32m    370\u001b[0m \u001b[1;33m\u001b[0m\u001b[0m\n\u001b[0;32m    371\u001b[0m     \u001b[1;32mreturn\u001b[0m \u001b[0mwrapper\u001b[0m\u001b[1;33m\u001b[0m\u001b[1;33m\u001b[0m\u001b[0m\n",
      "\u001b[1;32m~\\Anaconda3\\lib\\site-packages\\matplotlib\\axes\\_axes.py\u001b[0m in \u001b[0;36mimshow\u001b[1;34m(self, X, cmap, norm, aspect, interpolation, alpha, vmin, vmax, origin, extent, shape, filternorm, filterrad, imlim, resample, url, **kwargs)\u001b[0m\n\u001b[0;32m   5669\u001b[0m                               resample=resample, **kwargs)\n\u001b[0;32m   5670\u001b[0m \u001b[1;33m\u001b[0m\u001b[0m\n\u001b[1;32m-> 5671\u001b[1;33m         \u001b[0mim\u001b[0m\u001b[1;33m.\u001b[0m\u001b[0mset_data\u001b[0m\u001b[1;33m(\u001b[0m\u001b[0mX\u001b[0m\u001b[1;33m)\u001b[0m\u001b[1;33m\u001b[0m\u001b[1;33m\u001b[0m\u001b[0m\n\u001b[0m\u001b[0;32m   5672\u001b[0m         \u001b[0mim\u001b[0m\u001b[1;33m.\u001b[0m\u001b[0mset_alpha\u001b[0m\u001b[1;33m(\u001b[0m\u001b[0malpha\u001b[0m\u001b[1;33m)\u001b[0m\u001b[1;33m\u001b[0m\u001b[1;33m\u001b[0m\u001b[0m\n\u001b[0;32m   5673\u001b[0m         \u001b[1;32mif\u001b[0m \u001b[0mim\u001b[0m\u001b[1;33m.\u001b[0m\u001b[0mget_clip_path\u001b[0m\u001b[1;33m(\u001b[0m\u001b[1;33m)\u001b[0m \u001b[1;32mis\u001b[0m \u001b[1;32mNone\u001b[0m\u001b[1;33m:\u001b[0m\u001b[1;33m\u001b[0m\u001b[1;33m\u001b[0m\u001b[0m\n",
      "\u001b[1;32m~\\Anaconda3\\lib\\site-packages\\matplotlib\\image.py\u001b[0m in \u001b[0;36mset_data\u001b[1;34m(self, A)\u001b[0m\n\u001b[0;32m    688\u001b[0m                 or self._A.ndim == 3 and self._A.shape[-1] in [3, 4]):\n\u001b[0;32m    689\u001b[0m             raise TypeError(\"Invalid shape {} for image data\"\n\u001b[1;32m--> 690\u001b[1;33m                             .format(self._A.shape))\n\u001b[0m\u001b[0;32m    691\u001b[0m \u001b[1;33m\u001b[0m\u001b[0m\n\u001b[0;32m    692\u001b[0m         \u001b[1;32mif\u001b[0m \u001b[0mself\u001b[0m\u001b[1;33m.\u001b[0m\u001b[0m_A\u001b[0m\u001b[1;33m.\u001b[0m\u001b[0mndim\u001b[0m \u001b[1;33m==\u001b[0m \u001b[1;36m3\u001b[0m\u001b[1;33m:\u001b[0m\u001b[1;33m\u001b[0m\u001b[1;33m\u001b[0m\u001b[0m\n",
      "\u001b[1;31mTypeError\u001b[0m: Invalid shape (28, 28, 1) for image data"
     ]
    },
    {
     "data": {
      "image/png": "[encoded data removed]",
      "text/plain": [
       "<Figure size 432x288 with 1 Axes>"
      ]
     },
     "metadata": {
      "needs_background": "light"
     },
     "output_type": "display_data"
    }
   ],
   "source": [
    "plt.imshow(x_test[0], cmap=plt.get_cmap('gray'))\n",
    "plt.show()"
   ]
  },
  {
   "cell_type": "code",
   "execution_count": 52,
   "metadata": {},
   "outputs": [
    {
     "data": {
      "image/png": "[encoded data removed]",
      "text/plain": [
       "<Figure size 432x288 with 1 Axes>"
      ]
     },
     "metadata": {
      "needs_background": "light"
     },
     "output_type": "display_data"
    }
   ],
   "source": [
    "plt.imshow(x_test[1], cmap=plt.get_cmap('gray'))\n",
    "plt.show()"
   ]
  },
  {
   "cell_type": "code",
   "execution_count": null,
   "metadata": {},
   "outputs": [],
   "source": [
    "#actual results for first 4 images in test set\n",
    "y_test[:4]"
   ]
  },
  {
   "cell_type": "code",
   "execution_count": null,
   "metadata": {},
   "outputs": [],
   "source": [
    "import keras"
   ]
  },
  {
   "cell_type": "code",
   "execution_count": null,
   "metadata": {},
   "outputs": [],
   "source": [
    "x1 = tf.constant([1,2,3,4])"
   ]
  },
  {
   "cell_type": "code",
   "execution_count": 3,
   "metadata": {},
   "outputs": [],
   "source": [
    "# from tensorboardcolab import TensorBoardColab, TensorBoardColabCallback\n",
    "\n",
    "# tbc=TensorBoardColab()import tensorflow as tf"
   ]
  },
  {
   "cell_type": "code",
   "execution_count": 54,
   "metadata": {},
   "outputs": [
    {
     "name": "stdout",
     "output_type": "stream",
     "text": [
      "\n",
      "0  classified correctly\n",
      "1  classified incorrectly\n"
     ]
    },
    {
     "data": {
      "image/png": "[encoded data removed]",
      "text/plain": [
       "<Figure size 504x1008 with 1 Axes>"
      ]
     },
     "execution_count": 54,
     "metadata": {},
     "output_type": "execute_result"
    },
    {
     "data": {
      "image/png": "[encoded data removed]",
      "text/plain": [
       "<Figure size 504x1008 with 1 Axes>"
      ]
     },
     "metadata": {},
     "output_type": "display_data"
    }
   ],
   "source": [
    "#\"D:/dat1/\"\n",
    "#model_name = 'keras_mnist.h5'\n",
    "# load the model and create predictions on the test set\n",
    "mnist_model = load_model(\"D:/dat1/keras_mnist.h5\")\n",
    "predicted_classes = model.predict_classes(x_test)\n",
    "\n",
    "# see which we predicted correctly and which not\n",
    "correct_indices = np.nonzero(predicted_classes == y_test)[0]\n",
    "incorrect_indices = np.nonzero(predicted_classes != y_test)[0]\n",
    "print()\n",
    "print(len(correct_indices),\" classified correctly\")\n",
    "print(len(incorrect_indices),\" classified incorrectly\")\n",
    "\n",
    "# adapt figure size to accomodate 18 subplots\n",
    "plt.rcParams['figure.figsize'] = (7,14)\n",
    "\n",
    "figure_evaluation = plt.figure()\n",
    "\n",
    "# plot 9 correct predictions\n",
    "for i, correct in enumerate(correct_indices[:9]):\n",
    "    plt.subplot(6,3,i+1)\n",
    "    plt.imshow(x_test[correct].reshape(28,28), cmap='gray', interpolation='none')\n",
    "    plt.title(\n",
    "      \"Predicted: {}, Truth: {}\".format(predicted_classes[correct],\n",
    "                                        y_test[correct]))\n",
    "    plt.xticks([])\n",
    "    plt.yticks([])\n",
    "\n",
    "# plot 9 incorrect predictions\n",
    "for i, incorrect in enumerate(incorrect_indices[:9]):\n",
    "    plt.subplot(6,3,i+10)\n",
    "    plt.imshow(x_test[incorrect].reshape(28,28), cmap='gray', interpolation='none')\n",
    "    plt.title(\n",
    "      \"Predicted {}, Truth: {}\".format(predicted_classes[incorrect], \n",
    "                                       y_test[incorrect]))\n",
    "    plt.xticks([])\n",
    "    plt.yticks([])\n",
    "\n",
    "figure_evaluation"
   ]
  },
  {
   "cell_type": "code",
   "execution_count": 56,
   "metadata": {},
   "outputs": [],
   "source": [
    "# As we can see, the wrong predictions are quite forgiveable since they're in some \n",
    "# cases even hard to recognize for the human reader. \n",
    "\n",
    "# In summary we used Keras with a Tensorflow backend on a GPU-enabled server to \n",
    "# train a neural network to recognize handwritten digits in under 20 seconds of \n",
    "# training time - all that without having to spin up any compute instances, only using our browser."
   ]
  },
  {
   "cell_type": "markdown",
   "metadata": {},
   "source": [
    "# Hyper parameter "
   ]
  },
  {
   "cell_type": "code",
   "execution_count": null,
   "metadata": {},
   "outputs": [],
   "source": [
    "def create_model(hparams):\n",
    "    model = Sequential([\n",
    "    Conv2D(64, 3, padding='same', activation='relu', \n",
    "           input_shape=(IMG_HEIGHT, IMG_WIDTH ,3)),\n",
    "    MaxPooling2D(),\n",
    "    #setting the Drop out value based on HParam\n",
    "    Dropout(hparams[HP_DROPOUT]),\n",
    "    Conv2D(128, 3, padding='same', activation='relu'),\n",
    "    MaxPooling2D(),\n",
    "    Dropout(hparams[HP_DROPOUT]),\n",
    "    Flatten(),\n",
    "    Dense(hparams[HP_NUM_UNITS], activation='relu'),\n",
    "    Dense(2, activation='softmax')])\n",
    "    \n",
    "    #setting the optimizer and learning rate\n",
    "    optimizer = hparams[HP_OPTIMIZER]\n",
    "    learning_rate = hparams[HP_LEARNING_RATE]\n",
    "    if optimizer == \"adam\":\n",
    "        optimizer = tf.optimizers.Adam(learning_rate=learning_rate)\n",
    "    elif optimizer == \"sgd\":\n",
    "        optimizer = tf.optimizers.SGD(learning_rate=learning_rate)\n",
    "    elif optimizer=='rmsprop':\n",
    "        optimizer = tf.optimizers.RMSprop(learning_rate=learning_rate)\n",
    "    else:\n",
    "        raise ValueError(\"unexpected optimizer name: %r\" % (optimizer_name,))\n",
    "    \n",
    "    # Comiple the mode with the optimizer and learninf rate specified in hparams\n",
    "    model.compile(optimizer=optimizer,\n",
    "              loss='categorical_crossentropy',\n",
    "              metrics=['accuracy'])\n",
    "    \n",
    "    #Fit the model \n",
    "    history=model.fit_generator(\n",
    "    train_data_gen,\n",
    "    steps_per_epoch=1000,\n",
    "    epochs=epochs,\n",
    "    validation_data=val_data_gen,\n",
    "    validation_steps=1000,\n",
    "    callbacks=[\n",
    "        tf.keras.callbacks.TensorBoard(log_dir),  # log metrics\n",
    "        hp.KerasCallback(log_dir, hparams),# log hparams\n",
    "        \n",
    "    ])\n",
    "    return history.history['val_accuracy'][-1]"
   ]
  },
  {
   "cell_type": "code",
   "execution_count": null,
   "metadata": {},
   "outputs": [],
   "source": []
  }
 ],
 "metadata": {
  "kernelspec": {
   "display_name": "Python 3",
   "language": "python",
   "name": "python3"
  },
  "language_info": {
   "codemirror_mode": {
    "name": "ipython",
    "version": 3
   },
   "file_extension": ".py",
   "mimetype": "text/x-python",
   "name": "python",
   "nbconvert_exporter": "python",
   "pygments_lexer": "ipython3",
   "version": "3.8.5"
  }
 },
 "nbformat": 4,
 "nbformat_minor": 2
}
