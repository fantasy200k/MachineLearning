{
  "cells": [
    {
      "metadata": {
        "trusted": true
      },
      "cell_type": "code",
      "source": "print(\"Om Vakraduntaaya Nama\")",
      "execution_count": 4,
      "outputs": [
        {
          "output_type": "stream",
          "text": "Om Vakraduntaaya Nama\n",
          "name": "stdout"
        }
      ]
    },
    {
      "metadata": {
        "trusted": true
      },
      "cell_type": "code",
      "source": "! pip install mlxtend",
      "execution_count": 2,
      "outputs": [
        {
          "output_type": "stream",
          "text": "Collecting mlxtend\n\u001b[?25l  Downloading https://files.pythonhosted.org/packages/64/e2/1610a86284029abcad0ac9bc86cb19f9787fe6448ede467188b2a5121bb4/mlxtend-0.17.2-py2.py3-none-any.whl (1.3MB)\n\u001b[K     |████████████████████████████████| 1.3MB 2.7MB/s eta 0:00:01\n\u001b[?25hCollecting pandas>=0.24.2\n\u001b[?25l  Downloading https://files.pythonhosted.org/packages/8e/86/c14387d6813ebadb7bf61b9ad270ffff111c8b587e4d266e07de774e385e/pandas-1.0.4-cp36-cp36m-manylinux1_x86_64.whl (10.1MB)\n\u001b[K     |████████████████████████████████| 10.1MB 49kB/s  eta 0:00:01\n\u001b[?25hRequirement already satisfied: numpy>=1.16.2 in /home/nbuser/anaconda3_501/lib/python3.6/site-packages (from mlxtend) (1.16.2)\nRequirement already satisfied: joblib>=0.13.2 in /home/nbuser/anaconda3_501/lib/python3.6/site-packages (from mlxtend) (0.14.0)\nRequirement already satisfied: matplotlib>=3.0.0 in /home/nbuser/anaconda3_501/lib/python3.6/site-packages (from mlxtend) (3.0.0)\nRequirement already satisfied: setuptools in /home/nbuser/anaconda3_501/lib/python3.6/site-packages (from mlxtend) (41.6.0)\nRequirement already satisfied: scikit-learn>=0.20.3 in /home/nbuser/anaconda3_501/lib/python3.6/site-packages (from mlxtend) (0.20.3)\nCollecting scipy>=1.2.1\n\u001b[?25l  Downloading https://files.pythonhosted.org/packages/dc/29/162476fd44203116e7980cfbd9352eef9db37c49445d1fec35509022f6aa/scipy-1.4.1-cp36-cp36m-manylinux1_x86_64.whl (26.1MB)\n\u001b[K     |████████████████████████████████| 26.1MB 25kB/s  eta 0:00:01    |████                            | 3.2MB 7.8MB/s eta 0:00:03     |██████████████▎                 | 11.6MB 165kB/s eta 0:01:28/s eta 0:01:10█████████████████████████     | 22.0MB 2.7MB/s eta 0:00:02ta 0:00:01\n\u001b[?25hRequirement already satisfied: pytz>=2017.2 in /home/nbuser/anaconda3_501/lib/python3.6/site-packages (from pandas>=0.24.2->mlxtend) (2019.3)\nRequirement already satisfied: python-dateutil>=2.6.1 in /home/nbuser/anaconda3_501/lib/python3.6/site-packages (from pandas>=0.24.2->mlxtend) (2.8.1)\nRequirement already satisfied: cycler>=0.10 in /home/nbuser/anaconda3_501/lib/python3.6/site-packages (from matplotlib>=3.0.0->mlxtend) (0.10.0)\nRequirement already satisfied: kiwisolver>=1.0.1 in /home/nbuser/anaconda3_501/lib/python3.6/site-packages (from matplotlib>=3.0.0->mlxtend) (1.0.1)\nRequirement already satisfied: pyparsing!=2.0.4,!=2.1.2,!=2.1.6,>=2.0.1 in /home/nbuser/anaconda3_501/lib/python3.6/site-packages (from matplotlib>=3.0.0->mlxtend) (2.3.0)\nRequirement already satisfied: six>=1.5 in /home/nbuser/anaconda3_501/lib/python3.6/site-packages (from python-dateutil>=2.6.1->pandas>=0.24.2->mlxtend) (1.11.0)\n\u001b[31mERROR: scikit-image 0.16.2 has requirement matplotlib!=3.0.0,>=2.0.0, but you'll have matplotlib 3.0.0 which is incompatible.\u001b[0m\n\u001b[31mERROR: azureml-train-automl 1.0.72 has requirement onnxmltools==1.4.1, but you'll have onnxmltools 1.6.0 which is incompatible.\u001b[0m\n\u001b[31mERROR: azureml-train-automl 1.0.72 has requirement pandas<=0.23.4,>=0.21.0, but you'll have pandas 1.0.4 which is incompatible.\u001b[0m\n\u001b[31mERROR: azureml-train-automl 1.0.72 has requirement scipy<=1.1.0,>=1.0.0, but you'll have scipy 1.4.1 which is incompatible.\u001b[0m\n\u001b[31mERROR: azureml-opendatasets 1.0.72.1 has requirement pandas<=0.23.4,>=0.21.0, but you'll have pandas 1.0.4 which is incompatible.\u001b[0m\n\u001b[31mERROR: azureml-opendatasets 1.0.72.1 has requirement scipy<=1.1.0,>=1.0.0, but you'll have scipy 1.4.1 which is incompatible.\u001b[0m\n\u001b[31mERROR: azureml-automl-core 1.0.72.1 has requirement onnxmltools==1.4.1, but you'll have onnxmltools 1.6.0 which is incompatible.\u001b[0m\n\u001b[31mERROR: azureml-automl-core 1.0.72.1 has requirement pandas<=0.23.4,>=0.21.0, but you'll have pandas 1.0.4 which is incompatible.\u001b[0m\n\u001b[31mERROR: azureml-automl-core 1.0.72.1 has requirement scipy<=1.1.0,>=1.0.0, but you'll have scipy 1.4.1 which is incompatible.\u001b[0m\nInstalling collected packages: pandas, scipy, mlxtend\n  Found existing installation: pandas 0.23.4\n    Uninstalling pandas-0.23.4:\n      Successfully uninstalled pandas-0.23.4\n  Found existing installation: scipy 1.1.0\n    Uninstalling scipy-1.1.0:\n      Successfully uninstalled scipy-1.1.0\nSuccessfully installed mlxtend-0.17.2 pandas-1.0.4 scipy-1.4.1\n\u001b[33mWARNING: You are using pip version 19.3.1; however, version 20.1.1 is available.\nYou should consider upgrading via the 'pip install --upgrade pip' command.\u001b[0m\n",
          "name": "stdout"
        }
      ]
    },
    {
      "metadata": {
        "trusted": true
      },
      "cell_type": "code",
      "source": "import pandas as pd\nfrom mlxtend.frequent_patterns import apriori\nfrom mlxtend.frequent_patterns import association_rules",
      "execution_count": 7,
      "outputs": []
    },
    {
      "metadata": {
        "trusted": true
      },
      "cell_type": "code",
      "source": "df = pd.read_excel(\"/home/nbuser/Retail Sales.xlsx\")\ndf.head()",
      "execution_count": 8,
      "outputs": [
        {
          "output_type": "execute_result",
          "execution_count": 8,
          "data": {
            "text/html": "<div>\n<style scoped>\n    .dataframe tbody tr th:only-of-type {\n        vertical-align: middle;\n    }\n\n    .dataframe tbody tr th {\n        vertical-align: top;\n    }\n\n    .dataframe thead th {\n        text-align: right;\n    }\n</style>\n<table border=\"1\" class=\"dataframe\">\n  <thead>\n    <tr style=\"text-align: right;\">\n      <th></th>\n      <th>InvoiceNo</th>\n      <th>StockCode</th>\n      <th>Description</th>\n      <th>Quantity</th>\n      <th>InvoiceDate</th>\n      <th>UnitPrice</th>\n      <th>CustomerID</th>\n      <th>Country</th>\n    </tr>\n  </thead>\n  <tbody>\n    <tr>\n      <th>0</th>\n      <td>536365</td>\n      <td>85123A</td>\n      <td>WHITE HANGING HEART T-LIGHT HOLDER</td>\n      <td>6</td>\n      <td>2010-12-01 08:26:00</td>\n      <td>2.55</td>\n      <td>17850.0</td>\n      <td>United Kingdom</td>\n    </tr>\n    <tr>\n      <th>1</th>\n      <td>536365</td>\n      <td>71053</td>\n      <td>WHITE METAL LANTERN</td>\n      <td>6</td>\n      <td>2010-12-01 08:26:00</td>\n      <td>3.39</td>\n      <td>17850.0</td>\n      <td>United Kingdom</td>\n    </tr>\n    <tr>\n      <th>2</th>\n      <td>536365</td>\n      <td>84406B</td>\n      <td>CREAM CUPID HEARTS COAT HANGER</td>\n      <td>8</td>\n      <td>2010-12-01 08:26:00</td>\n      <td>2.75</td>\n      <td>17850.0</td>\n      <td>United Kingdom</td>\n    </tr>\n    <tr>\n      <th>3</th>\n      <td>536365</td>\n      <td>84029G</td>\n      <td>KNITTED UNION FLAG HOT WATER BOTTLE</td>\n      <td>6</td>\n      <td>2010-12-01 08:26:00</td>\n      <td>3.39</td>\n      <td>17850.0</td>\n      <td>United Kingdom</td>\n    </tr>\n    <tr>\n      <th>4</th>\n      <td>536365</td>\n      <td>84029E</td>\n      <td>RED WOOLLY HOTTIE WHITE HEART.</td>\n      <td>6</td>\n      <td>2010-12-01 08:26:00</td>\n      <td>3.39</td>\n      <td>17850.0</td>\n      <td>United Kingdom</td>\n    </tr>\n  </tbody>\n</table>\n</div>",
            "text/plain": "  InvoiceNo StockCode                          Description  Quantity  \\\n0    536365    85123A   WHITE HANGING HEART T-LIGHT HOLDER         6   \n1    536365     71053                  WHITE METAL LANTERN         6   \n2    536365    84406B       CREAM CUPID HEARTS COAT HANGER         8   \n3    536365    84029G  KNITTED UNION FLAG HOT WATER BOTTLE         6   \n4    536365    84029E       RED WOOLLY HOTTIE WHITE HEART.         6   \n\n          InvoiceDate  UnitPrice  CustomerID         Country  \n0 2010-12-01 08:26:00       2.55     17850.0  United Kingdom  \n1 2010-12-01 08:26:00       3.39     17850.0  United Kingdom  \n2 2010-12-01 08:26:00       2.75     17850.0  United Kingdom  \n3 2010-12-01 08:26:00       3.39     17850.0  United Kingdom  \n4 2010-12-01 08:26:00       3.39     17850.0  United Kingdom  "
          },
          "metadata": {}
        }
      ]
    },
    {
      "metadata": {
        "trusted": true
      },
      "cell_type": "code",
      "source": "df.shape\n",
      "execution_count": null,
      "outputs": []
    },
    {
      "metadata": {
        "trusted": true
      },
      "cell_type": "code",
      "source": "df.isnull().sum()",
      "execution_count": null,
      "outputs": []
    },
    {
      "metadata": {
        "trusted": true
      },
      "cell_type": "code",
      "source": "df.dtypes",
      "execution_count": null,
      "outputs": []
    },
    {
      "metadata": {
        "trusted": true
      },
      "cell_type": "code",
      "source": "# Stripping spaces in the description column\ndf['Description'] = df['Description'].str.strip()\n# Dropping rows that doesn't contain involice numbers\ndf.dropna(axis = 0, subset=['InvoiceNo'], inplace = True)\ndf['InvoiceNo'] = df['InvoiceNo'].astype('str')\n# Remove credit transactions\ndf = df[~df['InvoiceNo'].str.contains('C')]",
      "execution_count": null,
      "outputs": []
    },
    {
      "metadata": {
        "trusted": true
      },
      "cell_type": "code",
      "source": "df.groupby('Country').count().reset_index().sort_values('InvoiceNo', ascending = False).head()",
      "execution_count": null,
      "outputs": []
    },
    {
      "metadata": {},
      "cell_type": "markdown",
      "source": "* 1-hot encoding : This is the process pf consolidating items into one transaction per row.\n\n* This can be done manually like below, or via the mlxtend.\n\n* The one-hot encoding from mxltend encodes transaction data in form of a Python list into a NumPy integer array.\n\n* The colums represent unique items present in the input array, and rows represent the individual transactions.\n\n* Before proceeding with the 1-hot encoding, let us see the number of transactions by country"
    },
    {
      "metadata": {
        "trusted": true
      },
      "cell_type": "code",
      "source": "Basket = (df[df['Country']==\"Germany\"]\n          .groupby(['InvoiceNo', 'Description'])['Quantity']\n          .sum().unstack().reset_index().fillna(0)\n          .set_index('InvoiceNo'))\n\nBasket.head()",
      "execution_count": null,
      "outputs": []
    },
    {
      "metadata": {
        "trusted": true
      },
      "cell_type": "code",
      "source": "def sum_to_boolean(x):\n    if x<=0:\n        return 0\n    else:\n        return 1\n\nBasket_Final = Basket.applymap(sum_to_boolean)",
      "execution_count": null,
      "outputs": []
    },
    {
      "metadata": {
        "trusted": true
      },
      "cell_type": "code",
      "source": "\nBasket_Final.drop('POSTAGE', inplace=True, axis=1)\n\nBasket_Final.head()",
      "execution_count": null,
      "outputs": []
    },
    {
      "metadata": {
        "trusted": true
      },
      "cell_type": "code",
      "source": "## Apriori to select the most important itemsets\nFrequent_itemsets = apriori(Basket_Final, min_support = 0.06, use_colnames = True)\n\nFrequent_itemsets.sort_values('support', ascending = False).head()",
      "execution_count": null,
      "outputs": []
    },
    {
      "metadata": {
        "trusted": true
      },
      "cell_type": "code",
      "source": "Asso_Rules = association_rules(Frequent_itemsets, metric = \"lift\", min_threshold = 1)\nAsso_Rules.sort_values('lift',ascending = False)",
      "execution_count": null,
      "outputs": []
    },
    {
      "metadata": {},
      "cell_type": "markdown",
      "source": "### Purchase behaviour in UK:"
    },
    {
      "metadata": {
        "trusted": true
      },
      "cell_type": "code",
      "source": "Basket_France = (df[df['Country']==\"France\"]\n          .groupby(['InvoiceNo', 'Description'])['Quantity']\n          .sum().unstack().reset_index().fillna(0)\n          .set_index('InvoiceNo'))\n\ndef sum_to_boolean(x):\n    if x<=0:\n        return 0\n    else:\n        return 1\n\nBasket_Final_France = Basket_France.applymap(sum_to_boolean)\nFrequent_itemsets_France = apriori(Basket_Final_France, min_support = 0.06, use_colnames = True)\n\nAsso_Rules_France = association_rules(Frequent_itemsets_France, metric = \"lift\", min_threshold = 1)\nAsso_Rules_France.sort_values('lift',ascending = False).head()",
      "execution_count": null,
      "outputs": []
    }
  ],
  "metadata": {
    "kernelspec": {
      "name": "python36",
      "display_name": "Python 3.6",
      "language": "python"
    },
    "language_info": {
      "mimetype": "text/x-python",
      "nbconvert_exporter": "python",
      "name": "python",
      "pygments_lexer": "ipython3",
      "version": "3.6.6",
      "file_extension": ".py",
      "codemirror_mode": {
        "version": 3,
        "name": "ipython"
      }
    }
  },
  "nbformat": 4,
  "nbformat_minor": 2
}